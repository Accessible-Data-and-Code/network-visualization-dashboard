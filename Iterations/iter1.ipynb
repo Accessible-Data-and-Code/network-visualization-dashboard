{
 "cells": [
  {
   "cell_type": "markdown",
   "id": "4fd7a45a-1f5d-4888-9c3b-4f02af51f08f",
   "metadata": {},
   "source": [
    "## Iteration 1: Base + Playing with UI"
   ]
  },
  {
   "cell_type": "code",
   "execution_count": 2,
   "id": "b72e3a10-cb6a-426f-b91c-4407bada2695",
   "metadata": {},
   "outputs": [],
   "source": [
    "#| default_exp graph"
   ]
  },
  {
   "cell_type": "code",
   "execution_count": 22,
   "id": "4e880a93-ee94-4241-b180-263e35e45b4f",
   "metadata": {},
   "outputs": [],
   "source": [
    "#| export \n",
    "class Author:\n",
    "    def __init__(self, first, middle, last, email=None, publications=[]):\n",
    "        self.first = first\n",
    "        self.middle = middle\n",
    "        self.last = last\n",
    "        self.email = email\n",
    "        self.publications = publications"
   ]
  },
  {
   "cell_type": "code",
   "execution_count": 4,
   "id": "c5f6f277-64f4-48a0-8e87-5d8d0f5c3558",
   "metadata": {},
   "outputs": [
    {
     "data": {
      "text/plain": [
       "<__main__.Author at 0x12822a2d0>"
      ]
     },
     "execution_count": 4,
     "metadata": {},
     "output_type": "execute_result"
    }
   ],
   "source": [
    "author = Author('Nicole', 'F', 'Brewer')\n",
    "author"
   ]
  },
  {
   "cell_type": "code",
   "execution_count": 5,
   "id": "71bc789e-6334-4550-a828-b25c158900c0",
   "metadata": {},
   "outputs": [],
   "source": [
    "#| export \n",
    "import pprint"
   ]
  },
  {
   "cell_type": "markdown",
   "id": "7158f348-6d62-4f4c-8b39-341de0a66fa1",
   "metadata": {},
   "source": [
    "Okay, let's write out this function first before making it part of the class."
   ]
  },
  {
   "cell_type": "code",
   "execution_count": 6,
   "id": "017795fa-c704-4f4a-b332-c8b9a3b77164",
   "metadata": {},
   "outputs": [],
   "source": [
    "def __repr__(self):\n",
    "    return pprint.pformat(vars(self))"
   ]
  },
  {
   "cell_type": "code",
   "execution_count": 7,
   "id": "1e87a107-75d2-43dd-ad4a-782d4382906e",
   "metadata": {},
   "outputs": [
    {
     "data": {
      "text/plain": [
       "\"{'email': None,\\n 'first': 'Nicole',\\n 'last': 'Brewer',\\n 'middle': 'F',\\n 'publications': []}\""
      ]
     },
     "execution_count": 7,
     "metadata": {},
     "output_type": "execute_result"
    }
   ],
   "source": [
    "pprint.pformat(vars(author))"
   ]
  },
  {
   "cell_type": "code",
   "execution_count": 8,
   "id": "22b136e2-d266-440f-90b9-13a765f01af3",
   "metadata": {},
   "outputs": [
    {
     "name": "stdout",
     "output_type": "stream",
     "text": [
      "{'email': None,\n",
      " 'first': 'Nicole',\n",
      " 'last': 'Brewer',\n",
      " 'middle': 'F',\n",
      " 'publications': []}\n"
     ]
    }
   ],
   "source": [
    "print(__repr__(author))"
   ]
  },
  {
   "cell_type": "markdown",
   "id": "77b33c7a-df9d-426c-96c4-8b7e04000271",
   "metadata": {},
   "source": [
    "That looks good! We won't use this for our app, but it's handy to see when we're developing."
   ]
  },
  {
   "cell_type": "markdown",
   "id": "9188554e-15c0-42c4-a496-3bbef2f4a415",
   "metadata": {},
   "source": [
    "## patch\n",
    "\n",
    "In order to add this function to the author object without having to return to a prior cell, we need to use a handy fastai utility. Let's see how that works. We will need to import the `@patch` decorator which tells tells the notebook processor that the function we write is intended to extend a class."
   ]
  },
  {
   "cell_type": "code",
   "execution_count": 9,
   "id": "1011f870-1a15-4103-b2d8-e8b3fba39f7e",
   "metadata": {},
   "outputs": [],
   "source": [
    "#| export\n",
    "from fastcore.basics import patch"
   ]
  },
  {
   "cell_type": "markdown",
   "id": "a6dcdc8d-2757-48b1-b47a-8b5b562417c1",
   "metadata": {},
   "source": [
    "Patch"
   ]
  },
  {
   "cell_type": "code",
   "execution_count": 10,
   "id": "fc345648-20ef-4369-bcb9-81004679dea7",
   "metadata": {},
   "outputs": [],
   "source": [
    "#| export\n",
    "# two things need to be added to create a patch for Author\n",
    "@patch\n",
    "def __repr__(self:Author):\n",
    "    return pprint.pformat(vars(self))"
   ]
  },
  {
   "cell_type": "markdown",
   "id": "3befbb77-3269-486d-8c7b-2ee28bb8e717",
   "metadata": {},
   "source": [
    "Great job! We should start by creating a few `Author` objects. In the process we can verify that our patch worked."
   ]
  },
  {
   "cell_type": "code",
   "execution_count": 11,
   "id": "ab1ab3fb-da13-4457-bd11-8711fa790dee",
   "metadata": {},
   "outputs": [
    {
     "data": {
      "text/plain": [
       "{'email': None,\n",
       " 'first': 'E',\n",
       " 'last': 'Gerard',\n",
       " 'middle': 'F',\n",
       " 'publications': [4, 11, 12]}"
      ]
     },
     "execution_count": 11,
     "metadata": {},
     "output_type": "execute_result"
    }
   ],
   "source": [
    "a1 = Author('A', 'B', 'Carlson', publications = [1,2,3])\n",
    "a2 = Author('B', 'C', 'Dawson', publications = [3, 4, 5 ,6])\n",
    "a3 = Author('C', 'D', 'Elfson', publications = [1, 5, 7, 8])\n",
    "a4 = Author('D', 'E', 'Fitzgerald', publications = [1, 5, 9, 10])\n",
    "a5 = Author('E', 'F', 'Gerard', publications = [4, 11, 12])\n",
    "a5"
   ]
  },
  {
   "cell_type": "code",
   "execution_count": 12,
   "id": "7bb9e974-88f8-4d38-8abd-94a6c1fa316a",
   "metadata": {},
   "outputs": [],
   "source": [
    "authors = [a1, a2, a3, a4, a5]"
   ]
  },
  {
   "cell_type": "markdown",
   "id": "35c9c717-d1da-4a33-8c54-12fc34930c30",
   "metadata": {},
   "source": [
    "Now let's use NetworkX to create a graph `G`."
   ]
  },
  {
   "cell_type": "code",
   "execution_count": 13,
   "id": "6332e88b-bfa8-47e4-b9d6-5c2917f2b4bf",
   "metadata": {},
   "outputs": [],
   "source": [
    "import networkx as nx\n",
    "\n",
    "G = nx.Graph()"
   ]
  },
  {
   "cell_type": "markdown",
   "id": "27b9b5eb-7c2e-4e2f-86aa-f7e1b24ccda7",
   "metadata": {},
   "source": [
    "Now let's add our `Author` objects as nodes on the graph. We can add nodes individually."
   ]
  },
  {
   "cell_type": "code",
   "execution_count": 14,
   "id": "36096d47-28e9-4ad6-8075-c7e430983d38",
   "metadata": {},
   "outputs": [],
   "source": [
    "G.add_node(a1)"
   ]
  },
  {
   "cell_type": "markdown",
   "id": "08d59d22-98cc-4329-aeb2-105ac0ede683",
   "metadata": {},
   "source": [
    "Or with any iterable (like a list) with the function `add_nodes_from`."
   ]
  },
  {
   "cell_type": "code",
   "execution_count": 15,
   "id": "1feae59d-2283-4763-b1a6-7aef2523fbc4",
   "metadata": {},
   "outputs": [],
   "source": [
    "G.add_nodes_from(authors)"
   ]
  },
  {
   "cell_type": "markdown",
   "id": "b93326ef-53d9-49ef-b157-c4590b76c09b",
   "metadata": {},
   "source": [
    "**Note**: if you add the same node or edge more than once, NetworkX quietly ignores any that are already present. That's good for us."
   ]
  },
  {
   "cell_type": "markdown",
   "id": "8689acfd-aea9-4288-bfce-8ed62bc5502b",
   "metadata": {},
   "source": [
    "Let's see what we have so far."
   ]
  },
  {
   "cell_type": "code",
   "execution_count": 16,
   "id": "a39c3047-70ba-482f-8cfa-bc1116548ad5",
   "metadata": {},
   "outputs": [
    {
     "data": {
      "text/plain": [
       "NodeView(({'email': None,\n",
       " 'first': 'A',\n",
       " 'last': 'Carlson',\n",
       " 'middle': 'B',\n",
       " 'publications': [1, 2, 3]}, {'email': None,\n",
       " 'first': 'B',\n",
       " 'last': 'Dawson',\n",
       " 'middle': 'C',\n",
       " 'publications': [3, 4, 5, 6]}, {'email': None,\n",
       " 'first': 'C',\n",
       " 'last': 'Elfson',\n",
       " 'middle': 'D',\n",
       " 'publications': [1, 5, 7, 8]}, {'email': None,\n",
       " 'first': 'D',\n",
       " 'last': 'Fitzgerald',\n",
       " 'middle': 'E',\n",
       " 'publications': [1, 5, 9, 10]}, {'email': None,\n",
       " 'first': 'E',\n",
       " 'last': 'Gerard',\n",
       " 'middle': 'F',\n",
       " 'publications': [4, 11, 12]}))"
      ]
     },
     "execution_count": 16,
     "metadata": {},
     "output_type": "execute_result"
    }
   ],
   "source": [
    "G.nodes"
   ]
  },
  {
   "cell_type": "code",
   "execution_count": null,
   "id": "fd9a609e-4575-480c-bcaa-3cd5ed8bc9ca",
   "metadata": {},
   "outputs": [],
   "source": []
  },
  {
   "cell_type": "code",
   "execution_count": 31,
   "id": "f28e91d8-f41a-4a94-bf7d-c3872413c93a",
   "metadata": {},
   "outputs": [
    {
     "name": "stdout",
     "output_type": "stream",
     "text": [
      "Match found between a1 and a2 for publication 3\n",
      "Match found between a1 and a3 for publication 1\n",
      "Match found between a1 and a4 for publication 1\n",
      "Match found between a2 and a3 for publication 5\n",
      "Match found between a2 and a4 for publication 5\n",
      "Match found between a2 and a5 for publication 4\n",
      "Match found between a3 and a4 for publication 1\n",
      "Match found between a3 and a4 for publication 5\n"
     ]
    }
   ],
   "source": [
    "#| export\n",
    "\n",
    "for index_a in range(len(authors)):\n",
    "    for index_b in range(index_a + 1, len(authors)):\n",
    "        author_a = authors[index_a]\n",
    "        author_b = authors[index_b]\n",
    "        \n",
    "        for publication_a in author_a.publications:\n",
    "            for publication_b in author_b.publications:\n",
    "                if publication_a == publication_b:\n",
    "                    G.add_edge(author_a, author_b)\n",
    "                    print(f\"Match found between a{index_a+1} and a{index_b+1} for publication {publication_a}\")"
   ]
  },
  {
   "cell_type": "code",
   "execution_count": 33,
   "id": "88043c17-c5f0-48d7-afe5-5b8fece24d20",
   "metadata": {},
   "outputs": [],
   "source": [
    "#G.edges"
   ]
  },
  {
   "cell_type": "code",
   "execution_count": 34,
   "id": "225b9972-eff5-4f64-b673-67eef547dd6a",
   "metadata": {},
   "outputs": [
    {
     "data": {
      "image/png": "[encoded data removed]",
      "text/plain": [
       "<Figure size 640x480 with 1 Axes>"
      ]
     },
     "metadata": {},
     "output_type": "display_data"
    }
   ],
   "source": [
    "import matplotlib.pyplot as plt\n",
    "import networkx as nx\n",
    "\n",
    "# Create the graph\n",
    "G = nx.Graph()\n",
    "\n",
    "# Add nodes to the graph\n",
    "for author in authors:\n",
    "    G.add_node(author)\n",
    "\n",
    "# Add edges to the graph based on publication matches\n",
    "for index_a in range(len(authors)):\n",
    "    for index_b in range(index_a + 1, len(authors)):\n",
    "        author_a = authors[index_a]\n",
    "        author_b = authors[index_b]\n",
    "\n",
    "        for publication_a in author_a.publications:\n",
    "            for publication_b in author_b.publications:\n",
    "                if publication_a == publication_b:\n",
    "                    G.add_edge(author_a, author_b)\n",
    "\n",
    "# Create the visualization\n",
    "pos = nx.spring_layout(G)  # Define the layout for node positioning\n",
    "labels = {author: f\"{author.first} {author.last}\" for author in G.nodes()}  # Create labels for the nodes\n",
    "\n",
    "# Draw the nodes and edges\n",
    "nx.draw_networkx_nodes(G, pos, node_color='lightblue', node_size=500)\n",
    "nx.draw_networkx_edges(G, pos, width=1)\n",
    "nx.draw_networkx_labels(G, pos, labels, font_size=10, font_color='black')\n",
    "\n",
    "# Display the graph\n",
    "plt.title(\"Author Network\")\n",
    "plt.axis('off')  # Hide the axis\n",
    "plt.show()\n"
   ]
  },
  {
   "cell_type": "code",
   "execution_count": 35,
   "id": "3e9d1d48-e94e-4929-93d4-c69839e380c4",
   "metadata": {},
   "outputs": [
    {
     "data": {
      "text/plain": [
       "<__main__.Author at 0x12c8da310>"
      ]
     },
     "execution_count": 35,
     "metadata": {},
     "output_type": "execute_result"
    }
   ],
   "source": [
    "a1 = Author('A', 'B', 'Carlson', publications = [1,2,3])\n",
    "a2 = Author('B', 'C', 'Dawson', publications = [3, 4, 5 ,6])\n",
    "a3 = Author('C', 'D', 'Elfson', publications = [1, 5, 7, 8])\n",
    "a4 = Author('D', 'E', 'Fitzgerald', publications = [1, 5, 9, 10])\n",
    "a5 = Author('E', 'F', 'Gerard', publications = [4, 11, 12])\n",
    "a5"
   ]
  },
  {
   "cell_type": "markdown",
   "id": "831f0f4c-98a2-4da3-add0-6e38d012efc6",
   "metadata": {},
   "source": [
    "## Plotting\n",
    "\n",
    "You probably want to do more advanced plotting in a plotting notebook, but we can at least view what we have so far for fun!"
   ]
  },
  {
   "cell_type": "code",
   "execution_count": 113,
   "id": "ed9403a5-d18f-4a40-8f18-cfd4d0f8e973",
   "metadata": {},
   "outputs": [
    {
     "data": {
      "application/vnd.jupyter.widget-view+json": {
       "model_id": "20470334b64d4f2fb34fd8eeba5e0897",
       "version_major": 2,
       "version_minor": 0
      },
      "text/plain": [
       "CytoscapeWidget(cytoscape_layout={'name': 'cola'}, cytoscape_style=[{'selector': 'node', 'css': {'background-c…"
      ]
     },
     "execution_count": 113,
     "metadata": {},
     "output_type": "execute_result"
    }
   ],
   "source": [
    "from ipycytoscape import CytoscapeWidget\n",
    "\n",
    "cyto = CytoscapeWidget()\n",
    "cyto.graph.add_graph_from_networkx(G)\n",
    "cyto"
   ]
  },
  {
   "cell_type": "markdown",
   "id": "19629168-62a6-47b1-ad43-c00f466506f3",
   "metadata": {},
   "source": [
    "## Export to `dashboard` pkg\n",
    "\n",
    "Let's use the nbdev_export function to export this notebook to a package called `dashboard`. You will need to add parameters to the function below."
   ]
  },
  {
   "cell_type": "code",
   "execution_count": 107,
   "id": "c7bbab39-5199-407d-a003-214a570a3cb5",
   "metadata": {},
   "outputs": [],
   "source": [
    "from nbdev.export import nb_export\n",
    "\n",
    "nb_export('create_graph.ipynb', 'dashboard')"
   ]
  },
  {
   "cell_type": "markdown",
   "id": "8e250483-68c8-465a-a0db-dfa2264686b5",
   "metadata": {},
   "source": [
    "## Dashboard"
   ]
  },
  {
   "cell_type": "code",
   "execution_count": 10,
   "id": "2e1be683-47f2-4f08-8670-04046298152a",
   "metadata": {},
   "outputs": [],
   "source": [
    "import ipywidgets as widgets"
   ]
  },
  {
   "cell_type": "code",
   "execution_count": 12,
   "id": "29f0eb0b-fc22-4f02-8792-19f1bfbda1bf",
   "metadata": {},
   "outputs": [
    {
     "data": {
      "application/vnd.jupyter.widget-view+json": {
       "model_id": "ce838fae932e4f308d274bd5eb4cb6ef",
       "version_major": 2,
       "version_minor": 0
      },
      "text/plain": [
       "DataSelectionPage(children=(VBox(children=(Button(description='Select data', style=ButtonStyle()), Button(desc…"
      ]
     },
     "execution_count": 12,
     "metadata": {},
     "output_type": "execute_result"
    }
   ],
   "source": [
    "class DataSelectionPage(widgets.Tab):\n",
    "    def __init__(self):\n",
    "        super().__init__()\n",
    "\n",
    "        # Create buttons and widgets\n",
    "        self.select_data_button = widgets.Button(description='Select data')\n",
    "        self.show_raw_data_button = widgets.Button(description='Show raw data')\n",
    "        self.visualization_button = widgets.Button(description='Visualize dataframe')\n",
    "        self.filtering_button = widgets.Button(description='Filtering and Searching')\n",
    "        self.proceed_button = widgets.Button(description='Proceed')\n",
    "\n",
    "        # Set default options\n",
    "        self.dataframe_entries_limit = widgets.Dropdown(\n",
    "            options=[10, 50, 100],\n",
    "            value=10,\n",
    "            description='Entries limit:'\n",
    "        )\n",
    "\n",
    "        self.binary_properties_toggle = widgets.ToggleButtons(\n",
    "            options=['On', 'Off'],\n",
    "            value='Off',\n",
    "            description='Binary properties:'\n",
    "        )\n",
    "\n",
    "        # Arrange widgets\n",
    "        self.box1 = widgets.VBox([\n",
    "            self.select_data_button,\n",
    "            self.show_raw_data_button,\n",
    "            self.visualization_button\n",
    "        ])\n",
    "\n",
    "        self.box2 = widgets.VBox([\n",
    "            self.dataframe_entries_limit,\n",
    "            self.binary_properties_toggle,\n",
    "            self.filtering_button\n",
    "        ])\n",
    "\n",
    "        self.box3 = widgets.VBox([self.proceed_button])\n",
    "\n",
    "        self.children = [self.box1, self.box2, self.box3]\n",
    "\n",
    "        # Set button click events\n",
    "        self.select_data_button.on_click(self.select_data)\n",
    "        self.show_raw_data_button.on_click(self.show_raw_data)\n",
    "        self.visualization_button.on_click(self.visualize_data)\n",
    "        self.filtering_button.on_click(self.filter_data)\n",
    "        self.proceed_button.on_click(self.proceed)\n",
    "\n",
    "    def select_data(self, button):\n",
    "        # Perform data selection here\n",
    "        print(\"Data selection\")\n",
    "\n",
    "    def show_raw_data(self, button):\n",
    "        # Perform raw data display here\n",
    "        print(\"Showing raw data\")\n",
    "\n",
    "    def visualize_data(self, button):\n",
    "        # Perform data visualization logic\n",
    "        print(\"Visualizing dataframe\")\n",
    "\n",
    "    def filter_data(self, button):\n",
    "        # Perform filtering and searching logic\n",
    "        print(\"Filtering and searching\")\n",
    "\n",
    "    def proceed(self, button):\n",
    "        # Perform data preprocessing logic here\n",
    "        print(\"Proceeding with data preprocessing\")\n",
    "        # Check if there are a lot of entries and show JSAlert if necessary\n",
    "        if self.dataframe_entries_limit.value > 100:\n",
    "            print(\"There are a lot of entries. Please be patient.\")\n",
    "\n",
    "\n",
    "# Create an instance of the DataSelectionPage\n",
    "page = DataSelectionPage()\n",
    "\n",
    "# Display the page\n",
    "page\n"
   ]
  },
  {
   "cell_type": "code",
   "execution_count": null,
   "id": "b0d8162c-913a-42f6-9db4-3f4dcd406a11",
   "metadata": {},
   "outputs": [],
   "source": []
  },
  {
   "cell_type": "code",
   "execution_count": null,
   "id": "95cdd92b-ff99-40b0-967e-c6741500e49f",
   "metadata": {},
   "outputs": [],
   "source": []
  }
 ],
 "metadata": {
  "kernelspec": {
   "display_name": "Python 3 (ipykernel)",
   "language": "python",
   "name": "python3"
  },
  "language_info": {
   "codemirror_mode": {
    "name": "ipython",
    "version": 3
   },
   "file_extension": ".py",
   "mimetype": "text/x-python",
   "name": "python",
   "nbconvert_exporter": "python",
   "pygments_lexer": "ipython3",
   "version": "3.11.3"
  }
 },
 "nbformat": 4,
 "nbformat_minor": 5
}
