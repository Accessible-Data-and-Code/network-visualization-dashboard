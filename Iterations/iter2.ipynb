{
 "cells": [
  {
   "cell_type": "markdown",
   "id": "39b6a6cd-255a-42fb-9c47-008b2280c83a",
   "metadata": {},
   "source": [
    "## Iteration 2: Base + Playing with UI v.2 (Simple)"
   ]
  },
  {
   "cell_type": "code",
   "execution_count": 1,
   "id": "791a43c8-1ef7-4762-9549-60c3dc6822e6",
   "metadata": {},
   "outputs": [
    {
     "data": {
      "application/vnd.jupyter.widget-view+json": {
       "model_id": "f311ba1f36cf4485bfb93bc8ca5f575e",
       "version_major": 2,
       "version_minor": 0
      },
      "text/plain": [
       "VBox(children=(Dropdown(description='Select Entry Limit:', options=(1, 2, 3, 5), value=1), Button(description=…"
      ]
     },
     "execution_count": 1,
     "metadata": {},
     "output_type": "execute_result"
    }
   ],
   "source": [
    "import ipywidgets as widgets\n",
    "\n",
    "def update_entry_limit(change):\n",
    "    selected_limit = dropdown.value\n",
    "    # Perform any necessary actions based on the selected limit\n",
    "    print(f\"Selected entry limit: {selected_limit}\")\n",
    "\n",
    "# Create the dropdown widget\n",
    "entry_limit_options = [1, 2, 3, 5]\n",
    "dropdown = widgets.Dropdown(options=entry_limit_options, value=entry_limit_options[0], description='Select Entry Limit:')\n",
    "\n",
    "# Create the button widget\n",
    "update_button = widgets.Button(description='Update')\n",
    "\n",
    "# Register the event handler for the button click\n",
    "update_button.on_click(update_entry_limit)\n",
    "\n",
    "# Display the widgets\n",
    "widgets.VBox([dropdown, update_button])\n"
   ]
  },
  {
   "cell_type": "code",
   "execution_count": 9,
   "id": "88adcc26-12f1-4c7b-8fde-03ad4a23104c",
   "metadata": {},
   "outputs": [
    {
     "name": "stdout",
     "output_type": "stream",
     "text": [
      "Match found between a1 and a2 for publication 3\n",
      "Match found between a1 and a3 for publication 1\n",
      "Match found between a1 and a4 for publication 1\n",
      "Match found between a2 and a3 for publication 5\n",
      "Match found between a2 and a4 for publication 5\n",
      "Match found between a2 and a5 for publication 4\n",
      "Match found between a3 and a4 for publication 1\n",
      "Match found between a3 and a4 for publication 5\n"
     ]
    }
   ],
   "source": [
    "import pprint\n",
    "from fastcore.basics import patch\n",
    "import networkx as nx\n",
    "\n",
    "class Author:\n",
    "    def __init__(self, first, middle, last, email=None, publications=[]):\n",
    "        self.first = first\n",
    "        self.middle = middle\n",
    "        self.last = last\n",
    "        self.email = email\n",
    "        self.publications = publications\n",
    "\n",
    "\n",
    "author = Author('Nicole', 'F', 'Brewer')\n",
    "\n",
    "\n",
    "a1 = Author('A', 'B', 'Carlson', publications = [1,2,3])\n",
    "a2 = Author('B', 'C', 'Dawson', publications = [3, 4, 5 ,6])\n",
    "a3 = Author('C', 'D', 'Elfson', publications = [1, 5, 7, 8])\n",
    "a4 = Author('D', 'E', 'Fitzgerald', publications = [1, 5, 9, 10])\n",
    "a5 = Author('E', 'F', 'Gerard', publications = [4, 11, 12])\n",
    "a5\n",
    "\n",
    "authors = [a1, a2, a3, a4, a5]\n",
    "\n",
    "G = nx.Graph()\n",
    "\n",
    "\n",
    "for index_a in range(len(authors)):\n",
    "    for index_b in range(index_a + 1, len(authors)):\n",
    "        author_a = authors[index_a]\n",
    "        author_b = authors[index_b]\n",
    "        \n",
    "        for publication_a in author_a.publications:\n",
    "            for publication_b in author_b.publications:\n",
    "                if publication_a == publication_b:\n",
    "                    G.add_edge(author_a, author_b)\n",
    "                    print(f\"Match found between a{index_a+1} and a{index_b+1} for publication {publication_a}\")\n"
   ]
  },
  {
   "cell_type": "code",
   "execution_count": 10,
   "id": "6fa280f7-06fc-40bd-8e94-1aa949196081",
   "metadata": {},
   "outputs": [
    {
     "data": {
      "text/plain": [
       "EdgeView([(<__main__.Author object at 0x104f4da10>, <__main__.Author object at 0x105a9ed90>), (<__main__.Author object at 0x104f4da10>, <__main__.Author object at 0x105a9fad0>), (<__main__.Author object at 0x104f4da10>, <__main__.Author object at 0x105a9fc50>), (<__main__.Author object at 0x105a9ed90>, <__main__.Author object at 0x105a9fad0>), (<__main__.Author object at 0x105a9ed90>, <__main__.Author object at 0x105a9fc50>), (<__main__.Author object at 0x105a9ed90>, <__main__.Author object at 0x105a9f4d0>), (<__main__.Author object at 0x105a9fad0>, <__main__.Author object at 0x105a9fc50>)])"
      ]
     },
     "execution_count": 10,
     "metadata": {},
     "output_type": "execute_result"
    }
   ],
   "source": [
    "G.edges"
   ]
  },
  {
   "cell_type": "code",
   "execution_count": null,
   "id": "ddce2549-ba56-4ef9-a363-82ca4a4f87b8",
   "metadata": {},
   "outputs": [],
   "source": []
  }
 ],
 "metadata": {
  "kernelspec": {
   "display_name": "Python 3 (ipykernel)",
   "language": "python",
   "name": "python3"
  },
  "language_info": {
   "codemirror_mode": {
    "name": "ipython",
    "version": 3
   },
   "file_extension": ".py",
   "mimetype": "text/x-python",
   "name": "python",
   "nbconvert_exporter": "python",
   "pygments_lexer": "ipython3",
   "version": "3.11.3"
  }
 },
 "nbformat": 4,
 "nbformat_minor": 5
}
