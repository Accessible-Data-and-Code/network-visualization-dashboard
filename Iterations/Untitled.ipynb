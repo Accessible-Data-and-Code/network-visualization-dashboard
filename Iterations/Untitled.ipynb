{
 "cells": [
  {
   "cell_type": "code",
   "execution_count": 1,
   "id": "ca6c43d1-903c-453e-9ae8-5b681490c8eb",
   "metadata": {},
   "outputs": [],
   "source": [
    "import pprint\n",
    "from fastcore.basics import patch\n",
    "import networkx as nx\n",
    "import matplotlib.pyplot as plt\n",
    "import ipywidgets as widgets\n",
    "import ipycytoscape\n",
    "from ipycytoscape import CytoscapeWidget\n",
    "\n",
    "# Creating Author Class\n",
    "class Author:\n",
    "    def __init__(self, first, middle, last, email=None, publications=[]):\n",
    "        self.first = first\n",
    "        self.middle = middle\n",
    "        self.last = last\n",
    "        self.email = email\n",
    "        self.publications = publications\n",
    "\n",
    "# Make format pretty\n",
    "@patch\n",
    "def __repr__(self:Author):\n",
    "    return pprint.pformat(vars(self))\n",
    "\n",
    "# Mock Dataset\n",
    "a1 = Author('A', 'B', 'Carlson', publications=[1, 2, 3])\n",
    "a2 = Author('B', 'C', 'Dawson', publications=[3, 4, 5, 6])\n",
    "a3 = Author('C', 'D', 'Elfson', publications=[1, 5, 7, 8])\n",
    "a4 = Author('D', 'E', 'Fitzgerald', publications=[1, 5, 9, 10])\n",
    "a5 = Author('E', 'F', 'Gerard', publications=[4, 11, 12])\n",
    "\n",
    "authors = [a1, a2, a3, a4, a5]\n",
    "\n",
    "# Create the graph\n",
    "G = nx.Graph() \n",
    "\n",
    "# Add nodes to the graph (publications)\n",
    "for author in authors:\n",
    "    for publication in author.publications:\n",
    "        G.add_node(publication)\n",
    "\n",
    "# Add edges to the graph based on author connections to publications\n",
    "for index_a in range(len(authors)):\n",
    "    for index_b in range(index_a + 1, len(authors)):\n",
    "        author_a = authors[index_a]\n",
    "        author_b = authors[index_b]\n",
    "\n",
    "        for publication_a in author_a.publications:\n",
    "            for publication_b in author_b.publications:\n",
    "                if publication_a == publication_b:\n",
    "                    G.add_edge(publication_a, publication_b)"
   ]
  },
  {
   "cell_type": "code",
   "execution_count": 2,
   "id": "e91b2b2d-bd3e-457b-951a-61d6a9365152",
   "metadata": {},
   "outputs": [
    {
     "data": {
      "application/vnd.jupyter.widget-view+json": {
       "model_id": "52e582ee8fbe46fc81b87be36e94683c",
       "version_major": 2,
       "version_minor": 0
      },
      "text/plain": [
       "CytoscapeWidget(cytoscape_layout={'name': 'cola'}, cytoscape_style=[{'selector': 'node', 'css': {'background-c…"
      ]
     },
     "execution_count": 2,
     "metadata": {},
     "output_type": "execute_result"
    }
   ],
   "source": [
    "# Create the cytoscape widget\n",
    "cyto = CytoscapeWidget()\n",
    "cyto.graph.add_graph_from_networkx(G)\n",
    "cyto"
   ]
  },
  {
   "cell_type": "code",
   "execution_count": 3,
   "id": "0ad25554-f0ec-4f96-8ef3-319ee1469d68",
   "metadata": {},
   "outputs": [
    {
     "data": {
      "application/vnd.jupyter.widget-view+json": {
       "model_id": "6e62d56d3fdd434ca65d78c1a587c6b2",
       "version_major": 2,
       "version_minor": 0
      },
      "text/plain": [
       "VBox(children=(Dropdown(description='Node Mode:', options=('Authors', 'Publications'), value='Authors'), Cytos…"
      ]
     },
     "execution_count": 3,
     "metadata": {},
     "output_type": "execute_result"
    }
   ],
   "source": [
    "import ipycytoscape\n",
    "from ipycytoscape import CytoscapeWidget\n",
    "import ipywidgets as widgets\n",
    "\n",
    "# Create the cytoscape widget\n",
    "cyto = CytoscapeWidget()\n",
    "\n",
    "# Define the graph with authors as nodes\n",
    "G_authors = nx.Graph()\n",
    "for author in authors:\n",
    "    G_authors.add_node(author)\n",
    "    for publication in author.publications:\n",
    "        G_authors.add_edge(author, publication)\n",
    "\n",
    "# Define the graph with publications as nodes\n",
    "G_publications = nx.Graph()\n",
    "for author in authors:\n",
    "    for publication in author.publications:\n",
    "        G_publications.add_node(publication)\n",
    "        G_publications.add_edge(publication, author)\n",
    "\n",
    "# Define the dropdown widget to switch between modes\n",
    "dropdown = widgets.Dropdown(options=['Authors', 'Publications'], value='Authors', description='Node Mode:')\n",
    "\n",
    "def update_graph(change):\n",
    "    selected_mode = dropdown.value\n",
    "    if selected_mode == 'Authors':\n",
    "        cyto.graph.clear()\n",
    "        cyto.graph.add_graph_from_networkx(G_authors)\n",
    "    elif selected_mode == 'Publications':\n",
    "        cyto.graph.clear()\n",
    "        cyto.graph.add_graph_from_networkx(G_publications)\n",
    "\n",
    "# Register the event handler for the dropdown\n",
    "dropdown.observe(update_graph, names='value')\n",
    "\n",
    "# Display the widgets\n",
    "widgets.VBox([dropdown, cyto])\n"
   ]
  },
  {
   "cell_type": "code",
   "execution_count": null,
   "id": "b743e000-73e2-47ff-9870-5111e14276ca",
   "metadata": {},
   "outputs": [],
   "source": []
  }
 ],
 "metadata": {
  "kernelspec": {
   "display_name": "Python 3 (ipykernel)",
   "language": "python",
   "name": "python3"
  },
  "language_info": {
   "codemirror_mode": {
    "name": "ipython",
    "version": 3
   },
   "file_extension": ".py",
   "mimetype": "text/x-python",
   "name": "python",
   "nbconvert_exporter": "python",
   "pygments_lexer": "ipython3",
   "version": "3.11.3"
  }
 },
 "nbformat": 4,
 "nbformat_minor": 5
}
