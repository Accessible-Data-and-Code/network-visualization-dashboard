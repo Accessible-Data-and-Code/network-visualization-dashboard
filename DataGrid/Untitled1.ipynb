{
 "cells": [
  {
   "cell_type": "code",
   "execution_count": null,
   "id": "301e30c1-1026-498f-86e0-7793e2f5ed59",
   "metadata": {},
   "outputs": [],
   "source": [
    "from ipydatagrid import DataGrid\n",
    "from json import load\n",
    "import pandas as pd\n",
    "\n",
    "with open(\"./cars.json\") as fobj:\n",
    "    data = load(fobj)\n",
    "\n",
    "# TODO: Add author data\n",
    "\n",
    "df = pd.DataFrame(data[\"data\"]).drop(\"index\", axis=1)\n",
    "\n",
    "datagrid = DataGrid(df, selection_mode=\"cell\")\n",
    "datagrid\n",
    "\n",
    "def select_row(row):\n",
    "    #Fill out this function that allows the us to just select a row so that when datagrid.select is run it chooses 2 corners that create a row"
   ]
  },
  {
   "cell_type": "code",
   "execution_count": 4,
   "id": "f0d9019b-385a-482f-b1f9-48a550625337",
   "metadata": {},
   "outputs": [],
   "source": [
    "from ipydatagrid import DataGrid\n",
    "from json import load\n",
    "import pandas as pd\n",
    "\n",
    "with open(\"./cars.json\") as fobj:\n",
    "    data = load(fobj)\n",
    "\n",
    "df = pd.DataFrame(data[\"data\"]).drop(\"index\", axis=1)\n",
    "\n",
    "datagrid = DataGrid(df, selection_mode=\"cell\")\n",
    "\n",
    "def select_row(row):\n",
    "    # Get the row index based on the provided row number (0-based index)\n",
    "    row_index = row - 1  # Since row number is 1-based, we convert it to 0-based index\n",
    "\n",
    "    # Check if the row index is valid\n",
    "    if 0 <= row_index < len(df):\n",
    "        # Select the row by specifying the two corners that create a row selection\n",
    "        datagrid.select((row_index, 0), (row_index, df.shape[1] - 1))\n",
    "    else:\n",
    "        print(\"Invalid row number. Please choose a valid row number.\")\n",
    "\n",
    "# Test the function by selecting row number 2 (1-based index)\n",
    "select_row(2)"
   ]
  },
  {
   "cell_type": "code",
   "execution_count": 2,
   "id": "ef6627b2-b985-4591-bde8-98ff22321f56",
   "metadata": {},
   "outputs": [
    {
     "data": {
      "application/vnd.jupyter.widget-view+json": {
       "model_id": "b7e0487e883541c8afe8cc30221fa23c",
       "version_major": 2,
       "version_minor": 0
      },
      "text/plain": [
       "DataGrid(auto_fit_params={'area': 'all', 'padding': 30, 'numCols': None}, corner_renderer=None, default_render…"
      ]
     },
     "execution_count": 2,
     "metadata": {},
     "output_type": "execute_result"
    }
   ],
   "source": [
    "datagrid"
   ]
  },
  {
   "cell_type": "code",
   "execution_count": 3,
   "id": "05a9d80d-fac9-4833-b859-c2969bd63e86",
   "metadata": {},
   "outputs": [],
   "source": [
    "select_row(2)"
   ]
  },
  {
   "cell_type": "code",
   "execution_count": null,
   "id": "6b01c901-f583-49ad-9aae-8695b01ffa56",
   "metadata": {},
   "outputs": [],
   "source": []
  }
 ],
 "metadata": {
  "kernelspec": {
   "display_name": "Python 3 (ipykernel)",
   "language": "python",
   "name": "python3"
  },
  "language_info": {
   "codemirror_mode": {
    "name": "ipython",
    "version": 3
   },
   "file_extension": ".py",
   "mimetype": "text/x-python",
   "name": "python",
   "nbconvert_exporter": "python",
   "pygments_lexer": "ipython3",
   "version": "3.11.3"
  }
 },
 "nbformat": 4,
 "nbformat_minor": 5
}
