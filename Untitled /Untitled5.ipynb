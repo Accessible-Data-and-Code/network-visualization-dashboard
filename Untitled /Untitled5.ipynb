{
 "cells": [
  {
   "cell_type": "code",
   "execution_count": 37,
   "id": "3e4d1f7c-8365-4df4-8049-c788f553cfac",
   "metadata": {},
   "outputs": [],
   "source": [
    "import pprint\n",
    "from fastcore.basics import patch\n",
    "import networkx as nx\n",
    "import ipywidgets as widgets\n",
    "import ipycytoscape\n",
    "from ipycytoscape import CytoscapeWidget\n",
    "from IPython.display import display, HTML\n",
    "import pandas as pd\n",
    "from ipydatagrid import DataGrid\n",
    "\n",
    "## Creating Author Class\n",
    "class Author:\n",
    "    def __init__(self, first, middle, last, email=None, publications=[]):\n",
    "        self.first = first\n",
    "        self.middle = middle\n",
    "        self.last = last\n",
    "        self.email = email\n",
    "        self.publications = publications\n",
    "\n",
    "## Make format pretty\n",
    "@patch\n",
    "def __repr__(self:Author):\n",
    "    return pprint.pformat(vars(self))\n",
    "\n",
    "\n",
    "## Mock Dataset\n",
    "a1 = Author('A', 'B', 'Carlson', publications=[1, 2, 3])\n",
    "a2 = Author('B', 'C', 'Dawson', publications=[3, 4, 5, 6])\n",
    "a3 = Author('C', 'D', 'Elfson', publications=[1, 5, 7, 8])\n",
    "a4 = Author('D', 'E', 'Fitzgerald', publications=[1, 5, 9, 10])\n",
    "a5 = Author('E', 'F', 'Gerard', publications=[4, 11, 12])\n",
    "a5\n",
    "\n",
    "authors = [a1, a2, a3, a4, a5]\n",
    "\n",
    "# Create the graph\n",
    "G = nx.Graph()\n",
    "\n",
    "for index_a in range(len(authors)):\n",
    "    for index_b in range(index_a + 1, len(authors)):\n",
    "        author_a = authors[index_a]\n",
    "        author_b = authors[index_b]\n",
    "\n",
    "        common_publications = set(author_a.publications).intersection(author_b.publications)\n",
    "        if common_publications:\n",
    "            # Add the weighted edge to the graph\n",
    "            G.add_edge(author_a, author_b, weight=len(common_publications))\n",
    "\n",
    "## Create a list of dictionaries containing author information\n",
    "author_data = [\n",
    "    {\"first\": author.first, \"middle\": author.middle, \"last\": author.last, \"email\": author.email, \"publications\": author.publications}\n",
    "    for author in authors\n",
    "]\n",
    "\n",
    "## Create a DataFrame from the author data\n",
    "authors_df = pd.DataFrame(author_data)\n",
    "\n",
    "## Create the datagrid and display it\n",
    "datagrid = DataGrid(authors_df, editable=True, layout={\"height\": \"200px\"})\n",
    "\n",
    "# Add nodes to the graph\n",
    "for author in authors:\n",
    "     G.add_node(author, tooltip=author.__repr__())\n",
    "\n",
    "\n",
    "# Display the widgets using a VBox layout\n",
    "#widgets.VBox([title_label, cyto])\n"
   ]
  },
  {
   "cell_type": "code",
   "execution_count": 29,
   "id": "495e0f26-2ec0-4b50-b22c-1c77402acf6f",
   "metadata": {},
   "outputs": [
    {
     "data": {
      "application/vnd.jupyter.widget-view+json": {
       "model_id": "fa29a3542c6e436789028341c808bc37",
       "version_major": 2,
       "version_minor": 0
      },
      "text/plain": [
       "HBox(children=(DataGrid(auto_fit_params={'area': 'all', 'padding': 30, 'numCols': None}, corner_renderer=None,…"
      ]
     },
     "execution_count": 29,
     "metadata": {},
     "output_type": "execute_result"
    }
   ],
   "source": [
    "import pprint\n",
    "from fastcore.basics import patch\n",
    "import networkx as nx\n",
    "import ipywidgets as widgets\n",
    "import ipycytoscape\n",
    "from ipycytoscape import CytoscapeWidget\n",
    "from IPython.display import display, HTML, clear_output\n",
    "import pandas as pd\n",
    "from ipydatagrid import DataGrid\n",
    "from json import load\n",
    "\n",
    "## Creating Author Class\n",
    "class Author:\n",
    "    def __init__(self, first, middle, last, email=None, publications=[]):\n",
    "        self.first = first\n",
    "        self.middle = middle\n",
    "        self.last = last\n",
    "        self.email = email\n",
    "        self.publications = publications\n",
    "\n",
    "## Make format pretty\n",
    "@patch\n",
    "def __repr__(self: Author):\n",
    "    return pprint.pformat(vars(self))\n",
    "\n",
    "## Mock Dataset\n",
    "a1 = Author('A', 'B', 'Carlson', publications=[1, 2, 3])\n",
    "a2 = Author('B', 'C', 'Dawson', publications=[3, 4, 5, 6])\n",
    "a3 = Author('C', 'D', 'Elfson', publications=[1, 5, 7, 8])\n",
    "a4 = Author('D', 'E', 'Fitzgerald', publications=[1, 5, 9, 10])\n",
    "a5 = Author('E', 'F', 'Gerard', publications=[4, 11, 12])\n",
    "\n",
    "authors = [a1, a2, a3, a4, a5]\n",
    "\n",
    "## Create a list of dictionaries containing author information\n",
    "author_data = [\n",
    "    {\"first\": author.first, \"middle\": author.middle, \"last\": author.last, \"email\": author.email, \"publications\": author.publications}\n",
    "    for author in authors\n",
    "]\n",
    "\n",
    "## Create a DataFrame from the author data\n",
    "authors_df = pd.DataFrame(author_data)\n",
    "\n",
    "## Create the datagrid\n",
    "datagrid = DataGrid(authors_df, editable=False, layout={\"height\": \"200px\"})\n",
    "\n",
    "## Create the graph\n",
    "G = nx.Graph()\n",
    "\n",
    "for index_a in range(len(authors)):\n",
    "    for index_b in range(index_a + 1, len(authors)):\n",
    "        author_a = authors[index_a]\n",
    "        author_b = authors[index_b]\n",
    "\n",
    "        for publication_a in author_a.publications:\n",
    "            for publication_b in author_b.publications:\n",
    "                if publication_a == publication_b:\n",
    "                    G.add_edge(author_a, author_b)\n",
    "\n",
    "# Add nodes to the graph\n",
    "for author in authors:\n",
    "    G.add_node(author)\n",
    "\n",
    "## Create the Cytoscape widget to display the network graph\n",
    "cyto_widget = CytoscapeWidget()\n",
    "\n",
    "# Function to display node properties when a node is clicked\n",
    "def on_node_click(event):\n",
    "    node_data = event['data']\n",
    "    clear_output()\n",
    "    with output:\n",
    "        display(pd.DataFrame(node_data))\n",
    "    \n",
    "cyto_widget.on('node', 'click', on_node_click)\n",
    "\n",
    "## Display the widgets side by side\n",
    "output = widgets.Output()\n",
    "widgets.HBox([datagrid, cyto_widget, output])\n"
   ]
  },
  {
   "cell_type": "code",
   "execution_count": 3,
   "id": "18135ce5-2840-4075-86d3-8bc83bfab2f8",
   "metadata": {},
   "outputs": [],
   "source": []
  },
  {
   "cell_type": "code",
   "execution_count": 4,
   "id": "7b78c8b6-5ab4-408c-b84f-e424e1d003b4",
   "metadata": {},
   "outputs": [],
   "source": [
    "# Create the graph\n",
    "G = nx.Graph()\n",
    "\n",
    "for index_a in range(len(authors)):\n",
    "    for index_b in range(index_a + 1, len(authors)):\n",
    "        author_a = authors[index_a]\n",
    "        author_b = authors[index_b]\n",
    "\n",
    "        common_publications = set(author_a.publications).intersection(author_b.publications)\n",
    "        if common_publications:\n",
    "            # Add the weighted edge to the graph\n",
    "            G.add_edge(author_a, author_b, weight=len(common_publications))"
   ]
  },
  {
   "cell_type": "code",
   "execution_count": 14,
   "id": "c38c351f-bf0d-4f10-815e-4101791ce954",
   "metadata": {},
   "outputs": [
    {
     "data": {
      "application/vnd.jupyter.widget-view+json": {
       "model_id": "0edf7aa7caf6456ca4017284bee6f34a",
       "version_major": 2,
       "version_minor": 0
      },
      "text/plain": [
       "DataGrid(auto_fit_params={'area': 'all', 'padding': 30, 'numCols': None}, corner_renderer=None, default_render…"
      ]
     },
     "metadata": {},
     "output_type": "display_data"
    }
   ],
   "source": [
    "## Create a list of dictionaries containing author information\n",
    "author_data = [\n",
    "    {\"first\": author.first, \"middle\": author.middle, \"last\": author.last, \"email\": author.email, \"publications\": author.publications}\n",
    "    for author in authors\n",
    "]\n",
    "\n",
    "## Create a DataFrame from the author data\n",
    "authors_df = pd.DataFrame(author_data)\n",
    "\n",
    "## Create the datagrid and display it\n",
    "datagrid = DataGrid(authors_df, editable=True, layout={\"height\": \"200px\"})\n",
    "display(datagrid)"
   ]
  },
  {
   "cell_type": "code",
   "execution_count": 15,
   "id": "e1a48c9b-ecaf-4231-b547-882f89dd60d7",
   "metadata": {},
   "outputs": [],
   "source": [
    "# Add nodes to the graph\n",
    "for author in authors:\n",
    "     G.add_node(author, tooltip=author.__repr__())\n",
    "\n",
    "\n",
    "# Display the widgets using a VBox layout\n",
    "#widgets.VBox([title_label, cyto])"
   ]
  },
  {
   "cell_type": "code",
   "execution_count": 24,
   "id": "b3cbd8ec-cca7-4f02-bdb4-117214bbb665",
   "metadata": {},
   "outputs": [],
   "source": [
    "# Create the Cytoscape widget\n",
    "cyto = CytoscapeWidget()\n",
    "cyto.graph.add_graph_from_networkx(G)\n",
    "\n",
    "##title --- disappears for some reason? maybe misplaced\n",
    "title_label = widgets.Label(value='Author Network Graph', style={'font-weight': 'bold'})\n",
    "\n",
    "# Custom CSS style to change tooltip's background color\n",
    "custom_style = \"\"\"\n",
    ".tippy-tooltip {\n",
    "    background-color: white;\n",
    "}\n",
    "\"\"\""
   ]
  },
  {
   "cell_type": "code",
   "execution_count": 25,
   "id": "dbdc657b-d4f6-4176-84a5-e935bcac7e06",
   "metadata": {},
   "outputs": [
    {
     "data": {
      "text/html": [
       "<style>\n",
       ".tippy-tooltip {\n",
       "    background-color: white;\n",
       "}\n",
       "</style>"
      ],
      "text/plain": [
       "<IPython.core.display.HTML object>"
      ]
     },
     "metadata": {},
     "output_type": "display_data"
    },
    {
     "data": {
      "application/vnd.jupyter.widget-view+json": {
       "model_id": "7a67ffba4326447e8330fef5019e130a",
       "version_major": 2,
       "version_minor": 0
      },
      "text/plain": [
       "VBox(children=(Label(value='Author Network Graph'), GridBox(children=(DataGrid(auto_fit_params={'area': 'all',…"
      ]
     },
     "execution_count": 25,
     "metadata": {},
     "output_type": "execute_result"
    }
   ],
   "source": [
    "# Display the custom CSS style\n",
    "display(HTML(f\"<style>{custom_style}</style>\"))\n",
    "\n",
    "# Create the dataset widget\n",
    "dataset_widget = widgets.HTML(value=\"<pre>{}</pre>\".format(pprint.pformat(authors)))\n",
    "\n",
    "# Create the grid layout with the datagrid in the first column and the Cytoscape widget in the second column\n",
    "grid = widgets.GridBox([datagrid, cyto], layout=widgets.Layout(grid_template_columns=\"50% 50%\"))\n",
    "\n",
    "# Set the column widths to ensure proper layout\n",
    "grid.children[0].layout.width = \"100%\"\n",
    "\n",
    "# Display the title_label and the grid layout\n",
    "widgets.VBox([title_label, grid])"
   ]
  },
  {
   "cell_type": "code",
   "execution_count": 21,
   "id": "83111e45-c96f-4dfb-ba2c-6b0ce3e70ac8",
   "metadata": {},
   "outputs": [
    {
     "data": {
      "application/vnd.jupyter.widget-view+json": {
       "model_id": "0edf7aa7caf6456ca4017284bee6f34a",
       "version_major": 2,
       "version_minor": 0
      },
      "text/plain": [
       "DataGrid(auto_fit_params={'area': 'all', 'padding': 30, 'numCols': None}, corner_renderer=None, default_render…"
      ]
     },
     "execution_count": 21,
     "metadata": {},
     "output_type": "execute_result"
    }
   ],
   "source": [
    "datagrid"
   ]
  },
  {
   "cell_type": "code",
   "execution_count": 22,
   "id": "d548cbc4-9a93-4191-83ea-2771ff1a90a2",
   "metadata": {},
   "outputs": [],
   "source": [
    "## Selecting row in datagrid\n",
    "datagrid.selection_mode = \"cell\""
   ]
  },
  {
   "cell_type": "code",
   "execution_count": 23,
   "id": "6f3ef151-9f1c-4bf5-8818-ccaa64a2eac5",
   "metadata": {},
   "outputs": [],
   "source": [
    "datagrid.select(row1=1, column1=1, row2=2, column2=2, clear_mode=\"all\")"
   ]
  },
  {
   "cell_type": "code",
   "execution_count": 58,
   "id": "c5c3d5cb-99cc-465f-a884-cbdb9a22a9aa",
   "metadata": {},
   "outputs": [],
   "source": [
    "##datagrid?"
   ]
  },
  {
   "cell_type": "code",
   "execution_count": null,
   "id": "d0cd1dae-8cb1-4d40-8143-7f1dc2d6c797",
   "metadata": {},
   "outputs": [],
   "source": []
  }
 ],
 "metadata": {
  "kernelspec": {
   "display_name": "Python 3 (ipykernel)",
   "language": "python",
   "name": "python3"
  },
  "language_info": {
   "codemirror_mode": {
    "name": "ipython",
    "version": 3
   },
   "file_extension": ".py",
   "mimetype": "text/x-python",
   "name": "python",
   "nbconvert_exporter": "python",
   "pygments_lexer": "ipython3",
   "version": "3.11.3"
  }
 },
 "nbformat": 4,
 "nbformat_minor": 5
}
