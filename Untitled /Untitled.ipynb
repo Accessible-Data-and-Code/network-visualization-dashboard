{
 "cells": [
  {
   "cell_type": "code",
   "execution_count": 1,
   "id": "8274c0d5-99d9-492d-8d70-30db2a0d61bb",
   "metadata": {},
   "outputs": [
    {
     "data": {
      "application/vnd.jupyter.widget-view+json": {
       "model_id": "4811cd269e0e47318049b239ff978f5b",
       "version_major": 2,
       "version_minor": 0
      },
      "text/plain": [
       "GridBox(children=(HTML(value='<pre>[<__main__.Author object at 0x1110e9cd0>,\\n <__main__.Author object at 0x12…"
      ]
     },
     "execution_count": 1,
     "metadata": {},
     "output_type": "execute_result"
    }
   ],
   "source": [
    "import pprint\n",
    "from fastcore.basics import patch\n",
    "import networkx as nx\n",
    "import matplotlib.pyplot as plt\n",
    "import ipywidgets as widgets\n",
    "import ipycytoscape\n",
    "from ipycytoscape import CytoscapeWidget\n",
    "\n",
    "# Creating Author Class\n",
    "class Author:\n",
    "    def __init__(self, first, middle, last, email=None, publications=[]):\n",
    "        self.first = first\n",
    "        self.middle = middle\n",
    "        self.last = last\n",
    "        self.email = email\n",
    "        self.publications = publications\n",
    "\n",
    "# Make format pretty\n",
    "def __repr__(self:Author):\n",
    "    return pprint.pformat(vars(self))\n",
    "\n",
    "# Mock Dataset\n",
    "a1 = Author('A', 'B', 'Carlson', publications=[1, 2, 3])\n",
    "a2 = Author('B', 'C', 'Dawson', publications=[3, 4, 5, 6])\n",
    "a3 = Author('C', 'D', 'Elfson', publications=[1, 5, 7, 8])\n",
    "a4 = Author('D', 'E', 'Fitzgerald', publications=[1, 5, 9, 10])\n",
    "a5 = Author('E', 'F', 'Gerard', publications=[4, 11, 12])\n",
    "\n",
    "authors = [a1, a2, a3, a4, a5]\n",
    "\n",
    "# Create the graph\n",
    "G = nx.Graph()\n",
    "\n",
    "# Add nodes to the graph\n",
    "for author in authors:\n",
    "    for publication in author.publications:\n",
    "        G.add_node(publication)\n",
    "\n",
    "# Define the graph with authors as nodes\n",
    "G_authors = nx.Graph()\n",
    "for index_a in range(len(authors)):\n",
    "    for index_b in range(index_a + 1, len(authors)):\n",
    "        author_a = authors[index_a]\n",
    "        author_b = authors[index_b]\n",
    "\n",
    "        for publication_a in author_a.publications:\n",
    "            for publication_b in author_b.publications:\n",
    "                if publication_a == publication_b:\n",
    "                    G_authors.add_edge(author_a, author_b)\n",
    "\n",
    "# Define the graph with publications as nodes\n",
    "G_publications = nx.Graph()\n",
    "for index_a, author_a in enumerate(authors):\n",
    "    for index_b, author_b in enumerate(authors):\n",
    "        if index_a != index_b:\n",
    "            for publication_a in author_a.publications:\n",
    "                if publication_a in author_b.publications:\n",
    "                    G_publications.add_edge(publication_a, publication_a)\n",
    "\n",
    "# Create the cytoscape widget\n",
    "cyto = CytoscapeWidget()\n",
    "\n",
    "# Set the default graph as G_authors\n",
    "cyto.graph.add_graph_from_networkx(G_authors)\n",
    "\n",
    "# Create the dataset widget\n",
    "dataset_widget = widgets.HTML(value=\"<pre>{}</pre>\".format(pprint.pformat(authors)))\n",
    "\n",
    "# Create the grid layout\n",
    "grid = widgets.GridBox([dataset_widget, cyto], layout=widgets.Layout(grid_template_columns=\"50% 50%\"))\n",
    "\n",
    "# Set the column widths to ensure proper layout\n",
    "grid.children[0].layout.width = \"100%\"\n",
    "\n",
    "# Display the grid layout\n",
    "grid\n"
   ]
  },
  {
   "cell_type": "code",
   "execution_count": null,
   "id": "a442465f-960f-4448-9552-1211760d0d44",
   "metadata": {},
   "outputs": [],
   "source": []
  }
 ],
 "metadata": {
  "kernelspec": {
   "display_name": "Python 3 (ipykernel)",
   "language": "python",
   "name": "python3"
  },
  "language_info": {
   "codemirror_mode": {
    "name": "ipython",
    "version": 3
   },
   "file_extension": ".py",
   "mimetype": "text/x-python",
   "name": "python",
   "nbconvert_exporter": "python",
   "pygments_lexer": "ipython3",
   "version": "3.11.3"
  }
 },
 "nbformat": 4,
 "nbformat_minor": 5
}
