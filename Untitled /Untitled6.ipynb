{
 "cells": [
  {
   "cell_type": "code",
   "execution_count": 7,
   "id": "67966afe-a61d-4104-837f-f02c9de31fa5",
   "metadata": {},
   "outputs": [
    {
     "data": {
      "application/vnd.jupyter.widget-view+json": {
       "model_id": "99422f94fadc4b35b0465813dbef315d",
       "version_major": 2,
       "version_minor": 0
      },
      "text/plain": [
       "DataGrid(auto_fit_params={'area': 'all', 'padding': 30, 'numCols': None}, corner_renderer=None, default_render…"
      ]
     },
     "metadata": {},
     "output_type": "display_data"
    }
   ],
   "source": [
    "import pprint\n",
    "from fastcore.basics import patch\n",
    "import networkx as nx\n",
    "import ipywidgets as widgets\n",
    "import ipycytoscape\n",
    "from ipycytoscape import CytoscapeWidget\n",
    "from IPython.display import display, HTML\n",
    "import pandas as pd\n",
    "from ipydatagrid import DataGrid\n",
    "\n",
    "## Creating Author Class\n",
    "class Author:\n",
    "    def __init__(self, first, middle, last, email=None, publications=[]):\n",
    "        self.first = first\n",
    "        self.middle = middle\n",
    "        self.last = last\n",
    "        self.email = email\n",
    "        self.publications = publications\n",
    "\n",
    "## Make format pretty\n",
    "@patch\n",
    "def __repr__(self:Author):\n",
    "    return pprint.pformat(vars(self))\n",
    "\n",
    "## Mock Dataset\n",
    "a1 = Author('A', 'B', 'Carlson', publications=[1, 2, 3])\n",
    "a2 = Author('B', 'C', 'Dawson', publications=[3, 4, 5, 6])\n",
    "a3 = Author('C', 'D', 'Elfson', publications=[1, 5, 7, 8])\n",
    "a4 = Author('D', 'E', 'Fitzgerald', publications=[1, 5, 9, 10])\n",
    "a5 = Author('E', 'F', 'Gerard', publications=[4, 11, 12])\n",
    "a5\n",
    "\n",
    "authors = [a1, a2, a3, a4, a5]\n",
    "\n",
    "# Create the graph\n",
    "G = nx.Graph()\n",
    "\n",
    "for index_a in range(len(authors)):\n",
    "    for index_b in range(index_a + 1, len(authors)):\n",
    "        author_a = authors[index_a]\n",
    "        author_b = authors[index_b]\n",
    "\n",
    "        common_publications = set(author_a.publications).intersection(author_b.publications)\n",
    "        if common_publications:\n",
    "            # Add the weighted edge to the graph\n",
    "            G.add_edge(author_a, author_b, weight=len(common_publications))\n",
    "\n",
    "## Create a list of dictionaries containing author information\n",
    "author_data = [\n",
    "    {\"first\": author.first, \"middle\": author.middle, \"last\": author.last, \"email\": author.email, \"publications\": author.publications}\n",
    "    for author in authors\n",
    "]\n",
    "\n",
    "## Create a DataFrame from the author data\n",
    "authors_df = pd.DataFrame(author_data)\n",
    "\n",
    "## Create the datagrid and display it\n",
    "datagrid = DataGrid(authors_df, editable=True, layout={\"height\": \"200px\"})\n",
    "display(datagrid)\n",
    "\n",
    "def select_row(row):\n",
    "    if 0 <= row < len(authors):\n",
    "        # Clear all previous selections\n",
    "        datagrid.selection = {}\n",
    "        \n",
    "        # Select the specified row\n",
    "        datagrid.selection['rows'] = [row]\n",
    "    else:\n",
    "        print(\"Invalid row number. Please choose a valid row number.\")\n",
    "    \n",
    "# Call the select_row function to select row number 2 (0-based index)\n",
    "select_row(2)\n"
   ]
  },
  {
   "cell_type": "code",
   "execution_count": 6,
   "id": "258ac9a4-6cbf-4c8e-b547-187b742310d5",
   "metadata": {},
   "outputs": [],
   "source": [
    "datagrid.select(0,0,0,4)"
   ]
  },
  {
   "cell_type": "code",
   "execution_count": null,
   "id": "9a420b57-92a3-4d6b-a91a-ab8e3241d4f6",
   "metadata": {},
   "outputs": [],
   "source": []
  }
 ],
 "metadata": {
  "kernelspec": {
   "display_name": "Python 3 (ipykernel)",
   "language": "python",
   "name": "python3"
  },
  "language_info": {
   "codemirror_mode": {
    "name": "ipython",
    "version": 3
   },
   "file_extension": ".py",
   "mimetype": "text/x-python",
   "name": "python",
   "nbconvert_exporter": "python",
   "pygments_lexer": "ipython3",
   "version": "3.11.3"
  }
 },
 "nbformat": 4,
 "nbformat_minor": 5
}
