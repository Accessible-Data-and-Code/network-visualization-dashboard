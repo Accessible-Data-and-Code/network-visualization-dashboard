{
 "cells": [
  {
   "cell_type": "code",
   "execution_count": 1,
   "id": "2fb4ab5c-fb60-4f63-938d-95eaf1783079",
   "metadata": {},
   "outputs": [],
   "source": [
    "import pandas as pd\n",
    "import networkx as nx\n",
    "import ipycytoscape\n",
    "from ipydatagrid import DataGrid\n",
    "import ipywidgets as widgets\n"
   ]
  },
  {
   "cell_type": "code",
   "execution_count": 2,
   "id": "bf6a4205-85b4-4039-942b-751750588238",
   "metadata": {},
   "outputs": [],
   "source": [
    "data = {\n",
    "    'Node ID': [0, 1, 2, 3],  # Adjust node IDs to start from 0\n",
    "    'Label': ['Node A', 'Node B', 'Node C', 'Node D'],\n",
    "}\n",
    "\n",
    "df = pd.DataFrame(data)\n"
   ]
  },
  {
   "cell_type": "code",
   "execution_count": 3,
   "id": "f5ed0492-2528-43db-ac86-b76e5b3a1f82",
   "metadata": {},
   "outputs": [],
   "source": [
    "G = nx.Graph()\n",
    "for i, row in df.iterrows():\n",
    "    G.add_node(row['Node ID'], label=row['Label'])\n",
    "\n",
    "cyto = ipycytoscape.CytoscapeWidget()\n",
    "cyto.graph.add_graph_from_networkx(G)\n",
    "\n",
    "datagrid = DataGrid(df)\n"
   ]
  },
  {
   "cell_type": "code",
   "execution_count": 4,
   "id": "63ad9ad6-c721-4503-8390-c3865ee9c81c",
   "metadata": {},
   "outputs": [],
   "source": [
    "def on_node_click(event):\n",
    "    selected_node_id = event['data']['id']\n",
    "    # Check if the selected_node_id exists in the DataFrame\n",
    "    if selected_node_id in df['Node ID'].values:\n",
    "        # Adjust the selected_node_id to match DataFrame index\n",
    "        row_index = df[df['Node ID'] == selected_node_id].index[0]\n",
    "        # Programmatically set the selected row in the datagrid\n",
    "        datagrid.selection_mode = \"row\"\n",
    "        datagrid.selected_rows = [row_index]\n",
    "    else:\n",
    "        # Clear the selection in the datagrid if node ID not found\n",
    "        datagrid.selection_mode = \"none\"\n",
    "        datagrid.selected_rows = []\n"
   ]
  },
  {
   "cell_type": "code",
   "execution_count": 5,
   "id": "ba2cfd4c-71e5-4946-86cc-b7c18feb0597",
   "metadata": {},
   "outputs": [],
   "source": [
    "cyto.on('node', 'click', on_node_click)\n"
   ]
  },
  {
   "cell_type": "code",
   "execution_count": 6,
   "id": "73ec276d-4c98-4760-95b9-9eacdc831268",
   "metadata": {},
   "outputs": [
    {
     "data": {
      "application/vnd.jupyter.widget-view+json": {
       "model_id": "041a9f524f5f412cbb960407b319fb80",
       "version_major": 2,
       "version_minor": 0
      },
      "text/plain": [
       "HBox(children=(CytoscapeWidget(cytoscape_layout={'name': 'cola'}, cytoscape_style=[{'selector': 'node', 'css':…"
      ]
     },
     "execution_count": 6,
     "metadata": {},
     "output_type": "execute_result"
    }
   ],
   "source": [
    "widgets.HBox([cyto, datagrid])\n"
   ]
  },
  {
   "cell_type": "code",
   "execution_count": 24,
   "id": "79ff073b-2b70-411e-8b6b-6e71201cc86c",
   "metadata": {},
   "outputs": [
    {
     "data": {
      "application/vnd.jupyter.widget-view+json": {
       "model_id": "6fceb62beed74fabb6bc28f4a56daa6c",
       "version_major": 2,
       "version_minor": 0
      },
      "text/plain": [
       "HBox(children=(CytoscapeWidget(cytoscape_layout={'name': 'cola'}, cytoscape_style=[{'selector': 'node', 'css':…"
      ]
     },
     "execution_count": 24,
     "metadata": {},
     "output_type": "execute_result"
    }
   ],
   "source": [
    "import pandas as pd\n",
    "import networkx as nx\n",
    "import ipycytoscape\n",
    "from ipydatagrid import DataGrid\n",
    "import ipywidgets as widgets\n",
    "from IPython.display import display, Javascript\n",
    "\n",
    "# Create sample data\n",
    "data = {\n",
    "    'Node ID': [0, 1, 2, 3],  # Adjust node IDs to start from 0\n",
    "    'Label': ['Node A', 'Node B', 'Node C', 'Node D'],\n",
    "}\n",
    "\n",
    "# Create a DataFrame from the sample data\n",
    "df = pd.DataFrame(data)\n",
    "\n",
    "# Create the ipycytoscape graph\n",
    "G = nx.Graph()\n",
    "for i, row in df.iterrows():\n",
    "    G.add_node(row['Node ID'], label=row['Label'])\n",
    "\n",
    "cyto = ipycytoscape.CytoscapeWidget()\n",
    "cyto.graph.add_graph_from_networkx(G)\n",
    "\n",
    "# Create the datagrid widget\n",
    "datagrid = DataGrid(df)\n",
    "\n",
    "# Define JavaScript code for highlighting the row in the datagrid\n",
    "js_highlight_row = \"\"\"\n",
    "var row_index = df[df['Node ID'] == selected_node_id].index[0];\n",
    "if (typeof(row_index) !== 'undefined') {\n",
    "    datagrid.selected_cell = [row_index, 0];\n",
    "} else {\n",
    "    datagrid.selected_cell = null;\n",
    "}\n",
    "\"\"\"\n",
    "\n",
    "# Function to handle node click event\n",
    "def on_node_click(event):\n",
    "    selected_node_id = event['data']['id']\n",
    "    # Execute the JavaScript code to highlight the row in the datagrid\n",
    "    display(Javascript(js_highlight_row.replace('selected_node_id', str(selected_node_id))))\n",
    "\n",
    "# Attach the callback to the ipycytoscape widget's click event\n",
    "cyto.on('node', 'click', on_node_click)\n",
    "\n",
    "# Display the ipycytoscape graph and the datagrid widget side by side\n",
    "widgets.HBox([cyto, datagrid])\n"
   ]
  },
  {
   "cell_type": "code",
   "execution_count": 14,
   "id": "1776a96b-797c-4044-b6cf-ee2c24005029",
   "metadata": {},
   "outputs": [
    {
     "data": {
      "application/vnd.jupyter.widget-view+json": {
       "model_id": "028adc8ade5845a7b76ce33090f3b5a2",
       "version_major": 2,
       "version_minor": 0
      },
      "text/plain": [
       "CytoscapeWidget(cytoscape_layout={'name': 'cola'}, cytoscape_style=[{'selector': 'node', 'css': {'background-c…"
      ]
     },
     "metadata": {},
     "output_type": "display_data"
    },
    {
     "data": {
      "application/vnd.jupyter.widget-view+json": {
       "model_id": "fdf70bda722c49ff88f85ab002632ae0",
       "version_major": 2,
       "version_minor": 0
      },
      "text/plain": [
       "Output()"
      ]
     },
     "metadata": {},
     "output_type": "display_data"
    }
   ],
   "source": [
    "from ipywidgets import Output\n",
    "from IPython.display import display\n",
    "from pprint import pformat\n",
    "\n",
    "out = Output()\n",
    "\n",
    "def log_clicks(node):\n",
    "    with out:\n",
    "        print(f'clicked: {pformat(node)}')\n",
    "\n",
    "def log_mouseovers(node):\n",
    "    with out:\n",
    "        print(f'mouseover: {pformat(node)}')\n",
    "\n",
    "cyto.on('node', 'click', log_clicks)\n",
    "cyto.on('node', 'mouseover', log_mouseovers)\n",
    "\n",
    "# call `display` to show both widgets in one output cell\n",
    "display(cyto)\n",
    "display(out)"
   ]
  },
  {
   "cell_type": "code",
   "execution_count": 25,
   "id": "3ea64bf2-1032-47b9-8624-0af74b3c9b98",
   "metadata": {},
   "outputs": [
    {
     "data": {
      "application/vnd.jupyter.widget-view+json": {
       "model_id": "902765a54d7d4aada2332cc452ff3f9c",
       "version_major": 2,
       "version_minor": 0
      },
      "text/plain": [
       "CytoscapeWidget(cytoscape_layout={'name': 'cola'}, cytoscape_style=[{'selector': 'node', 'css': {'background-c…"
      ]
     },
     "metadata": {},
     "output_type": "display_data"
    },
    {
     "data": {
      "application/vnd.jupyter.widget-view+json": {
       "model_id": "7bff32d0c900414e8f94462926e9668b",
       "version_major": 2,
       "version_minor": 0
      },
      "text/plain": [
       "Output()"
      ]
     },
     "metadata": {},
     "output_type": "display_data"
    }
   ],
   "source": [
    "from ipywidgets import Output\n",
    "from IPython.display import display, clear_output\n",
    "from pprint import pformat\n",
    "\n",
    "out = Output()\n",
    "\n",
    "def log_clicks(node):\n",
    "    with out:\n",
    "        print(f'clicked: {pformat(node)}')\n",
    "\n",
    "def log_mouseovers(node):\n",
    "    with out:\n",
    "        clear_output()  # Clear the previous output before displaying new information\n",
    "        # Check if the node contains 'data' key and extract properties from it\n",
    "        if 'data' in node and 'label' in node['data']:\n",
    "            properties = node['data']['label']  # Change 'label' to the desired property key\n",
    "            print(f'mouseover: {properties}')\n",
    "        else:\n",
    "            print(f'mouseover: {pformat(node)}')\n",
    "\n",
    "cyto.on('node', 'click', log_clicks)\n",
    "cyto.on('node', 'mouseover', log_mouseovers)\n",
    "\n",
    "# call `display` to show both widgets in one output cell\n",
    "display(cyto)\n",
    "display(out)\n"
   ]
  },
  {
   "cell_type": "code",
   "execution_count": null,
   "id": "97e42cff-970d-46f3-8b71-a0d6ec2f42af",
   "metadata": {},
   "outputs": [],
   "source": []
  },
  {
   "cell_type": "code",
   "execution_count": null,
   "id": "6b3f2938-752f-47db-a9bb-f79d84a8b4de",
   "metadata": {},
   "outputs": [],
   "source": []
  }
 ],
 "metadata": {
  "kernelspec": {
   "display_name": "Python 3 (ipykernel)",
   "language": "python",
   "name": "python3"
  },
  "language_info": {
   "codemirror_mode": {
    "name": "ipython",
    "version": 3
   },
   "file_extension": ".py",
   "mimetype": "text/x-python",
   "name": "python",
   "nbconvert_exporter": "python",
   "pygments_lexer": "ipython3",
   "version": "3.11.3"
  }
 },
 "nbformat": 4,
 "nbformat_minor": 5
}
