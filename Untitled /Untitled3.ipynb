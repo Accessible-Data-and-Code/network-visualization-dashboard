{
 "cells": [
  {
   "cell_type": "code",
   "execution_count": 1,
   "id": "ae0debfb-a0c0-44a8-a58c-1a7550dcb40f",
   "metadata": {},
   "outputs": [],
   "source": [
    "import pprint\n",
    "from fastcore.basics import patch\n",
    "import networkx as nx\n",
    "import matplotlib.pyplot as plt\n",
    "import ipywidgets as widgets\n",
    "import ipycytoscape\n",
    "from ipycytoscape import CytoscapeWidget\n",
    "\n",
    "## Creating Author Class\n",
    "class Author:\n",
    "    def __init__(self, first, middle, last, email=None, publications=[]):\n",
    "        self.first = first\n",
    "        self.middle = middle\n",
    "        self.last = last\n",
    "        self.email = email\n",
    "        self.publications = publications\n",
    "\n",
    "## Make format pretty\n",
    "@patch\n",
    "def __repr__(self:Author):\n",
    "    return pprint.pformat(vars(self))\n",
    "\n",
    "## Mock Dataset\n",
    "a1 = Author('A', 'B', 'Carlson', publications = [1,2,3])\n",
    "a2 = Author('B', 'C', 'Dawson', publications = [3, 4, 5 ,6])\n",
    "a3 = Author('C', 'D', 'Elfson', publications = [1, 5, 7, 8])\n",
    "a4 = Author('D', 'E', 'Fitzgerald', publications = [1, 5, 9, 10])\n",
    "a5 = Author('E', 'F', 'Gerard', publications = [4, 11, 12])\n",
    "a5\n",
    "\n",
    "authors = [a1, a2, a3, a4, a5]\n",
    "\n",
    "# Create the graph\n",
    "G = nx.Graph()\n",
    "\n",
    "# Add nodes to the graph\n",
    "for author in authors:\n",
    "    G.add_node(author)\n",
    "\n",
    "#### Step 2: Add edges to the graph based on publication matches ####\n",
    "\n",
    "for index_a in range(len(authors)):\n",
    "    for index_b in range(index_a + 1, len(authors)):\n",
    "        author_a = authors[index_a]\n",
    "        author_b = authors[index_b]\n",
    "\n",
    "        for publication_a in author_a.publications:\n",
    "            for publication_b in author_b.publications:\n",
    "                if publication_a == publication_b:\n",
    "                    G.add_edge(author_a, author_b)\n",
    "\n"
   ]
  },
  {
   "cell_type": "code",
   "execution_count": 18,
   "id": "d3404250-694b-402e-99f9-c10d2fd1da40",
   "metadata": {},
   "outputs": [
    {
     "data": {
      "application/vnd.jupyter.widget-view+json": {
       "model_id": "2e38367c31e646c19fbe57a4cd079b71",
       "version_major": 2,
       "version_minor": 0
      },
      "text/plain": [
       "GridBox(children=(HTML(value=\"<pre>[{'email': None,\\n 'first': 'A',\\n 'last': 'Carlson',\\n 'middle': 'B',\\n 'p…"
      ]
     },
     "execution_count": 18,
     "metadata": {},
     "output_type": "execute_result"
    }
   ],
   "source": [
    "import pprint\n",
    "from fastcore.basics import patch\n",
    "import networkx as nx\n",
    "import ipywidgets as widgets\n",
    "import ipycytoscape\n",
    "from ipycytoscape import CytoscapeWidget\n",
    "\n",
    "# Creating Author Class\n",
    "class Author:\n",
    "    def __init__(self, first, middle, last, email=None, publications=[]):\n",
    "        self.first = first\n",
    "        self.middle = middle\n",
    "        self.last = last\n",
    "        self.email = email\n",
    "        self.publications = publications\n",
    "\n",
    "# Make format pretty\n",
    "@patch\n",
    "def __repr__(self:Author):\n",
    "    return pprint.pformat(vars(self))\n",
    "\n",
    "# Mock Dataset\n",
    "a1 = Author('A', 'B', 'Carlson', publications=[1, 2, 3])\n",
    "a2 = Author('B', 'C', 'Dawson', publications=[3, 4, 5, 6])\n",
    "a3 = Author('C', 'D', 'Elfson', publications=[1, 5, 7, 8])\n",
    "a4 = Author('D', 'E', 'Fitzgerald', publications=[1, 5, 9, 10])\n",
    "a5 = Author('E', 'F', 'Gerard', publications=[4, 11, 12])\n",
    "\n",
    "authors = [a1, a2, a3, a4, a5]\n",
    "\n",
    "# Create the graph\n",
    "G = nx.Graph()\n",
    "\n",
    "# Add nodes to the graph\n",
    "for author in authors:\n",
    "    G.add_node(author)\n",
    "\n",
    "# Add edges to the graph based on publication matches\n",
    "for index_a in range(len(authors)):\n",
    "    for index_b in range(index_a + 1, len(authors)):\n",
    "        author_a = authors[index_a]\n",
    "        author_b = authors[index_b]\n",
    "\n",
    "        for publication_a in author_a.publications:\n",
    "            for publication_b in author_b.publications:\n",
    "                if publication_a == publication_b:\n",
    "                    G.add_edge(author_a, author_b)\n",
    "\n",
    "cyto = CytoscapeWidget()\n",
    "cyto.graph.add_graph_from_networkx(G)\n",
    "\n",
    "# Create the dataset widget\n",
    "dataset_widget = widgets.HTML(value=\"<pre>{}</pre>\".format(pprint.pformat(authors)))\n",
    "\n",
    "# Create the grid layout\n",
    "grid = widgets.GridBox([dataset_widget, cyto], layout=widgets.Layout(grid_template_columns=\"50% 50%\"))\n",
    "\n",
    "# Set the column widths to ensure proper layout\n",
    "grid.children[0].layout.width = \"100%\"\n",
    "\n",
    "# Display the grid layout\n",
    "grid\n"
   ]
  },
  {
   "cell_type": "code",
   "execution_count": 12,
   "id": "a1f66e80-db7f-4db8-a25d-b9c515ae3010",
   "metadata": {},
   "outputs": [
    {
     "data": {
      "application/vnd.jupyter.widget-view+json": {
       "model_id": "9cb3f72542df47b288d80308ab327d72",
       "version_major": 2,
       "version_minor": 0
      },
      "text/plain": [
       "GridBox(children=(HTML(value=\"<pre>[{'email': None,\\n 'first': 'A',\\n 'last': 'Carlson',\\n 'middle': 'B',\\n 'p…"
      ]
     },
     "execution_count": 12,
     "metadata": {},
     "output_type": "execute_result"
    }
   ],
   "source": [
    "# Create the graph\n",
    "G = nx.Graph()\n",
    "\n",
    "# Add nodes to the graph\n",
    "for author in authors:\n",
    "    G.add_node(author, tooltip=author.__repr__())  # Set the tooltip for each node to author information\n",
    "\n",
    "# Rest of the code to add edges...\n",
    "\n",
    "cyto = CytoscapeWidget()\n",
    "cyto.graph.add_graph_from_networkx(G)\n",
    "\n",
    "# Rest of the code for node style and setting style...\n",
    "\n",
    "##title\n",
    "title_label = widgets.Label(value='Author Network Graph', style={'font-weight': 'bold'})\n",
    "\n",
    "# Dropdown widget to switch between types of nodes\n",
    "dropdown = widgets.Dropdown(options=['Authors', 'Publications'], value='Authors', description='Node Mode:')\n",
    "\n",
    "# Create the dataset widget\n",
    "#dataset_widget = widgets.HTML(value=\"<pre>{}</pre>\".format(pprint.pformat(authors)))\n",
    "\n",
    "# Create the grid layout\n",
    "grid = widgets.GridBox([dataset_widget, cyto], layout=widgets.Layout(grid_template_columns=\"50% 50%\"))\n",
    "\n",
    "# Set the column widths to ensure proper layout\n",
    "grid.children[0].layout.width = \"100%\"\n",
    "\n",
    "# Display the grid layout\n",
    "grid\n"
   ]
  },
  {
   "cell_type": "code",
   "execution_count": 20,
   "id": "d994f025-4a31-41ce-8ca3-a3ded8a4dd7c",
   "metadata": {},
   "outputs": [
    {
     "data": {
      "text/html": [
       "\n",
       "<script>\n",
       "    cy.on('mouseover', 'node', function(evt){\n",
       "        var node = evt.target;\n",
       "        node.qtip({\n",
       "            content: node.data('tooltip'), // Display tooltip with 'tooltip' attribute value\n",
       "            show: {\n",
       "                event: evt.type,\n",
       "                ready: true,\n",
       "                delay: 0\n",
       "            },\n",
       "            hide: {\n",
       "                event: 'mouseout unfocus'\n",
       "            },\n",
       "            position: {\n",
       "                my: 'bottom center',\n",
       "                at: 'top center'\n",
       "            },\n",
       "            style: {\n",
       "                classes: 'qtip-bootstrap',\n",
       "                tip: {\n",
       "                    width: 16,\n",
       "                    height: 8\n",
       "                }\n",
       "            }\n",
       "        }, evt);\n",
       "    });\n",
       "</script>\n"
      ],
      "text/plain": [
       "<IPython.core.display.HTML object>"
      ]
     },
     "metadata": {},
     "output_type": "display_data"
    },
    {
     "data": {
      "application/vnd.jupyter.widget-view+json": {
       "model_id": "ca34bbcaf5584da598fc243a0a947276",
       "version_major": 2,
       "version_minor": 0
      },
      "text/plain": [
       "Label(value='Author Network Graph')"
      ]
     },
     "metadata": {},
     "output_type": "display_data"
    },
    {
     "data": {
      "application/vnd.jupyter.widget-view+json": {
       "model_id": "cbe5eee0c6f3418ab085161460b20462",
       "version_major": 2,
       "version_minor": 0
      },
      "text/plain": [
       "Dropdown(description='Node Mode:', options=('Authors', 'Publications'), value='Authors')"
      ]
     },
     "metadata": {},
     "output_type": "display_data"
    },
    {
     "data": {
      "application/vnd.jupyter.widget-view+json": {
       "model_id": "b568c9844e1d4e1fb517a90e060e8133",
       "version_major": 2,
       "version_minor": 0
      },
      "text/plain": [
       "HTML(value=\"<pre>[{'email': None,\\n 'first': 'A',\\n 'last': 'Carlson',\\n 'middle': 'B',\\n 'publications': [1, …"
      ]
     },
     "metadata": {},
     "output_type": "display_data"
    },
    {
     "data": {
      "application/vnd.jupyter.widget-view+json": {
       "model_id": "8b0ff090765a4b68a3bf8e3c5cd59bf0",
       "version_major": 2,
       "version_minor": 0
      },
      "text/plain": [
       "CytoscapeWidget(cytoscape_layout={'name': 'cola'}, cytoscape_style=[{'selector': 'node', 'style': {'shape': 'e…"
      ]
     },
     "metadata": {},
     "output_type": "display_data"
    }
   ],
   "source": [
    "import pprint\n",
    "from fastcore.basics import patch\n",
    "import networkx as nx\n",
    "import ipywidgets as widgets\n",
    "from IPython.display import display, HTML\n",
    "from ipycytoscape import CytoscapeWidget\n",
    "\n",
    "# Rest of the code for Author class and data...\n",
    "\n",
    "# Create the graph\n",
    "G = nx.Graph()\n",
    "\n",
    "# Add nodes to the graph\n",
    "for author in authors:\n",
    "    G.add_node(author, tooltip=author.__repr__())  # Set the tooltip for each node to author information\n",
    "\n",
    "# Rest of the code to add edges...\n",
    "\n",
    "cyto = CytoscapeWidget()\n",
    "cyto.graph.add_graph_from_networkx(G)\n",
    "\n",
    "# Rest of the code for node style and setting style...\n",
    "\n",
    "# Custom JavaScript code for displaying tooltip on hover\n",
    "hover_code = \"\"\"\n",
    "<script>\n",
    "    cy.on('mouseover', 'node', function(evt){\n",
    "        var node = evt.target;\n",
    "        node.qtip({\n",
    "            content: node.data('tooltip'), // Display tooltip with 'tooltip' attribute value\n",
    "            show: {\n",
    "                event: evt.type,\n",
    "                ready: true,\n",
    "                delay: 0\n",
    "            },\n",
    "            hide: {\n",
    "                event: 'mouseout unfocus'\n",
    "            },\n",
    "            position: {\n",
    "                my: 'bottom center',\n",
    "                at: 'top center'\n",
    "            },\n",
    "            style: {\n",
    "                classes: 'qtip-bootstrap',\n",
    "                tip: {\n",
    "                    width: 16,\n",
    "                    height: 8\n",
    "                }\n",
    "            }\n",
    "        }, evt);\n",
    "    });\n",
    "</script>\n",
    "\"\"\"\n",
    "\n",
    "# Set the style for the nodes\n",
    "cyto.set_style([\n",
    "    {\n",
    "        'selector': 'node',\n",
    "        'style': node_style\n",
    "    },\n",
    "    {\n",
    "        'selector': 'edge',\n",
    "        'style': {\n",
    "            'width': 1,\n",
    "            'line-color': 'gray',\n",
    "            'curve-style': 'bezier',\n",
    "            'target-arrow-color': 'gray',\n",
    "            'target-arrow-shape': 'triangle'\n",
    "        }\n",
    "    }\n",
    "])\n",
    "\n",
    "##title\n",
    "title_label = widgets.Label(value='Author Network Graph', style={'font-weight': 'bold'})\n",
    "\n",
    "# Dropdown widget to switch between types of nodes\n",
    "dropdown = widgets.Dropdown(options=['Authors', 'Publications'], value='Authors', description='Node Mode:')\n",
    "\n",
    "# Create the dataset widget\n",
    "dataset_widget = widgets.HTML(value=\"<pre>{}</pre>\".format(pprint.pformat(authors)))\n",
    "\n",
    "# Display the widgets\n",
    "display(HTML(hover_code))\n",
    "display(title_label)\n",
    "display(dropdown)\n",
    "display(dataset_widget)\n",
    "display(cyto)\n"
   ]
  },
  {
   "cell_type": "code",
   "execution_count": null,
   "id": "16543d85-a268-4472-ada5-a99d85d66fcc",
   "metadata": {},
   "outputs": [],
   "source": []
  }
 ],
 "metadata": {
  "kernelspec": {
   "display_name": "Python 3 (ipykernel)",
   "language": "python",
   "name": "python3"
  },
  "language_info": {
   "codemirror_mode": {
    "name": "ipython",
    "version": 3
   },
   "file_extension": ".py",
   "mimetype": "text/x-python",
   "name": "python",
   "nbconvert_exporter": "python",
   "pygments_lexer": "ipython3",
   "version": "3.11.3"
  }
 },
 "nbformat": 4,
 "nbformat_minor": 5
}
