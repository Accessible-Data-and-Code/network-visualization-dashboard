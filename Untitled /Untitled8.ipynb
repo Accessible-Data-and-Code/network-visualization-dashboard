{
 "cells": [
  {
   "cell_type": "code",
   "execution_count": 17,
   "id": "4ec83d3f-0daa-48f0-82b0-7c2387f44897",
   "metadata": {},
   "outputs": [
    {
     "data": {
      "application/vnd.jupyter.widget-view+json": {
       "model_id": "5ba2e8003082464aa8d0e18ff7a87d07",
       "version_major": 2,
       "version_minor": 0
      },
      "text/plain": [
       "CytoscapeWidget(cytoscape_layout={'name': 'cola'}, cytoscape_style=[{'selector': 'node', 'css': {'background-c…"
      ]
     },
     "metadata": {},
     "output_type": "display_data"
    },
    {
     "data": {
      "application/vnd.jupyter.widget-view+json": {
       "model_id": "3cbab43197f34575a9a0e860138129af",
       "version_major": 2,
       "version_minor": 0
      },
      "text/plain": [
       "Output()"
      ]
     },
     "metadata": {},
     "output_type": "display_data"
    }
   ],
   "source": [
    "import pprint\n",
    "from fastcore.basics import patch\n",
    "import networkx as nx\n",
    "import matplotlib.pyplot as plt\n",
    "import ipywidgets as widgets\n",
    "import ipycytoscape\n",
    "from ipycytoscape import CytoscapeWidget\n",
    "from IPython.display import display, clear_output\n",
    "from ipywidgets import Output\n",
    "from pprint import pformat\n",
    "\n",
    "## Creating Author Class\n",
    "class Author:\n",
    "    def __init__(self, first, middle, last, email=None, publications=[]):\n",
    "        self.first = first\n",
    "        self.middle = middle\n",
    "        self.last = last\n",
    "        self.email = email\n",
    "        self.publications = publications\n",
    "\n",
    "## Make format pretty\n",
    "@patch\n",
    "def __repr__(self: Author):\n",
    "    return pprint.pformat(vars(self))\n",
    "\n",
    "## Mock Dataset\n",
    "a1 = Author('A', 'B', 'Carlson', publications=[1, 2, 3])\n",
    "a2 = Author('B', 'C', 'Dawson', publications=[3, 4, 5, 6])\n",
    "a3 = Author('C', 'D', 'Elfson', publications=[1, 5, 7, 8])\n",
    "a4 = Author('D', 'E', 'Fitzgerald', publications=[1, 5, 9, 10])\n",
    "a5 = Author('E', 'F', 'Gerard', publications=[4, 11, 12])\n",
    "\n",
    "authors = [a1, a2, a3, a4, a5]\n",
    "\n",
    "#### Step 1: Making sure correct matches are found between authors ####\n",
    "\n",
    "# Create the graph\n",
    "G = nx.Graph()\n",
    "\n",
    "for index_a in range(len(authors)):\n",
    "    for index_b in range(index_a + 1, len(authors)):\n",
    "        author_a = authors[index_a]\n",
    "        author_b = authors[index_b]\n",
    "\n",
    "        for publication_a in author_a.publications:\n",
    "            for publication_b in author_b.publications:\n",
    "                if publication_a == publication_b:\n",
    "                    G.add_edge(author_a, author_b)\n",
    "\n",
    "# Add nodes to the graph\n",
    "for author in authors:\n",
    "    G.add_node(author)\n",
    "\n",
    "#### Step 2: Adding titles ####\n",
    "\n",
    "out = widgets.Output()\n",
    "\n",
    "def log_mouseovers(event):\n",
    "    with out:\n",
    "        clear_output(wait=True)\n",
    "        if 'node' in event:\n",
    "            hovered_node_id = event['node']['_id']\n",
    "            hovered_node_data = cyto.get_node_at(hovered_node_id)\n",
    "            if hovered_node_data is not None:\n",
    "                author = hovered_node_data['data']\n",
    "                print(f'Name: {author.first} {author.middle} {author.last}')\n",
    "                print(f'Email: {author.email}')\n",
    "                print(f'Publications: {author.publications}')\n",
    "\n",
    "# Create the Cytoscape graph widget\n",
    "cyto = ipycytoscape.CytoscapeWidget()\n",
    "cyto.graph.add_graph_from_networkx(G)\n",
    "\n",
    "# Attach the mouseover callback to the Cytoscape widget\n",
    "cyto.on('node', 'mouseover', log_mouseovers)\n",
    "\n",
    "# Create a label for the title\n",
    "title_label = widgets.Label(value='Author Network Graph', style={'font-weight': 'bold'})\n",
    "\n",
    "# Display the widgets using a VBox layout\n",
    "# display(widgets.VBox([title_label, cyto, out]))\n",
    "\n",
    "out = Output()\n",
    "\n",
    "def log_clicks(node):\n",
    "    with out:\n",
    "        print(f'clicked: {pformat(node)}')\n",
    "\n",
    "def log_mouseovers(node):\n",
    "    with out:\n",
    "        clear_output()  # Clear the previous output before displaying new information\n",
    "        # Check if the node contains 'data' key and extract properties from it\n",
    "        if 'data' in node:\n",
    "            properties = node['data']['id']  # Change 'label' to the desired property key\n",
    "            print(f'mouseover: {properties}')\n",
    "            \n",
    "\n",
    "cyto.on('node', 'click', log_clicks)\n",
    "cyto.on('node', 'mouseover', log_mouseovers)\n",
    "\n",
    "# call `display` to show both widgets in one output cell\n",
    "display(cyto)\n",
    "display(out)\n"
   ]
  },
  {
   "cell_type": "code",
   "execution_count": null,
   "id": "52c6f7e9-e140-407e-9e35-451a7af65d9b",
   "metadata": {},
   "outputs": [],
   "source": []
  }
 ],
 "metadata": {
  "kernelspec": {
   "display_name": "Python 3 (ipykernel)",
   "language": "python",
   "name": "python3"
  },
  "language_info": {
   "codemirror_mode": {
    "name": "ipython",
    "version": 3
   },
   "file_extension": ".py",
   "mimetype": "text/x-python",
   "name": "python",
   "nbconvert_exporter": "python",
   "pygments_lexer": "ipython3",
   "version": "3.11.3"
  }
 },
 "nbformat": 4,
 "nbformat_minor": 5
}
