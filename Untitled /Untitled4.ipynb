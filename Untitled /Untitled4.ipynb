{
 "cells": [
  {
   "cell_type": "code",
   "execution_count": 2,
   "id": "85a19b33-594c-49a2-aed7-b26ea4225c92",
   "metadata": {},
   "outputs": [
    {
     "data": {
      "application/vnd.jupyter.widget-view+json": {
       "model_id": "19d968217d2649a7b7ac5176d5f25ee3",
       "version_major": 2,
       "version_minor": 0
      },
      "text/plain": [
       "DataGrid(auto_fit_params={'area': 'all', 'padding': 30, 'numCols': None}, corner_renderer=None, default_render…"
      ]
     },
     "metadata": {},
     "output_type": "display_data"
    },
    {
     "data": {
      "text/html": [
       "<style>\n",
       ".tippy-tooltip {\n",
       "    background-color: white !important;\n",
       "}\n",
       "</style>"
      ],
      "text/plain": [
       "<IPython.core.display.HTML object>"
      ]
     },
     "metadata": {},
     "output_type": "display_data"
    },
    {
     "data": {
      "application/vnd.jupyter.widget-view+json": {
       "model_id": "dd90e423a9544e93b6040d2fe9046a0b",
       "version_major": 2,
       "version_minor": 0
      },
      "text/plain": [
       "VBox(children=(Label(value='Author Network Graph'), GridBox(children=(DataGrid(auto_fit_params={'area': 'all',…"
      ]
     },
     "execution_count": 2,
     "metadata": {},
     "output_type": "execute_result"
    }
   ],
   "source": [
    "import pprint\n",
    "from fastcore.basics import patch\n",
    "import networkx as nx\n",
    "import ipywidgets as widgets\n",
    "import ipycytoscape\n",
    "from ipycytoscape import CytoscapeWidget\n",
    "from IPython.display import display, HTML\n",
    "import pandas as pd\n",
    "from ipydatagrid import DataGrid\n",
    "\n",
    "## Creating Author Class\n",
    "class Author:\n",
    "    def __init__(self, first, middle, last, email=None, publications=[]):\n",
    "        self.first = first\n",
    "        self.middle = middle\n",
    "        self.last = last\n",
    "        self.email = email\n",
    "        self.publications = publications\n",
    "\n",
    "## Make format pretty\n",
    "@patch\n",
    "def __repr__(self:Author):\n",
    "    return pprint.pformat(vars(self))\n",
    "\n",
    "## Mock Dataset\n",
    "a1 = Author('A', 'B', 'Carlson', publications=[1, 2, 3])\n",
    "a2 = Author('B', 'C', 'Dawson', publications=[3, 4, 5, 6])\n",
    "a3 = Author('C', 'D', 'Elfson', publications=[1, 5, 7, 8])\n",
    "a4 = Author('D', 'E', 'Fitzgerald', publications=[1, 5, 9, 10])\n",
    "a5 = Author('E', 'F', 'Gerard', publications=[4, 11, 12])\n",
    "a5\n",
    "\n",
    "authors = [a1, a2, a3, a4, a5]\n",
    "\n",
    "# Create the graph\n",
    "G = nx.Graph()\n",
    "\n",
    "for index_a in range(len(authors)):\n",
    "    for index_b in range(index_a + 1, len(authors)):\n",
    "        author_a = authors[index_a]\n",
    "        author_b = authors[index_b]\n",
    "\n",
    "        common_publications = set(author_a.publications).intersection(author_b.publications)\n",
    "        if common_publications:\n",
    "            # Add the weighted edge to the graph\n",
    "            G.add_edge(author_a, author_b, weight=len(common_publications))\n",
    "\n",
    "## Create a list of dictionaries containing author information\n",
    "author_data = [\n",
    "    {\"first\": author.first, \"middle\": author.middle, \"last\": author.last, \"email\": author.email, \"publications\": author.publications}\n",
    "    for author in authors\n",
    "]\n",
    "\n",
    "## Create a DataFrame from the author data\n",
    "authors_df = pd.DataFrame(author_data)\n",
    "\n",
    "## Create the datagrid and display it\n",
    "datagrid = DataGrid(authors_df, editable=False, layout={\"height\": \"200px\"})\n",
    "display(datagrid)\n",
    "# Add nodes to the graph\n",
    "for author in authors:\n",
    "     G.add_node(author, tooltip=author.__repr__())\n",
    "\n",
    "# Create the Cytoscape widget\n",
    "cyto = CytoscapeWidget()\n",
    "cyto.graph.add_graph_from_networkx(G)\n",
    "\n",
    "##title --- disappears for some reason? maybe misplaced\n",
    "title_label = widgets.Label(value='Author Network Graph', style={'font-weight': 'bold'})\n",
    "\n",
    "# Custom CSS style to change tooltip's background color\n",
    "custom_style = \"\"\"\n",
    ".tippy-tooltip {\n",
    "    background-color: white !important;\n",
    "}\n",
    "\"\"\"\n",
    "\n",
    "# Display the custom CSS style\n",
    "display(HTML(f\"<style>{custom_style}</style>\"))\n",
    "\n",
    "# Create the dataset widget\n",
    "dataset_widget = widgets.HTML(value=\"<pre>{}</pre>\".format(pprint.pformat(authors)))\n",
    "\n",
    "# Create the grid layout with the datagrid in the first column and the Cytoscape widget in the second column\n",
    "grid = widgets.GridBox([datagrid, cyto], layout=widgets.Layout(grid_template_columns=\"50% 50%\"))\n",
    "\n",
    "# Set the column widths to ensure proper layout\n",
    "grid.children[0].layout.width = \"100%\"\n",
    "\n",
    "# Display the title_label and the grid layout\n",
    "widgets.VBox([title_label, grid])"
   ]
  },
  {
   "cell_type": "code",
   "execution_count": 5,
   "id": "f98c532a-ae15-4499-ac7c-6eb71ee022ff",
   "metadata": {},
   "outputs": [
    {
     "data": {
      "text/html": [
       "<style>\n",
       ".tippy-tooltip {\n",
       "    background-color: white !important;\n",
       "}\n",
       "</style>"
      ],
      "text/plain": [
       "<IPython.core.display.HTML object>"
      ]
     },
     "metadata": {},
     "output_type": "display_data"
    },
    {
     "data": {
      "application/vnd.jupyter.widget-view+json": {
       "model_id": "1f209cf82eb74012acd365b4de30d99b",
       "version_major": 2,
       "version_minor": 0
      },
      "text/plain": [
       "Label(value='Author Network Graph')"
      ]
     },
     "metadata": {},
     "output_type": "display_data"
    },
    {
     "data": {
      "application/vnd.jupyter.widget-view+json": {
       "model_id": "a020e7e8027449d1adb48f63fb4f09f9",
       "version_major": 2,
       "version_minor": 0
      },
      "text/plain": [
       "GridBox(children=(DataGrid(auto_fit_params={'area': 'all', 'padding': 30, 'numCols': None}, corner_renderer=No…"
      ]
     },
     "metadata": {},
     "output_type": "display_data"
    }
   ],
   "source": [
    "import pprint\n",
    "from fastcore.basics import patch\n",
    "import networkx as nx\n",
    "import ipywidgets as widgets\n",
    "import ipycytoscape\n",
    "from ipycytoscape import CytoscapeWidget\n",
    "from IPython.display import display, HTML\n",
    "import pandas as pd\n",
    "from ipydatagrid import DataGrid\n",
    "\n",
    "\n",
    "## Create a list of dictionaries containing author information\n",
    "author_data = [\n",
    "    {\"first\": author.first, \"middle\": author.middle, \"last\": author.last, \"email\": author.email, \"publications\": author.publications, \"id\": idx}\n",
    "    for idx, author in enumerate(authors) # Add 'id' to the data to link with the nodes in the Cytoscape graph\n",
    "]\n",
    "\n",
    "## Create a DataFrame from the author data\n",
    "authors_df = pd.DataFrame(author_data)\n",
    "\n",
    "# Create the Cytoscape widget\n",
    "cyto = CytoscapeWidget()\n",
    "cyto.graph.add_graph_from_networkx(G)\n",
    "\n",
    "# Custom CSS style to change tooltip's background color\n",
    "custom_style = \"\"\"\n",
    ".tippy-tooltip {\n",
    "    background-color: white !important;\n",
    "}\n",
    "\"\"\"\n",
    "\n",
    "# Display the custom CSS style\n",
    "display(HTML(f\"<style>{custom_style}</style>\"))\n",
    "\n",
    "# Create the dataset widget\n",
    "dataset_widget = widgets.HTML(value=\"<pre>{}</pre>\".format(pprint.pformat(authors)))\n",
    "\n",
    "# Create the grid layout with the datagrid in the first column and the Cytoscape widget in the second column\n",
    "grid = widgets.GridBox([datagrid, cyto], layout=widgets.Layout(grid_template_columns=\"50% 50%\"))\n",
    "\n",
    "# Set the column widths to ensure proper layout\n",
    "grid.children[0].layout.width = \"100%\"\n",
    "\n",
    "# Display the widgets using a VBox layout\n",
    "display(title_label, grid)\n",
    "\n",
    "# Function to highlight and select the corresponding node in the DataGrid\n",
    "def select_node(event):\n",
    "    selected_node_id = event[\"target\"][\"data\"][\"id\"]\n",
    "    if selected_node_id in authors_df[\"id\"].values:\n",
    "        selected_row = authors_df[authors_df[\"id\"] == selected_node_id]\n",
    "        datagrid.selection = [selected_row.index[0]]\n",
    "\n",
    "# Add the click event handler to the Cytoscape widget\n",
    "cyto.on(\"node\", \"click\", select_node)\n"
   ]
  },
  {
   "cell_type": "code",
   "execution_count": null,
   "id": "e1c0b18e-c749-4bfe-8892-d67fb5165485",
   "metadata": {},
   "outputs": [],
   "source": []
  }
 ],
 "metadata": {
  "kernelspec": {
   "display_name": "Python 3 (ipykernel)",
   "language": "python",
   "name": "python3"
  },
  "language_info": {
   "codemirror_mode": {
    "name": "ipython",
    "version": 3
   },
   "file_extension": ".py",
   "mimetype": "text/x-python",
   "name": "python",
   "nbconvert_exporter": "python",
   "pygments_lexer": "ipython3",
   "version": "3.11.3"
  }
 },
 "nbformat": 4,
 "nbformat_minor": 5
}
