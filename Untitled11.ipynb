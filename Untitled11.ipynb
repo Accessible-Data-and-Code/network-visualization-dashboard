{
 "cells": [
  {
   "cell_type": "code",
   "execution_count": 1,
   "id": "52c6f7e9-e140-407e-9e35-451a7af65d9b",
   "metadata": {},
   "outputs": [
    {
     "ename": "NameError",
     "evalue": "name 'title_label' is not defined",
     "output_type": "error",
     "traceback": [
      "\u001b[0;31m---------------------------------------------------------------------------\u001b[0m",
      "\u001b[0;31mNameError\u001b[0m                                 Traceback (most recent call last)",
      "Cell \u001b[0;32mIn[1], line 99\u001b[0m\n\u001b[1;32m     92\u001b[0m \u001b[38;5;66;03m# Create a label for the title\u001b[39;00m\n\u001b[1;32m     93\u001b[0m \u001b[38;5;66;03m#title_label = widgets.Label(value='Author Network Graph', style={'font-size': '24px', 'font-weight': 'bold', 'text-align': 'center'}\u001b[39;00m\n\u001b[1;32m     94\u001b[0m \u001b[38;5;66;03m#)\u001b[39;00m\n\u001b[1;32m     95\u001b[0m \n\u001b[1;32m     96\u001b[0m \n\u001b[1;32m     97\u001b[0m \u001b[38;5;66;03m# Display the widgets using a GridBox layout with reversed elements\u001b[39;00m\n\u001b[1;32m     98\u001b[0m grid \u001b[38;5;241m=\u001b[39m widgets\u001b[38;5;241m.\u001b[39mGridBox([author_text_area, cyto], layout\u001b[38;5;241m=\u001b[39mwidgets\u001b[38;5;241m.\u001b[39mLayout(grid_template_columns\u001b[38;5;241m=\u001b[39m\u001b[38;5;124m'\u001b[39m\u001b[38;5;124m1fr 1fr\u001b[39m\u001b[38;5;124m'\u001b[39m, align_items\u001b[38;5;241m=\u001b[39m\u001b[38;5;124m'\u001b[39m\u001b[38;5;124mcenter\u001b[39m\u001b[38;5;124m'\u001b[39m))\n\u001b[0;32m---> 99\u001b[0m display(widgets\u001b[38;5;241m.\u001b[39mVBox([\u001b[43mtitle_label\u001b[49m, grid]))  \u001b[38;5;66;03m# Put the title and grid in a vertical box layout\u001b[39;00m\n",
      "\u001b[0;31mNameError\u001b[0m: name 'title_label' is not defined"
     ]
    }
   ],
   "source": [
    "import pprint\n",
    "from fastcore.basics import patch\n",
    "import networkx as nx\n",
    "import matplotlib.pyplot as plt\n",
    "import ipywidgets as widgets\n",
    "import ipycytoscape\n",
    "from ipycytoscape import CytoscapeWidget\n",
    "from IPython.display import display, clear_output, HTML\n",
    "from ipywidgets import Output\n",
    "from pprint import pformat\n",
    "import pandas as pd\n",
    "from ipydatagrid import DataGrid\n",
    "\n",
    "\n",
    "## Creating Author Class\n",
    "class Author:\n",
    "    def __init__(self, first, middle, last, email=None, publications=[]):\n",
    "        self.first = first\n",
    "        self.middle = middle\n",
    "        self.last = last\n",
    "        self.email = email\n",
    "        self.publications = publications\n",
    "\n",
    "## Make format pretty\n",
    "@patch\n",
    "def __repr__(self: Author):\n",
    "    return pprint.pformat(vars(self))\n",
    "\n",
    "## Mock Dataset\n",
    "a1 = Author('A', 'B', 'Carlson', publications=[1, 2, 3])\n",
    "a2 = Author('B', 'C', 'Dawson', publications=[3, 4, 5, 6])\n",
    "a3 = Author('C', 'D', 'Elfson', publications=[1, 5, 7, 8])\n",
    "a4 = Author('D', 'E', 'Fitzgerald', publications=[1, 5, 9, 10])\n",
    "a5 = Author('E', 'F', 'Gerard', publications=[4, 11, 12])\n",
    "\n",
    "authors = [a1, a2, a3, a4, a5]\n",
    "\n",
    "#### Step 1: Making sure correct matches are found between authors ####\n",
    "\n",
    "# Create the graph\n",
    "G = nx.Graph()\n",
    "\n",
    "for index_a in range(len(authors)):\n",
    "    for index_b in range(index_a + 1, len(authors)):\n",
    "        author_a = authors[index_a]\n",
    "        author_b = authors[index_b]\n",
    "\n",
    "        for publication_a in author_a.publications:\n",
    "            for publication_b in author_b.publications:\n",
    "                if publication_a == publication_b:\n",
    "                    G.add_edge(author_a, author_b)\n",
    "\n",
    "# Add nodes to the graph\n",
    "for author in authors:\n",
    "    G.add_node(author)\n",
    "\n",
    "#### Step 2: Adding titles ####\n",
    "\n",
    "out = widgets.Output()\n",
    "\n",
    "# Create the Cytoscape graph widget\n",
    "cyto = ipycytoscape.CytoscapeWidget()\n",
    "cyto.graph.add_graph_from_networkx(G)\n",
    "\n",
    "# Create a widgets.Textarea to display author information\n",
    "author_text_area = widgets.Textarea(\n",
    "    value='',\n",
    "    layout=widgets.Layout(width='400px', height='200px') #w and h\n",
    "    \n",
    ")\n",
    "\n",
    "# Create an output widget to display author information\n",
    "out = Output()\n",
    "def log_clicks(node):\n",
    "    #pass\n",
    "    with out:\n",
    "        print(f'clicked: {pformat(node)}')\n",
    "\n",
    "def log_mouseovers(node):\n",
    "    with out:\n",
    "        clear_output()  # Clear the previous output before displaying new information\n",
    "        # Check if the node contains 'data' key and extract properties from it\n",
    "        if 'data' in node:\n",
    "            properties = node['data']['id']  # Change 'label' to the desired property key\n",
    "           # print(f'{properties}')\n",
    "            author_text_area.value = properties  # Set the value of the textarea to the author information\n",
    "\n",
    "# Attach the mouseover callback to the Cytoscape widget\n",
    "#cyto.on('node', 'click', log_clicks)\n",
    "cyto.on('node', 'mouseover', log_mouseovers)\n",
    "\n",
    "# Create a label for the title\n",
    "#title_label = widgets.Label(value='Author Network Graph', style={'font-size': '24px', 'font-weight': 'bold', 'text-align': 'center'}\n",
    "#)\n",
    "\n",
    "\n",
    "# Display the widgets using a GridBox layout with reversed elements\n",
    "grid = widgets.GridBox([author_text_area, cyto], layout=widgets.Layout(grid_template_columns='1fr 1fr', align_items='center'))\n",
    "display(widgets.VBox([title_label, grid]))  # Put the title and grid in a vertical box layout\n"
   ]
  },
  {
   "cell_type": "code",
   "execution_count": null,
   "id": "42cdd92f-6f8a-4311-93fe-cfc4d4a93564",
   "metadata": {},
   "outputs": [],
   "source": [
    "## Create a list of dictionaries containing author information\n",
    "author_data = [\n",
    "    {\"first\": author.first, \"middle\": author.middle, \"last\": author.last, \"email\": author.email, \"publications\": author.publications}\n",
    "    for author in authors\n",
    "]\n",
    "\n",
    "## Create a DataFrame from the author data\n",
    "authors_df = pd.DataFrame(author_data)\n",
    "\n",
    "## Create the datagrid and display it\n",
    "datagrid = DataGrid(authors_df, editable=False, layout={\"height\": \"200px\"})\n",
    "display(datagrid)"
   ]
  },
  {
   "cell_type": "code",
   "execution_count": null,
   "id": "6649fc12-cf36-4f4e-9527-66320016b13b",
   "metadata": {},
   "outputs": [],
   "source": [
    "# Create the Cytoscape graph widget\n",
    "cyto = ipycytoscape.CytoscapeWidget()\n",
    "cyto.graph.add_graph_from_networkx(G)\n",
    "\n",
    "# Create a widgets.Textarea to display author information\n",
    "author_text_area = widgets.Textarea(\n",
    "    value='',\n",
    "    placeholder='Hover over a node to see author information.',\n",
    "    layout=widgets.Layout(width='800px', height='200px', editable=False)  # Adjust width and height as needed\n",
    ")\n",
    "\n",
    "def log_mouseovers(node):\n",
    "    with out:\n",
    "        clear_output()  # Clear the previous output before displaying new information\n",
    "        # Check if the node contains 'data' key and extract properties from it\n",
    "        if 'data' in node:\n",
    "            properties = node['data']['id']  # Change 'label' to the desired property key\n",
    "            author_text_area.value = properties  # Set the value of the textarea to the author information\n",
    "\n",
    "# Attach the mouseover callback to the Cytoscape widget\n",
    "cyto.on('node', 'mouseover', log_mouseovers)\n",
    "\n",
    "# Create a label for the title with big, bold, and centered style\n",
    "title_label = widgets.Label(\n",
    "    value='Author Network Graph',\n",
    "    style={'font-size': '400px', 'font-weight': 'bold', 'text-align': 'center'}\n",
    ")\n",
    "\n",
    "## Create a list of dictionaries containing author information\n",
    "author_data = [\n",
    "    {\"first\": author.first, \"middle\": author.middle, \"last\": author.last, \"email\": author.email, \"publications\": author.publications}\n",
    "    for author in authors\n",
    "]\n",
    "\n",
    "## Create a DataFrame from the author data\n",
    "authors_df = pd.DataFrame(author_data)\n",
    "\n",
    "## Create the datagrid and display it\n",
    "datagrid = DataGrid(authors_df, editable=False, layout={\"height\": \"200px\"})\n",
    "\n",
    "# Display the widgets using a GridBox layout with datagrid and textarea side by side\n",
    "grid = widgets.GridBox([datagrid, author_text_area], layout=widgets.Layout(grid_template_rows='1fr 1fr', align_items='center'))\n",
    "display(widgets.VBox([title_label, widgets.HBox([grid, cyto])]))  # Put the title and grid in a vertical box layout, and graph to the right\n"
   ]
  },
  {
   "cell_type": "code",
   "execution_count": 2,
   "id": "9eed3539-c87b-4bd9-ba19-c9d6169d7549",
   "metadata": {},
   "outputs": [
    {
     "data": {
      "application/vnd.jupyter.widget-view+json": {
       "model_id": "6d0d63124e324335b7fc76b90b1af15e",
       "version_major": 2,
       "version_minor": 0
      },
      "text/plain": [
       "Label(value='Author Network Graph')"
      ]
     },
     "metadata": {},
     "output_type": "display_data"
    },
    {
     "data": {
      "application/vnd.jupyter.widget-view+json": {
       "model_id": "3f9bc3a75f12473a875957e7b5b66487",
       "version_major": 2,
       "version_minor": 0
      },
      "text/plain": [
       "Label(value='Author Data')"
      ]
     },
     "metadata": {},
     "output_type": "display_data"
    },
    {
     "data": {
      "application/vnd.jupyter.widget-view+json": {
       "model_id": "edde719282d543188f556cb1962901a2",
       "version_major": 2,
       "version_minor": 0
      },
      "text/plain": [
       "DataGrid(auto_fit_params={'area': 'all', 'padding': 30, 'numCols': None}, corner_renderer=None, default_render…"
      ]
     },
     "metadata": {},
     "output_type": "display_data"
    },
    {
     "data": {
      "application/vnd.jupyter.widget-view+json": {
       "model_id": "5415b19d6a0045d489e8e0cc81dcd76a",
       "version_major": 2,
       "version_minor": 0
      },
      "text/plain": [
       "Label(value='Author Information')"
      ]
     },
     "metadata": {},
     "output_type": "display_data"
    },
    {
     "data": {
      "application/vnd.jupyter.widget-view+json": {
       "model_id": "18a2a5a8f80a40d1b5194e369a4bffe2",
       "version_major": 2,
       "version_minor": 0
      },
      "text/plain": [
       "Textarea(value='', layout=Layout(height='200px', width='800px'), placeholder='Hover over a node to see author …"
      ]
     },
     "metadata": {},
     "output_type": "display_data"
    },
    {
     "data": {
      "application/vnd.jupyter.widget-view+json": {
       "model_id": "969f752579e44344af474759d86cab0f",
       "version_major": 2,
       "version_minor": 0
      },
      "text/plain": [
       "Label(value='Author Network Graph')"
      ]
     },
     "metadata": {},
     "output_type": "display_data"
    },
    {
     "data": {
      "application/vnd.jupyter.widget-view+json": {
       "model_id": "72a83b5339d04ffe8ed4661e40c87405",
       "version_major": 2,
       "version_minor": 0
      },
      "text/plain": [
       "HBox(children=(GridBox(children=(Textarea(value='', layout=Layout(height='200px', width='400px')), CytoscapeWi…"
      ]
     },
     "metadata": {},
     "output_type": "display_data"
    }
   ],
   "source": [
    "import pprint\n",
    "from fastcore.basics import patch\n",
    "import networkx as nx\n",
    "import matplotlib.pyplot as plt\n",
    "import ipywidgets as widgets\n",
    "import ipycytoscape\n",
    "from ipycytoscape import CytoscapeWidget\n",
    "from IPython.display import display, clear_output\n",
    "from ipywidgets import Output\n",
    "from pprint import pformat\n",
    "import pandas as pd\n",
    "from ipydatagrid import DataGrid  # Import DataGrid\n",
    "\n",
    "## ... (Author class and dataset definitions remain the same) ...\n",
    "\n",
    "# Create the Cytoscape graph widget\n",
    "cyto = ipycytoscape.CytoscapeWidget()\n",
    "cyto.graph.add_graph_from_networkx(G)\n",
    "\n",
    "# Create a widgets.Textarea to display author information\n",
    "author_text_area = widgets.Textarea(\n",
    "    value='',\n",
    "    placeholder='Hover over a node to see author information...',\n",
    "    layout=widgets.Layout(width='800px', height='200px', font_size='14px', resize='none')\n",
    ")\n",
    "\n",
    "def log_mouseovers(node):\n",
    "    with out:\n",
    "        clear_output()  # Clear the previous output before displaying new information\n",
    "        # Check if the node contains 'data' key and extract properties from it\n",
    "        if 'data' in node:\n",
    "            properties = node['data']['id']  # Change 'label' to the desired property key\n",
    "            author_text_area.value = properties  # Set the value of the textarea to the author information\n",
    "\n",
    "# Attach the mouseover callback to the Cytoscape widget\n",
    "cyto.on('node', 'mouseover', log_mouseovers)\n",
    "\n",
    "# Create a label for the title with big, bold, and centered style\n",
    "title_label = widgets.Label(\n",
    "    value='Author Network Graph',\n",
    "    style={'font-size': '24px', 'font-weight': 'bold', 'text-align': 'center', 'margin-bottom': '10px'}\n",
    ")\n",
    "\n",
    "# Create titles for each section\n",
    "datagrid_title = widgets.Label(value='Author Data', style={'font-weight': 'bold', 'text-align': 'center', 'margin-bottom': '5px'})\n",
    "textarea_title = widgets.Label(value='Author Information', style={'font-weight': 'bold', 'text-align': 'center', 'margin-bottom': '5px'})\n",
    "cyto_title = widgets.Label(value='Author Network Graph', style={'font-weight': 'bold', 'text-align': 'center', 'margin-bottom': '5px'})\n",
    "\n",
    "## Create a list of dictionaries containing author information\n",
    "author_data = [\n",
    "    {\"first\": author.first, \"middle\": author.middle, \"last\": author.last, \"email\": author.email, \"publications\": author.publications}\n",
    "    for author in authors\n",
    "]\n",
    "\n",
    "## Create a DataFrame from the author data\n",
    "authors_df = pd.DataFrame(author_data)\n",
    "\n",
    "## Create the datagrid and display it\n",
    "datagrid = DataGrid(authors_df, editable=False, layout={\"height\": \"200px\"})\n",
    "\n",
    "# Create a layout for the VBox to set space between the components\n",
    "vbox_layout = widgets.Layout(margin='10px 0px 10px 0px')\n",
    "\n",
    "# Display the widgets using a VBox layout with titles and components\n",
    "display(\n",
    "    title_label,\n",
    "    datagrid_title,\n",
    "    datagrid,\n",
    "    textarea_title,\n",
    "    author_text_area,\n",
    "    cyto_title,\n",
    "    widgets.HBox([grid, cyto])\n",
    ")\n"
   ]
  },
  {
   "cell_type": "code",
   "execution_count": null,
   "id": "797a2092-de11-40e6-935d-76489dbe43b9",
   "metadata": {},
   "outputs": [],
   "source": []
  },
  {
   "cell_type": "code",
   "execution_count": null,
   "id": "2530ccb3-663d-4724-9c70-7989b3f098bb",
   "metadata": {},
   "outputs": [],
   "source": []
  }
 ],
 "metadata": {
  "kernelspec": {
   "display_name": "Python 3 (ipykernel)",
   "language": "python",
   "name": "python3"
  },
  "language_info": {
   "codemirror_mode": {
    "name": "ipython",
    "version": 3
   },
   "file_extension": ".py",
   "mimetype": "text/x-python",
   "name": "python",
   "nbconvert_exporter": "python",
   "pygments_lexer": "ipython3",
   "version": "3.11.3"
  }
 },
 "nbformat": 4,
 "nbformat_minor": 5
}
