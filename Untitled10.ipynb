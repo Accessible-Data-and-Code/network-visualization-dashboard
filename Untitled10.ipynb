{
 "cells": [
  {
   "cell_type": "code",
   "execution_count": 42,
   "id": "52c6f7e9-e140-407e-9e35-451a7af65d9b",
   "metadata": {},
   "outputs": [],
   "source": [
    "import pprint\n",
    "from fastcore.basics import patch\n",
    "import networkx as nx\n",
    "import matplotlib.pyplot as plt\n",
    "import ipywidgets as widgets\n",
    "import ipycytoscape\n",
    "from ipycytoscape import CytoscapeWidget\n",
    "from IPython.display import display, clear_output, HTML\n",
    "from ipywidgets import Output\n",
    "from pprint import pformat\n",
    "import pandas as pd\n",
    "from ipydatagrid import DataGrid\n",
    "\n",
    "\n",
    "## Creating Author Class\n",
    "class Author:\n",
    "    def __init__(self, first, middle, last, email=None, publications=[]):\n",
    "        self.first = first\n",
    "        self.middle = middle\n",
    "        self.last = last\n",
    "        self.email = email\n",
    "        self.publications = publications\n",
    "\n",
    "## Make format pretty\n",
    "@patch\n",
    "def __repr__(self: Author):\n",
    "    return pprint.pformat(vars(self))\n",
    "\n",
    "## Mock Dataset\n",
    "a1 = Author('A', 'B', 'Carlson', publications=[1, 2, 3])\n",
    "a2 = Author('B', 'C', 'Dawson', publications=[3, 4, 5, 6])\n",
    "a3 = Author('C', 'D', 'Elfson', publications=[1, 5, 7, 8])\n",
    "a4 = Author('D', 'E', 'Fitzgerald', publications=[1, 5, 9, 10])\n",
    "a5 = Author('E', 'F', 'Gerard', publications=[4, 11, 12])\n",
    "\n",
    "authors = [a1, a2, a3, a4, a5]\n",
    "\n",
    "#### Step 1: Making sure correct matches are found between authors ####\n",
    "\n",
    "# Create the graph\n",
    "G = nx.Graph()\n",
    "\n",
    "for index_a in range(len(authors)):\n",
    "    for index_b in range(index_a + 1, len(authors)):\n",
    "        author_a = authors[index_a]\n",
    "        author_b = authors[index_b]\n",
    "\n",
    "        for publication_a in author_a.publications:\n",
    "            for publication_b in author_b.publications:\n",
    "                if publication_a == publication_b:\n",
    "                    G.add_edge(author_a, author_b)\n",
    "\n",
    "# Add nodes to the graph\n",
    "for author in authors:\n",
    "    G.add_node(author)\n",
    "\n",
    "#### Step 2: Adding titles ####\n",
    "\n",
    "out = widgets.Output()\n"
   ]
  },
  {
   "cell_type": "code",
   "execution_count": null,
   "id": "42cdd92f-6f8a-4311-93fe-cfc4d4a93564",
   "metadata": {},
   "outputs": [],
   "source": []
  },
  {
   "cell_type": "code",
   "execution_count": 43,
   "id": "6649fc12-cf36-4f4e-9527-66320016b13b",
   "metadata": {},
   "outputs": [
    {
     "data": {
      "application/vnd.jupyter.widget-view+json": {
       "model_id": "6088ec5daba94661bc58c8eb98e2d885",
       "version_major": 2,
       "version_minor": 0
      },
      "text/plain": [
       "VBox(children=(Label(value='Author Network Graph'), HBox(children=(GridBox(children=(DataGrid(auto_fit_params=…"
      ]
     },
     "metadata": {},
     "output_type": "display_data"
    }
   ],
   "source": [
    "# Create the Cytoscape graph widget\n",
    "cyto = ipycytoscape.CytoscapeWidget()\n",
    "cyto.graph.add_graph_from_networkx(G)\n",
    "\n",
    "# Create a widgets.Textarea to display author information\n",
    "author_text_area = widgets.Textarea(\n",
    "    value='',\n",
    "    placeholder='Hover over a node to see author information.',\n",
    "    layout=widgets.Layout(width='800px', height='200px', editable=False)  # Adjust width and height as needed\n",
    ")\n",
    "\n",
    "def log_mouseovers(node):\n",
    "    with out:\n",
    "        clear_output()  # Clear the previous output before displaying new information\n",
    "        # Check if the node contains 'data' key and extract properties from it\n",
    "        if 'data' in node:\n",
    "            properties = node['data']['id']  # Change 'label' to the desired property key\n",
    "            author_text_area.value = properties  # Set the value of the textarea to the author information\n",
    "\n",
    "# Attach the mouseover callback to the Cytoscape widget\n",
    "cyto.on('node', 'mouseover', log_mouseovers)\n",
    "\n",
    "# Create a label for the title with big, bold, and centered style\n",
    "title_label = widgets.Label(\n",
    "    value='Author Network Graph',\n",
    "    style={'font-size': '400px', 'font-weight': 'bold', 'text-align': 'center'}\n",
    ")\n",
    "\n",
    "## Create a list of dictionaries containing author information\n",
    "author_data = [\n",
    "    {\"first\": author.first, \"middle\": author.middle, \"last\": author.last, \"email\": author.email, \"publications\": author.publications}\n",
    "    for author in authors\n",
    "]\n",
    "\n",
    "## Create a DataFrame from the author data\n",
    "authors_df = pd.DataFrame(author_data)\n",
    "\n",
    "## Create the datagrid and display it\n",
    "datagrid = DataGrid(authors_df, editable=False, layout={\"height\": \"200px\"})\n",
    "\n",
    "# Display the widgets using a GridBox layout with datagrid and textarea side by side\n",
    "grid = widgets.GridBox([datagrid, author_text_area], layout=widgets.Layout(grid_template_rows='1fr 1fr', align_items='center'))\n",
    "display(widgets.VBox([title_label, widgets.HBox([grid, cyto])]))  # Put the title and grid in a vertical box layout, and graph to the right\n"
   ]
  },
  {
   "cell_type": "code",
   "execution_count": null,
   "id": "797a2092-de11-40e6-935d-76489dbe43b9",
   "metadata": {},
   "outputs": [],
   "source": []
  },
  {
   "cell_type": "code",
   "execution_count": null,
   "id": "2530ccb3-663d-4724-9c70-7989b3f098bb",
   "metadata": {},
   "outputs": [],
   "source": []
  }
 ],
 "metadata": {
  "kernelspec": {
   "display_name": "Python 3 (ipykernel)",
   "language": "python",
   "name": "python3"
  },
  "language_info": {
   "codemirror_mode": {
    "name": "ipython",
    "version": 3
   },
   "file_extension": ".py",
   "mimetype": "text/x-python",
   "name": "python",
   "nbconvert_exporter": "python",
   "pygments_lexer": "ipython3",
   "version": "3.11.3"
  }
 },
 "nbformat": 4,
 "nbformat_minor": 5
}
