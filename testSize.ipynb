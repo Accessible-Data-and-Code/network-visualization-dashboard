{
 "cells": [
  {
   "cell_type": "code",
   "execution_count": 3,
   "id": "3e4d1f7c-8365-4df4-8049-c788f553cfac",
   "metadata": {},
   "outputs": [
    {
     "data": {
      "application/vnd.jupyter.widget-view+json": {
       "model_id": "2842487845ae44b6b6a5bd2d7cdfcb39",
       "version_major": 2,
       "version_minor": 0
      },
      "text/plain": [
       "VBox(children=(Label(value='Author Network Graph'), CytoscapeWidget(cytoscape_layout={'name': 'cola'}, cytosca…"
      ]
     },
     "execution_count": 3,
     "metadata": {},
     "output_type": "execute_result"
    }
   ],
   "source": [
    "## Import Necessary Libraries\n",
    "import pprint\n",
    "from fastcore.basics import patch\n",
    "import networkx as nx\n",
    "import matplotlib.pyplot as plt\n",
    "import ipywidgets as widgets\n",
    "import ipycytoscape\n",
    "from ipycytoscape import CytoscapeWidget\n",
    "\n",
    "## Creating Author Class\n",
    "class Author:\n",
    "    def __init__(self, first, middle, last, email=None, publications=[]):\n",
    "        self.first = first\n",
    "        self.middle = middle\n",
    "        self.last = last\n",
    "        self.email = email\n",
    "        self.publications = publications\n",
    "\n",
    "## Make format pretty\n",
    "@patch\n",
    "def __repr__(self:Author):\n",
    "    return pprint.pformat(vars(self))\n",
    "\n",
    "## Mock Dataset\n",
    "a1 = Author('A', 'B', 'Carlson', publications=[1, 2, 3])\n",
    "a2 = Author('B', 'C', 'Dawson', publications=[3, 4, 5, 6])\n",
    "a3 = Author('C', 'D', 'Elfson', publications=[1, 5, 7, 8])\n",
    "a4 = Author('D', 'E', 'Fitzgerald', publications=[1, 5, 9, 10])\n",
    "a5 = Author('E', 'F', 'Gerard', publications=[4, 11, 12])\n",
    "a5\n",
    "\n",
    "authors = [a1, a2, a3, a4, a5]\n",
    "\n",
    "#### Step 1: Making sure correct matches are found between authors ####\n",
    "\n",
    "# Create the graph\n",
    "G = nx.Graph()\n",
    "\n",
    "for index_a in range(len(authors)):\n",
    "    for index_b in range(index_a + 1, len(authors)):\n",
    "        author_a = authors[index_a]\n",
    "        author_b = authors[index_b]\n",
    "\n",
    "        common_publications = set(author_a.publications).intersection(author_b.publications)\n",
    "        if common_publications:\n",
    "            # Add the weighted edge to the graph\n",
    "            G.add_edge(author_a, author_b, weight=len(common_publications))\n",
    "    \n",
    "\n",
    "# Create the Cytoscape widget\n",
    "cyto = CytoscapeWidget()\n",
    "\n",
    "# Set node size based on the weight of the edges\n",
    "min_weight = min(G.edges(data=True), key=lambda x: x[2]['weight'])[2]['weight']\n",
    "max_weight = max(G.edges(data=True), key=lambda x: x[2]['weight'])[2]['weight']\n",
    "\n",
    "for node, data in G.nodes(data=True):\n",
    "    weight = sum(data.get('weight', 0) for _, _, data in G.edges(node, data=True))\n",
    "    node_size = 30 + 20 * ((weight - min_weight) / (max_weight - min_weight))  # Adjust the size range as desired\n",
    "    data['size'] = node_size\n",
    "\n",
    "# Add nodes and edges to the Cytoscape graph\n",
    "cyto.graph.add_graph_from_networkx(G)\n",
    "\n",
    "# Create a label for the title\n",
    "title_label = widgets.Label(value='Author Network Graph', style={'font-weight': 'bold'})\n",
    "\n",
    "# Display the widgets using a VBox layout\n",
    "widgets.VBox([title_label, cyto])\n"
   ]
  },
  {
   "cell_type": "code",
   "execution_count": null,
   "id": "e1a48c9b-ecaf-4231-b547-882f89dd60d7",
   "metadata": {},
   "outputs": [],
   "source": []
  }
 ],
 "metadata": {
  "kernelspec": {
   "display_name": "Python 3 (ipykernel)",
   "language": "python",
   "name": "python3"
  },
  "language_info": {
   "codemirror_mode": {
    "name": "ipython",
    "version": 3
   },
   "file_extension": ".py",
   "mimetype": "text/x-python",
   "name": "python",
   "nbconvert_exporter": "python",
   "pygments_lexer": "ipython3",
   "version": "3.11.3"
  }
 },
 "nbformat": 4,
 "nbformat_minor": 5
}
