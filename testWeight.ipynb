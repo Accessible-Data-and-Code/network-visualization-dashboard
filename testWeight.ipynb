{
 "cells": [
  {
   "cell_type": "code",
   "execution_count": 14,
   "id": "3e4d1f7c-8365-4df4-8049-c788f553cfac",
   "metadata": {},
   "outputs": [
    {
     "name": "stdout",
     "output_type": "stream",
     "text": [
      "Match found between A Carlson and B Dawson\n",
      "Matching Publications: {3}\n",
      "Weighted Edge: A Carlson - B Dawson (Weight: 1)\n",
      " \n",
      "Match found between A Carlson and C Elfson\n",
      "Matching Publications: {1}\n",
      "Weighted Edge: A Carlson - C Elfson (Weight: 1)\n",
      " \n",
      "Match found between A Carlson and D Fitzgerald\n",
      "Matching Publications: {1}\n",
      "Weighted Edge: A Carlson - D Fitzgerald (Weight: 1)\n",
      " \n",
      "Match found between B Dawson and C Elfson\n",
      "Matching Publications: {5}\n",
      "Weighted Edge: B Dawson - C Elfson (Weight: 1)\n",
      " \n",
      "Match found between B Dawson and D Fitzgerald\n",
      "Matching Publications: {5}\n",
      "Weighted Edge: B Dawson - D Fitzgerald (Weight: 1)\n",
      " \n",
      "Match found between B Dawson and E Gerard\n",
      "Matching Publications: {4}\n",
      "Weighted Edge: B Dawson - E Gerard (Weight: 1)\n",
      " \n",
      "Match found between C Elfson and D Fitzgerald\n",
      "Matching Publications: {1, 5}\n",
      "Weighted Edge: C Elfson - D Fitzgerald (Weight: 2)\n",
      " \n"
     ]
    },
    {
     "data": {
      "application/vnd.jupyter.widget-view+json": {
       "model_id": "9af1411f09764536b0c61e497d84c20d",
       "version_major": 2,
       "version_minor": 0
      },
      "text/plain": [
       "VBox(children=(Label(value='Author Network Graph'), CytoscapeWidget(cytoscape_layout={'name': 'cola'}, cytosca…"
      ]
     },
     "execution_count": 14,
     "metadata": {},
     "output_type": "execute_result"
    }
   ],
   "source": [
    "## Import Necessary Libraries\n",
    "import pprint\n",
    "from fastcore.basics import patch\n",
    "import networkx as nx\n",
    "import matplotlib.pyplot as plt\n",
    "import ipywidgets as widgets\n",
    "import ipycytoscape\n",
    "from ipycytoscape import CytoscapeWidget\n",
    "\n",
    "## Creating Author Class\n",
    "class Author:\n",
    "    def __init__(self, first, middle, last, email=None, publications=[]):\n",
    "        self.first = first\n",
    "        self.middle = middle\n",
    "        self.last = last\n",
    "        self.email = email\n",
    "        self.publications = publications\n",
    "\n",
    "## Make format pretty\n",
    "@patch\n",
    "def __repr__(self:Author):\n",
    "    return pprint.pformat(vars(self))\n",
    "\n",
    "## Mock Dataset\n",
    "a1 = Author('A', 'B', 'Carlson', publications=[1, 2, 3])\n",
    "a2 = Author('B', 'C', 'Dawson', publications=[3, 4, 5, 6])\n",
    "a3 = Author('C', 'D', 'Elfson', publications=[1, 5, 7, 8])\n",
    "a4 = Author('D', 'E', 'Fitzgerald', publications=[1, 5, 9, 10])\n",
    "a5 = Author('E', 'F', 'Gerard', publications=[4, 11, 12])\n",
    "a5\n",
    "\n",
    "authors = [a1, a2, a3, a4, a5]\n",
    "\n",
    "#### Step 1: Making sure correct matches are found between authors ####\n",
    "\n",
    "# Create the graph\n",
    "G = nx.Graph()\n",
    "\n",
    "for index_a in range(len(authors)):\n",
    "    for index_b in range(index_a + 1, len(authors)):\n",
    "        author_a = authors[index_a]\n",
    "        author_b = authors[index_b]\n",
    "\n",
    "        common_publications = set(author_a.publications).intersection(author_b.publications)\n",
    "        if common_publications:\n",
    "            # Add the weighted edge to the graph\n",
    "            G.add_edge(author_a, author_b, weight=len(common_publications))\n",
    "\n",
    "            #Comment out this part later\n",
    "            print(f\"Match found between {author_a.first} {author_a.last} and {author_b.first} {author_b.last}\")\n",
    "            print(f\"Matching Publications: {common_publications}\")\n",
    "            print(f\"Weighted Edge: {author_a.first} {author_a.last} - {author_b.first} {author_b.last} (Weight: {len(common_publications)})\")\n",
    "            print(\" \")\n",
    "            \n",
    "# Add nodes to the graph\n",
    "for author in authors:\n",
    "    G.add_node(author, tooltip=author.__repr__())\n",
    "\n",
    "#### Step 2: Adding titles ####\n",
    "\n",
    "# Create a label for the title\n",
    "title_label = widgets.Label(value='Author Network Graph', style={'font-weight': 'bold'})\n",
    "\n",
    "# Create the Cytoscape widget\n",
    "cyto = CytoscapeWidget()\n",
    "cyto.graph.add_graph_from_networkx(G)\n",
    "\n",
    "# Display the widgets using a VBox layout\n",
    "widgets.VBox([title_label, cyto])\n"
   ]
  },
  {
   "cell_type": "code",
   "execution_count": null,
   "id": "e1a48c9b-ecaf-4231-b547-882f89dd60d7",
   "metadata": {},
   "outputs": [],
   "source": []
  }
 ],
 "metadata": {
  "kernelspec": {
   "display_name": "Python 3 (ipykernel)",
   "language": "python",
   "name": "python3"
  },
  "language_info": {
   "codemirror_mode": {
    "name": "ipython",
    "version": 3
   },
   "file_extension": ".py",
   "mimetype": "text/x-python",
   "name": "python",
   "nbconvert_exporter": "python",
   "pygments_lexer": "ipython3",
   "version": "3.11.3"
  }
 },
 "nbformat": 4,
 "nbformat_minor": 5
}
