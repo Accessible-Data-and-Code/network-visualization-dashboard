{
 "cells": [
  {
   "cell_type": "markdown",
   "id": "dd38ae38-bb95-4fe6-9b9b-bd6ab6c7c434",
   "metadata": {},
   "source": [
    "# Network Analysis Dashboard\n",
    "\n",
    "> In this notebook, we will create our graph called `G` that has `Author` nodes and numbered edges that represent a shared publication."
   ]
  },
  {
   "cell_type": "markdown",
   "id": "64fc9306-a396-47ac-a814-a39adfeb4997",
   "metadata": {},
   "source": [
    "Do you remember how we tell nbdev what module to export to? Go ahead and add the default export directive to the cell below and tell it to export to a module called `graph`. When you're done, you can delete this markdown cell."
   ]
  },
  {
   "cell_type": "code",
   "execution_count": 1,
   "id": "b72e3a10-cb6a-426f-b91c-4407bada2695",
   "metadata": {},
   "outputs": [],
   "source": [
    "#| default_exp graph"
   ]
  },
  {
   "cell_type": "markdown",
   "id": "41b202f7-b9dd-412e-ba38-f2f6fa460c05",
   "metadata": {},
   "source": [
    "Okay, the first thing we wanted to know was what kind of objects NetworkX expects. I decided to use the [tutorial provided on the documentation website](https://networkx.org/documentation/stable/tutorial.html) to get this information."
   ]
  },
  {
   "cell_type": "markdown",
   "id": "78e33b4c-5c0a-4bb8-b16d-453c631fcc76",
   "metadata": {},
   "source": [
    "> \" In NetworkX, nodes can be any hashable object e.g., a text string, an image, an XML object, another Graph, a customized node object, etc.\""
   ]
  },
  {
   "cell_type": "markdown",
   "id": "a8368b1a-faa3-4df5-99e2-75a771e08b54",
   "metadata": {},
   "source": [
    "That's great because that means we can totally just use the Author object you made in pre-processing. Below I copied and pasted the author object you defined in that repo.\n",
    "\n",
    "## One change\n",
    "\n",
    "The only thing I changed here is that I added `publications` to the parameters. The default is an empty list."
   ]
  },
  {
   "cell_type": "code",
   "execution_count": 2,
   "id": "4e880a93-ee94-4241-b180-263e35e45b4f",
   "metadata": {},
   "outputs": [],
   "source": [
    "#| export \n",
    "class Author:\n",
    "    def __init__(self, first, middle, last, email=None, publications=[]):\n",
    "        self.first = first\n",
    "        self.middle = middle\n",
    "        self.last = last\n",
    "        self.email = email\n",
    "        self.publications = publications"
   ]
  },
  {
   "cell_type": "code",
   "execution_count": 3,
   "id": "c5f6f277-64f4-48a0-8e87-5d8d0f5c3558",
   "metadata": {},
   "outputs": [
    {
     "data": {
      "text/plain": [
       "<__main__.Author at 0x10572c8d0>"
      ]
     },
     "execution_count": 3,
     "metadata": {},
     "output_type": "execute_result"
    }
   ],
   "source": [
    "author = Author('Nicole', 'F', 'Brewer')\n",
    "author"
   ]
  },
  {
   "cell_type": "markdown",
   "id": "3ed9bad6-e6c5-4f29-be67-03e92dc663a6",
   "metadata": {},
   "source": [
    "That display is pretty ugly. We want it to be more informative. Fortunately, ipython gives us a nice way to do this. \n",
    "\n",
    "## `__repr__`\n",
    "\n",
    "If we add a function called `__repr__` to the author class, ipython will use it when we display our object like we did above."
   ]
  },
  {
   "cell_type": "code",
   "execution_count": 24,
   "id": "71bc789e-6334-4550-a828-b25c158900c0",
   "metadata": {},
   "outputs": [],
   "source": [
    "#| export \n",
    "import pprint"
   ]
  },
  {
   "cell_type": "markdown",
   "id": "7158f348-6d62-4f4c-8b39-341de0a66fa1",
   "metadata": {},
   "source": [
    "Okay, let's write out this function first before making it part of the class."
   ]
  },
  {
   "cell_type": "code",
   "execution_count": 25,
   "id": "017795fa-c704-4f4a-b332-c8b9a3b77164",
   "metadata": {},
   "outputs": [],
   "source": [
    "def __repr__(self):\n",
    "    return pprint.pformat(vars(self))"
   ]
  },
  {
   "cell_type": "code",
   "execution_count": 26,
   "id": "1e87a107-75d2-43dd-ad4a-782d4382906e",
   "metadata": {},
   "outputs": [
    {
     "data": {
      "text/plain": [
       "\"{'email': None,\\n 'first': 'Nicole',\\n 'last': 'Brewer',\\n 'middle': 'F',\\n 'publications': []}\""
      ]
     },
     "execution_count": 26,
     "metadata": {},
     "output_type": "execute_result"
    }
   ],
   "source": [
    "pprint.pformat(vars(author))"
   ]
  },
  {
   "cell_type": "code",
   "execution_count": 27,
   "id": "22b136e2-d266-440f-90b9-13a765f01af3",
   "metadata": {},
   "outputs": [
    {
     "name": "stdout",
     "output_type": "stream",
     "text": [
      "{'email': None,\n",
      " 'first': 'Nicole',\n",
      " 'last': 'Brewer',\n",
      " 'middle': 'F',\n",
      " 'publications': []}\n"
     ]
    }
   ],
   "source": [
    "print(__repr__(author))"
   ]
  },
  {
   "cell_type": "markdown",
   "id": "77b33c7a-df9d-426c-96c4-8b7e04000271",
   "metadata": {},
   "source": [
    "That looks good! We won't use this for our app, but it's handy to see when we're developing."
   ]
  },
  {
   "cell_type": "markdown",
   "id": "9188554e-15c0-42c4-a496-3bbef2f4a415",
   "metadata": {},
   "source": [
    "## patch\n",
    "\n",
    "In order to add this function to the author object without having to return to a prior cell, we need to use a handy fastai utility. Let's see how that works. We will need to import the `@patch` decorator which tells tells the notebook processor that the function we write is intended to extend a class."
   ]
  },
  {
   "cell_type": "code",
   "execution_count": 29,
   "id": "1011f870-1a15-4103-b2d8-e8b3fba39f7e",
   "metadata": {},
   "outputs": [],
   "source": [
    "#| export\n",
    "from fastcore.basics import patch"
   ]
  },
  {
   "cell_type": "markdown",
   "id": "e9cb6233-e525-4f69-9dbe-630c329256c4",
   "metadata": {},
   "source": [
    "The function will be the same as before, except we will use `self:Class` instead of `self` in the function definition to tell the patch which class we are extending. Below is a modified example from the nbdev documentation."
   ]
  },
  {
   "cell_type": "code",
   "execution_count": 14,
   "id": "ab35979e-992b-409b-82e2-80bdb0ec2dc1",
   "metadata": {},
   "outputs": [],
   "source": [
    "#| export\n",
    "class Number:\n",
    "    \"A number.\"\n",
    "    def __init__(self, num): self.num = num"
   ]
  },
  {
   "cell_type": "code",
   "execution_count": 15,
   "id": "2ee0e0c0-3f39-4310-ae08-f6765964dbf3",
   "metadata": {},
   "outputs": [
    {
     "data": {
      "text/plain": [
       "<__main__.Number at 0x10576b290>"
      ]
     },
     "execution_count": 15,
     "metadata": {},
     "output_type": "execute_result"
    }
   ],
   "source": [
    "number = Number(5)\n",
    "number"
   ]
  },
  {
   "cell_type": "code",
   "execution_count": 18,
   "id": "6ca04476-a24b-4ed8-80b7-6edb773e01d0",
   "metadata": {},
   "outputs": [],
   "source": [
    "@patch\n",
    "def __repr__(self:Number):\n",
    "    return f'Number({self.num})'"
   ]
  },
  {
   "cell_type": "code",
   "execution_count": 19,
   "id": "1483c0a9-97e0-487b-8857-e1d5e6a2ce46",
   "metadata": {},
   "outputs": [
    {
     "data": {
      "text/plain": [
       "Number(5)"
      ]
     },
     "execution_count": 19,
     "metadata": {},
     "output_type": "execute_result"
    }
   ],
   "source": [
    "number = Number(5)\n",
    "number"
   ]
  },
  {
   "cell_type": "code",
   "execution_count": 11,
   "id": "dd6aad38-ea26-4bc7-84fe-52f612fdb071",
   "metadata": {},
   "outputs": [],
   "source": [
    "class Number:\n",
    "    \"A number.\"\n",
    "    def __init__(self, num):\n",
    "        self.num = num\n",
    "    def __repr__(self):\n",
    "        return f'Number({self.num})'"
   ]
  },
  {
   "cell_type": "code",
   "execution_count": 12,
   "id": "8067332b-a54d-4f80-9c31-e59c5a547963",
   "metadata": {},
   "outputs": [
    {
     "data": {
      "text/plain": [
       "Number(5)"
      ]
     },
     "execution_count": 12,
     "metadata": {},
     "output_type": "execute_result"
    }
   ],
   "source": [
    "number = Number(5)\n",
    "number"
   ]
  },
  {
   "cell_type": "markdown",
   "id": "a6dcdc8d-2757-48b1-b47a-8b5b562417c1",
   "metadata": {},
   "source": [
    "That looks a lot better right? Now you can use this example about Number objects to modify the cell below so it actually gets attached to our `Author` object. "
   ]
  },
  {
   "cell_type": "code",
   "execution_count": 20,
   "id": "fc345648-20ef-4369-bcb9-81004679dea7",
   "metadata": {},
   "outputs": [],
   "source": [
    "#| export\n",
    "# two things need to be added to create a patch for Author\n",
    "@patch\n",
    "def __repr__(self:Author):\n",
    "    return pprint.pformat(vars(self))"
   ]
  },
  {
   "cell_type": "markdown",
   "id": "3befbb77-3269-486d-8c7b-2ee28bb8e717",
   "metadata": {},
   "source": [
    "Great job! We should start by creating a few `Author` objects. In the process we can verify that our patch worked."
   ]
  },
  {
   "cell_type": "code",
   "execution_count": 21,
   "id": "ab1ab3fb-da13-4457-bd11-8711fa790dee",
   "metadata": {},
   "outputs": [
    {
     "data": {
      "text/plain": [
       "{'email': None,\n",
       " 'first': 'E',\n",
       " 'last': 'Gerard',\n",
       " 'middle': 'F',\n",
       " 'publications': [4, 11, 12]}"
      ]
     },
     "execution_count": 21,
     "metadata": {},
     "output_type": "execute_result"
    }
   ],
   "source": [
    "a1 = Author('A', 'B', 'Carlson', publications = [1,2,3])\n",
    "a2 = Author('B', 'C', 'Dawson', publications = [3, 4, 5 ,6])\n",
    "a3 = Author('C', 'D', 'Elfson', publications = [1, 5, 7, 8])\n",
    "a4 = Author('D', 'E', 'Fitzgerald', publications = [1, 5, 9, 10])\n",
    "a5 = Author('E', 'F', 'Gerard', publications = [4, 11, 12])\n",
    "a5"
   ]
  },
  {
   "cell_type": "code",
   "execution_count": 79,
   "id": "7bb9e974-88f8-4d38-8abd-94a6c1fa316a",
   "metadata": {},
   "outputs": [],
   "source": [
    "authors = [a1, a2, a3, a4, a5]"
   ]
  },
  {
   "cell_type": "markdown",
   "id": "35c9c717-d1da-4a33-8c54-12fc34930c30",
   "metadata": {},
   "source": [
    "Now let's use NetworkX to create a graph `G`."
   ]
  },
  {
   "cell_type": "code",
   "execution_count": 44,
   "id": "6332e88b-bfa8-47e4-b9d6-5c2917f2b4bf",
   "metadata": {},
   "outputs": [],
   "source": [
    "import networkx as nx\n",
    "\n",
    "G = nx.Graph()"
   ]
  },
  {
   "cell_type": "markdown",
   "id": "27b9b5eb-7c2e-4e2f-86aa-f7e1b24ccda7",
   "metadata": {},
   "source": [
    "Now let's add our `Author` objects as nodes on the graph. We can add nodes individually."
   ]
  },
  {
   "cell_type": "code",
   "execution_count": 45,
   "id": "36096d47-28e9-4ad6-8075-c7e430983d38",
   "metadata": {},
   "outputs": [],
   "source": [
    "G.add_node(a1)"
   ]
  },
  {
   "cell_type": "markdown",
   "id": "08d59d22-98cc-4329-aeb2-105ac0ede683",
   "metadata": {},
   "source": [
    "Or with any iterable (like a list) with the function `add_nodes_from`."
   ]
  },
  {
   "cell_type": "code",
   "execution_count": 46,
   "id": "1feae59d-2283-4763-b1a6-7aef2523fbc4",
   "metadata": {},
   "outputs": [],
   "source": [
    "G.add_nodes_from(authors)"
   ]
  },
  {
   "cell_type": "markdown",
   "id": "b93326ef-53d9-49ef-b157-c4590b76c09b",
   "metadata": {},
   "source": [
    "**Note**: if you add the same node or edge more than once, NetworkX quietly ignores any that are already present. That's good for us."
   ]
  },
  {
   "cell_type": "markdown",
   "id": "8689acfd-aea9-4288-bfce-8ed62bc5502b",
   "metadata": {},
   "source": [
    "Let's see what we have so far."
   ]
  },
  {
   "cell_type": "code",
   "execution_count": 47,
   "id": "a39c3047-70ba-482f-8cfa-bc1116548ad5",
   "metadata": {},
   "outputs": [
    {
     "data": {
      "text/plain": [
       "NodeView(({'email': None,\n",
       " 'first': 'A',\n",
       " 'last': 'Carlson',\n",
       " 'middle': 'B',\n",
       " 'publications': [1, 2, 3]}, {'email': None,\n",
       " 'first': 'B',\n",
       " 'last': 'Dawson',\n",
       " 'middle': 'C',\n",
       " 'publications': [3, 4, 5, 6]}, {'email': None,\n",
       " 'first': 'C',\n",
       " 'last': 'Elfson',\n",
       " 'middle': 'D',\n",
       " 'publications': [1, 5, 7, 8]}, {'email': None,\n",
       " 'first': 'D',\n",
       " 'last': 'Fitzgerald',\n",
       " 'middle': 'E',\n",
       " 'publications': [1, 5, 9, 10]}, {'email': None,\n",
       " 'first': 'E',\n",
       " 'last': 'Gerard',\n",
       " 'middle': 'F',\n",
       " 'publications': [4, 11, 12]}))"
      ]
     },
     "execution_count": 47,
     "metadata": {},
     "output_type": "execute_result"
    }
   ],
   "source": [
    "G.nodes"
   ]
  },
  {
   "cell_type": "markdown",
   "id": "e0829de9-1efc-4cd4-8f20-e2649b27180c",
   "metadata": {},
   "source": [
    "Okay let's add an edge. First we will do this manually and then we will try with a loop. To do this manually, can you tell me two Authors that share a publication? When two authors share a publication, we want to draw and edge between them."
   ]
  },
  {
   "cell_type": "code",
   "execution_count": 48,
   "id": "a68b5fbb-b69f-46b5-a8a2-47249e8cbd74",
   "metadata": {},
   "outputs": [],
   "source": [
    "G.add_edge(a3, a4) # add two authors that share a publication"
   ]
  },
  {
   "cell_type": "markdown",
   "id": "5a3c43f7-ff2f-495f-97b3-7a9102fe557b",
   "metadata": {},
   "source": [
    "Okay. Now we need to draw the edgets between these author objects! In our case, we want the edges to be added every time two authors share a publication. Right now (because we only have `Author` objects and not `Publication` objects) we will just have to loop through the authors and their publications to check for a match. \n",
    "\n",
    "> Note: if we did have `Publication` objects, we could loop through the publication objects on the outside and the authors on the inside of the loop. And we could actually set those `Publication` objects as our edges using the notation `G.add_edge(a1, a2, object=<shared_publication>)`."
   ]
  },
  {
   "cell_type": "markdown",
   "id": "1d55f724-7e6e-4b4e-a354-19e9e0518b5c",
   "metadata": {},
   "source": [
    "What do we need to iterate through on the outside of the loop? What about the inside?\n",
    "\n",
    "You may need to use the [range](https://www.w3schools.com/python/ref_func_range.asp)  function."
   ]
  },
  {
   "cell_type": "code",
   "execution_count": 99,
   "id": "29e0447d-c88e-49da-ae14-a668be4b5d31",
   "metadata": {},
   "outputs": [
    {
     "data": {
      "text/plain": [
       "'for i in range(len(authors)):\\n    authors = authors[i]\\n    \\n    for j in range(len(number)):\\n        publication = publication[j]\\n\\n        if same(author, publication):\\n            G.add_edge(author, publication)'"
      ]
     },
     "execution_count": 99,
     "metadata": {},
     "output_type": "execute_result"
    }
   ],
   "source": [
    "############### 1ST ITERATION #######################\n",
    "# write a loop that loops through authors and publications\n",
    "# to add edges to our graph\n",
    "\n",
    "#####################\n",
    "\"\"\"for i in range(len(authors)):\n",
    "    authors = authors[i]\n",
    "    \n",
    "    for j in range(len(number)):\n",
    "        publication = publication[j]\n",
    "\n",
    "        if same(author, publication):\n",
    "            G.add_edge(author, publication)\"\"\"\n",
    "    "
   ]
  },
  {
   "cell_type": "code",
   "execution_count": 95,
   "id": "c5c7940d-c36d-4230-9137-d89553dc9df1",
   "metadata": {},
   "outputs": [
    {
     "name": "stdout",
     "output_type": "stream",
     "text": [
      "checking if 1 and 3 match\n",
      "checking if 1 and 4 match\n",
      "checking if 1 and 5 match\n",
      "checking if 1 and 6 match\n",
      "checking if 2 and 3 match\n",
      "checking if 2 and 4 match\n",
      "checking if 2 and 5 match\n",
      "checking if 2 and 6 match\n",
      "checking if 3 and 3 match\n",
      "match\n",
      "checking if 3 and 4 match\n",
      "checking if 3 and 5 match\n",
      "checking if 3 and 6 match\n"
     ]
    }
   ],
   "source": [
    "for publication in a1.publications:\n",
    "    \n",
    "    for publication_a2 in a2.publications:\n",
    "        print(f\"checking if {publication} and {publication_a2} match\")\n",
    "        if publication == publication_a2:\n",
    "            print(\"match\")\n",
    "           "
   ]
  },
  {
   "cell_type": "code",
   "execution_count": 87,
   "id": "9ded2835-6bca-47c5-a035-0fc0fb1668ff",
   "metadata": {},
   "outputs": [
    {
     "name": "stdout",
     "output_type": "stream",
     "text": [
      "1\n",
      "2\n",
      "3\n",
      "3\n",
      "4\n",
      "5\n",
      "6\n",
      "1\n",
      "5\n",
      "7\n",
      "8\n",
      "1\n",
      "5\n",
      "9\n",
      "10\n",
      "4\n",
      "11\n",
      "12\n"
     ]
    }
   ],
   "source": [
    "for author in authors:\n",
    "    for publication in author.publications:\n",
    "        print (publication)"
   ]
  },
  {
   "cell_type": "code",
   "execution_count": 88,
   "id": "fd9a609e-4575-480c-bcaa-3cd5ed8bc9ca",
   "metadata": {},
   "outputs": [
    {
     "data": {
      "text/plain": [
       "{'email': None,\n",
       " 'first': 'E',\n",
       " 'last': 'Gerard',\n",
       " 'middle': 'F',\n",
       " 'publications': [4, 11, 12]}"
      ]
     },
     "execution_count": 88,
     "metadata": {},
     "output_type": "execute_result"
    }
   ],
   "source": [
    "authors[index]"
   ]
  },
  {
   "cell_type": "code",
   "execution_count": 96,
   "id": "883789d8-429e-4f0d-a035-394604fceebc",
   "metadata": {},
   "outputs": [
    {
     "data": {
      "text/plain": [
       "'for index_a in range(len(authors)):\\n    \\n        for publication in authors[index].publications:\\n            print (publication)\\n            print(f\"Comparing a{index_a} with a{index_b}\")\\n        '"
      ]
     },
     "execution_count": 96,
     "metadata": {},
     "output_type": "execute_result"
    }
   ],
   "source": [
    "\"\"\"for index_a in range(len(authors)):\n",
    "    \n",
    "        for publication in authors[index].publications:\n",
    "            print (publication)\n",
    "            print(f\"Comparing a{index_a} with a{index_b}\")\n",
    "        \"\"\""
   ]
  },
  {
   "cell_type": "code",
   "execution_count": 92,
   "id": "f28e91d8-f41a-4a94-bf7d-c3872413c93a",
   "metadata": {},
   "outputs": [
    {
     "name": "stdout",
     "output_type": "stream",
     "text": [
      "Match found between a1 and a2 for publication 3\n",
      "Match found between a1 and a3 for publication 1\n",
      "Match found between a1 and a4 for publication 1\n",
      "Match found between a2 and a3 for publication 5\n",
      "Match found between a2 and a4 for publication 5\n",
      "Match found between a2 and a5 for publication 4\n",
      "Match found between a3 and a4 for publication 1\n",
      "Match found between a3 and a4 for publication 5\n"
     ]
    }
   ],
   "source": [
    "#| export\n",
    "\n",
    "for index_a in range(len(authors)):\n",
    "    for index_b in range(index_a + 1, len(authors)):\n",
    "        author_a = authors[index_a]\n",
    "        author_b = authors[index_b]\n",
    "        \n",
    "        for publication_a in author_a.publications:\n",
    "            for publication_b in author_b.publications:\n",
    "                if publication_a == publication_b:\n",
    "                    G.add_edge(author, publication)\n",
    "                    print(f\"Match found between a{index_a+1} and a{index_b+1} for publication {publication_a}\")"
   ]
  },
  {
   "cell_type": "code",
   "execution_count": 93,
   "id": "88043c17-c5f0-48d7-afe5-5b8fece24d20",
   "metadata": {},
   "outputs": [
    {
     "data": {
      "text/plain": [
       "EdgeView([({'email': None,\n",
       " 'first': 'C',\n",
       " 'last': 'Elfson',\n",
       " 'middle': 'D',\n",
       " 'publications': [1, 5, 7, 8]}, {'email': None,\n",
       " 'first': 'D',\n",
       " 'last': 'Fitzgerald',\n",
       " 'middle': 'E',\n",
       " 'publications': [1, 5, 9, 10]}), ({'email': None,\n",
       " 'first': 'E',\n",
       " 'last': 'Gerard',\n",
       " 'middle': 'F',\n",
       " 'publications': [4, 11, 12]}, 4)])"
      ]
     },
     "execution_count": 93,
     "metadata": {},
     "output_type": "execute_result"
    }
   ],
   "source": [
    "G.edges"
   ]
  },
  {
   "cell_type": "markdown",
   "id": "831f0f4c-98a2-4da3-add0-6e38d012efc6",
   "metadata": {},
   "source": [
    "## Plotting\n",
    "\n",
    "You probably want to do more advanced plotting in a plotting notebook, but we can at least view what we have so far for fun!"
   ]
  },
  {
   "cell_type": "code",
   "execution_count": 113,
   "id": "ed9403a5-d18f-4a40-8f18-cfd4d0f8e973",
   "metadata": {},
   "outputs": [
    {
     "data": {
      "application/vnd.jupyter.widget-view+json": {
       "model_id": "20470334b64d4f2fb34fd8eeba5e0897",
       "version_major": 2,
       "version_minor": 0
      },
      "text/plain": [
       "CytoscapeWidget(cytoscape_layout={'name': 'cola'}, cytoscape_style=[{'selector': 'node', 'css': {'background-c…"
      ]
     },
     "execution_count": 113,
     "metadata": {},
     "output_type": "execute_result"
    }
   ],
   "source": [
    "from ipycytoscape import CytoscapeWidget\n",
    "\n",
    "cyto = CytoscapeWidget()\n",
    "cyto.graph.add_graph_from_networkx(G)\n",
    "cyto"
   ]
  },
  {
   "cell_type": "code",
   "execution_count": null,
   "id": "a8ed8e22-f7e5-4d6a-a923-da398c56283b",
   "metadata": {},
   "outputs": [],
   "source": []
  },
  {
   "cell_type": "code",
   "execution_count": 100,
   "id": "8a7706f1-7555-4d58-ba14-628512ea9df5",
   "metadata": {},
   "outputs": [],
   "source": [
    "class Color:\n",
    "    def __init__(self, color): self.color = color\n",
    "    def _repr_markdown_(self):\n",
    "        style = f'background-color: {self.color}; width: 50px; height: 50px; margin: 10px'\n",
    "        return f'<div style=\"{style}\"></div>'"
   ]
  },
  {
   "cell_type": "code",
   "execution_count": null,
   "id": "e9ca8618-c43f-4134-834a-00f21f6590f8",
   "metadata": {},
   "outputs": [],
   "source": [
    "### G.remove_node(2)"
   ]
  },
  {
   "cell_type": "markdown",
   "id": "19629168-62a6-47b1-ad43-c00f466506f3",
   "metadata": {},
   "source": [
    "## Export to `dashboard` pkg\n",
    "\n",
    "Let's use the nbdev_export function to export this notebook to a package called `dashboard`. You will need to add parameters to the function below."
   ]
  },
  {
   "cell_type": "code",
   "execution_count": 107,
   "id": "c7bbab39-5199-407d-a003-214a570a3cb5",
   "metadata": {},
   "outputs": [],
   "source": [
    "from nbdev.export import nb_export\n",
    "\n",
    "nb_export('create_graph.ipynb', 'dashboard')"
   ]
  },
  {
   "cell_type": "code",
   "execution_count": null,
   "id": "8a81afe4-df33-4d33-95a8-7ce2c03d21bc",
   "metadata": {},
   "outputs": [],
   "source": []
  }
 ],
 "metadata": {
  "kernelspec": {
   "display_name": "Python 3 (ipykernel)",
   "language": "python",
   "name": "python3"
  },
  "language_info": {
   "codemirror_mode": {
    "name": "ipython",
    "version": 3
   },
   "file_extension": ".py",
   "mimetype": "text/x-python",
   "name": "python",
   "nbconvert_exporter": "python",
   "pygments_lexer": "ipython3",
   "version": "3.8.17"
  }
 },
 "nbformat": 4,
 "nbformat_minor": 5
}
