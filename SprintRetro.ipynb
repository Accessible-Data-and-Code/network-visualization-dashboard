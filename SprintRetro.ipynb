{
 "cells": [
  {
   "cell_type": "markdown",
   "id": "d1cb5294-cb2c-4a5a-9299-408a56caf8f8",
   "metadata": {},
   "source": [
    "## Setup "
   ]
  },
  {
   "cell_type": "code",
   "execution_count": 39,
   "id": "00e465c6-6602-44f3-b28b-a036ee9b331d",
   "metadata": {},
   "outputs": [],
   "source": [
    "## Import Necessary Libraries\n",
    "import pprint\n",
    "from fastcore.basics import patch\n",
    "import networkx as nx\n",
    "import matplotlib.pyplot as plt\n",
    "import ipywidgets as widgets\n",
    "import ipycytoscape\n",
    "from ipycytoscape import CytoscapeWidget"
   ]
  },
  {
   "cell_type": "code",
   "execution_count": 32,
   "id": "8b728c85-fb5f-49f8-a8fb-e666973dcd8d",
   "metadata": {},
   "outputs": [],
   "source": [
    "## Creating Author Class\n",
    "class Author:\n",
    "    def __init__(self, first, middle, last, email=None, publications=[]):\n",
    "        self.first = first\n",
    "        self.middle = middle\n",
    "        self.last = last\n",
    "        self.email = email\n",
    "        self.publications = publications"
   ]
  },
  {
   "cell_type": "code",
   "execution_count": 33,
   "id": "6c1a2978-98ab-4558-bc9d-10d42b5f1ce0",
   "metadata": {},
   "outputs": [],
   "source": [
    "## Make format pretty\n",
    "@patch\n",
    "def __repr__(self:Author):\n",
    "    return pprint.pformat(vars(self))"
   ]
  },
  {
   "cell_type": "code",
   "execution_count": 34,
   "id": "67298bd7-a8e1-402a-b3ee-89c247f25290",
   "metadata": {},
   "outputs": [],
   "source": [
    "## Mock Dataset\n",
    "a1 = Author('A', 'B', 'Carlson', publications = [1,2,3])\n",
    "a2 = Author('B', 'C', 'Dawson', publications = [3, 4, 5 ,6])\n",
    "a3 = Author('C', 'D', 'Elfson', publications = [1, 5, 7, 8])\n",
    "a4 = Author('D', 'E', 'Fitzgerald', publications = [1, 5, 9, 10])\n",
    "a5 = Author('E', 'F', 'Gerard', publications = [4, 11, 12])\n",
    "a5\n",
    "\n",
    "authors = [a1, a2, a3, a4, a5]"
   ]
  },
  {
   "cell_type": "code",
   "execution_count": 52,
   "id": "db1b258c-fc71-4f76-a572-89dde9c3b5a6",
   "metadata": {},
   "outputs": [
    {
     "name": "stdout",
     "output_type": "stream",
     "text": [
      "Match found between a1 and a2 for publication 3\n",
      "Match found between a1 and a3 for publication 1\n",
      "Match found between a1 and a4 for publication 1\n",
      "Match found between a2 and a3 for publication 5\n",
      "Match found between a2 and a4 for publication 5\n",
      "Match found between a2 and a5 for publication 4\n",
      "Match found between a3 and a4 for publication 1\n",
      "Match found between a3 and a4 for publication 5\n"
     ]
    }
   ],
   "source": [
    "#### Step 1: Making sure correct matches are found between authors ####\n",
    "\n",
    "for index_a in range(len(authors)):\n",
    "    for index_b in range(index_a + 1, len(authors)):\n",
    "        author_a = authors[index_a]\n",
    "        author_b = authors[index_b]\n",
    "        \n",
    "        for publication_a in author_a.publications:\n",
    "            for publication_b in author_b.publications:\n",
    "                if publication_a == publication_b:\n",
    "                    G.add_edge(author_a, author_b)\n",
    "                    print(f\"Match found between a{index_a+1} and a{index_b+1} for publication {publication_a}\")"
   ]
  },
  {
   "cell_type": "markdown",
   "id": "82950a07-4521-4947-8fe4-14c82679cc14",
   "metadata": {},
   "source": [
    "### Creating Nodes and Edges"
   ]
  },
  {
   "cell_type": "code",
   "execution_count": 24,
   "id": "69481006-d8e0-4507-a9a9-9368089ead22",
   "metadata": {},
   "outputs": [],
   "source": [
    "# Create the graph\n",
    "G = nx.Graph()"
   ]
  },
  {
   "cell_type": "code",
   "execution_count": 25,
   "id": "51adc229-ca77-49ec-b6ab-00b1a8bb5b1d",
   "metadata": {},
   "outputs": [],
   "source": [
    "# Add nodes to the graph\n",
    "for author in authors:\n",
    "    G.add_node(author)"
   ]
  },
  {
   "cell_type": "code",
   "execution_count": 51,
   "id": "ddff6638-8046-4b7e-a9e3-80c40ee11671",
   "metadata": {},
   "outputs": [],
   "source": [
    "#### Step 2: Add edges to the graph based on publication matches ####\n",
    "\n",
    "for index_a in range(len(authors)):\n",
    "    for index_b in range(index_a + 1, len(authors)):\n",
    "        author_a = authors[index_a]\n",
    "        author_b = authors[index_b]\n",
    "\n",
    "        for publication_a in author_a.publications:\n",
    "            for publication_b in author_b.publications:\n",
    "                if publication_a == publication_b:\n",
    "                    G.add_edge(author_a, author_b)"
   ]
  },
  {
   "cell_type": "markdown",
   "id": "cd27e880-87c6-47a5-8ace-a9dbdf410e12",
   "metadata": {},
   "source": [
    "## Creating Graph Using NetworkX"
   ]
  },
  {
   "cell_type": "code",
   "execution_count": 38,
   "id": "ed6f5b5d-cf88-4ab9-9d19-8e9b93645731",
   "metadata": {},
   "outputs": [],
   "source": [
    "# Create the visualization\n",
    "pos = nx.spring_layout(G)  # Define the layout for node positioning\n",
    "labels = {author: f\"{author.first} {author.last}\" for author in G.nodes()}  # Create labels for the nodes\n"
   ]
  },
  {
   "cell_type": "code",
   "execution_count": 28,
   "id": "6618355b-f765-4fcb-a752-f009501746d6",
   "metadata": {},
   "outputs": [
    {
     "data": {
      "image/png": "[encoded data removed]",
      "text/plain": [
       "<Figure size 640x480 with 1 Axes>"
      ]
     },
     "metadata": {},
     "output_type": "display_data"
    }
   ],
   "source": [
    "# Draw the nodes and edges\n",
    "nx.draw_networkx_nodes(G, pos, node_color='lightblue', node_size=500)\n",
    "nx.draw_networkx_edges(G, pos, width=1)\n",
    "nx.draw_networkx_labels(G, pos, labels, font_size=10, font_color='black')\n",
    "\n",
    "# Display the graph\n",
    "plt.title(\"Author Network\")\n",
    "plt.axis('off')  # Hide the axis\n",
    "plt.show()"
   ]
  },
  {
   "cell_type": "markdown",
   "id": "98600dfa-ddfc-4003-a3e4-f30a03c6c18f",
   "metadata": {},
   "source": [
    "## Creating Graph Using iPycytoscape"
   ]
  },
  {
   "cell_type": "code",
   "execution_count": 54,
   "id": "e538f7cc-f202-47d0-bbdf-9845953bd1fb",
   "metadata": {},
   "outputs": [
    {
     "data": {
      "application/vnd.jupyter.widget-view+json": {
       "model_id": "49f7240f11184be8bbd3bf6e37b95411",
       "version_major": 2,
       "version_minor": 0
      },
      "text/plain": [
       "CytoscapeWidget(cytoscape_layout={'name': 'cola'}, cytoscape_style=[{'selector': 'node', 'css': {'background-c…"
      ]
     },
     "execution_count": 54,
     "metadata": {},
     "output_type": "execute_result"
    }
   ],
   "source": [
    "#### Step 1: Creating Basic Graph ####\n",
    "\n",
    "# Creates cytoscape widget\n",
    "cyto = CytoscapeWidget() \n",
    "\n",
    "# Set graph from networkX object\n",
    "cyto.graph.add_graph_from_networkx(G)\n",
    "\n",
    "# Display the cytoscape widget\n",
    "cyto"
   ]
  },
  {
   "cell_type": "code",
   "execution_count": 56,
   "id": "646cbb1a-18b5-4971-879f-0d2ca782e4f6",
   "metadata": {},
   "outputs": [
    {
     "data": {
      "application/vnd.jupyter.widget-view+json": {
       "model_id": "bc19dc79dd644029829cf7b8bf8eb99f",
       "version_major": 2,
       "version_minor": 0
      },
      "text/plain": [
       "VBox(children=(Label(value='Author Network Graph'), CytoscapeWidget(cytoscape_layout={'name': 'cola'}, cytosca…"
      ]
     },
     "execution_count": 56,
     "metadata": {},
     "output_type": "execute_result"
    }
   ],
   "source": [
    "#### Step 2: Adding titles ####\n",
    "\n",
    "cyto = CytoscapeWidget() \n",
    "cyto.graph.add_graph_from_networkx(G)\n",
    "\n",
    "# Create a label for the title\n",
    "title_label = widgets.Label(value='Author Network Graph', style={'font-weight': 'bold'})\n",
    "\n",
    "# Display the widgets using a VBox layout\n",
    "widgets.VBox([title_label, cyto])"
   ]
  },
  {
   "cell_type": "code",
   "execution_count": null,
   "id": "d14a578d-cbc1-4537-b1b4-b6ce54ce53d8",
   "metadata": {},
   "outputs": [],
   "source": []
  }
 ],
 "metadata": {
  "kernelspec": {
   "display_name": "Python 3 (ipykernel)",
   "language": "python",
   "name": "python3"
  },
  "language_info": {
   "codemirror_mode": {
    "name": "ipython",
    "version": 3
   },
   "file_extension": ".py",
   "mimetype": "text/x-python",
   "name": "python",
   "nbconvert_exporter": "python",
   "pygments_lexer": "ipython3",
   "version": "3.11.3"
  }
 },
 "nbformat": 4,
 "nbformat_minor": 5
}
