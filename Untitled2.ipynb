{
 "cells": [
  {
   "cell_type": "code",
   "execution_count": 2,
   "id": "ce177699-13ca-4088-9438-f14b3f00792f",
   "metadata": {},
   "outputs": [
    {
     "data": {
      "text/plain": [
       "3"
      ]
     },
     "execution_count": 2,
     "metadata": {},
     "output_type": "execute_result"
    }
   ],
   "source": [
    "import pprint\n",
    "from fastcore.basics import patch\n",
    "import networkx as nx\n",
    "import ipywidgets as widgets\n",
    "import ipycytoscape\n",
    "from ipycytoscape import CytoscapeWidget\n",
    "\n",
    "G = nx.Graph()  # or DiGraph, MultiGraph, MultiDiGraph, etc\n",
    "G.add_node(1)\n",
    "G.add_node(\"Hello\")\n",
    "K3 = nx.Graph([(0, 1), (1, 2), (2, 0)])\n",
    "G.add_node(K3)\n",
    "G.number_of_nodes()"
   ]
  },
  {
   "cell_type": "code",
   "execution_count": 3,
   "id": "fa5ec8c0-d2e4-48ca-a072-3afc2833668b",
   "metadata": {},
   "outputs": [],
   "source": [
    "G.add_node(1, size=10)\n",
    "G.add_node(3, weight=0.4, UTM=(\"13S\", 382871, 3972649))"
   ]
  },
  {
   "cell_type": "code",
   "execution_count": 4,
   "id": "b03bb981-0e82-4c3a-ae44-e1d7e87b567b",
   "metadata": {},
   "outputs": [
    {
     "data": {
      "application/vnd.jupyter.widget-view+json": {
       "model_id": "36a59d969ad340b594dc452fb67b6504",
       "version_major": 2,
       "version_minor": 0
      },
      "text/plain": [
       "CytoscapeWidget(cytoscape_layout={'name': 'cola'}, cytoscape_style=[{'selector': 'node', 'style': {'font-famil…"
      ]
     },
     "execution_count": 4,
     "metadata": {},
     "output_type": "execute_result"
    }
   ],
   "source": [
    "import ipycytoscape as cy\n",
    "import networkx as nx\n",
    "import pandas as pd\n",
    "\n",
    "edge_data = {\n",
    "    'source': ['A', 'B', 'B', 'C'],\n",
    "    'target': ['B', 'C', 'D', 'B'],\n",
    "}\n",
    "link_df = pd.DataFrame.from_dict(edge_data)\n",
    "node_data = {\n",
    "    'id': ['A', 'B', 'C', 'D', 'E']\n",
    "}\n",
    "node_df = pd.DataFrame.from_dict(node_data)\n",
    "\n",
    "G = nx.from_pandas_edgelist(link_df)\n",
    "node_df = pd.DataFrame(G.degree(), columns=['id', 'degree'])\n",
    "nx.set_node_attributes(G, node_df.set_index('id').to_dict('index'))\n",
    "cytoscapeobj = cy.CytoscapeWidget()\n",
    "cytoscapeobj.graph.add_graph_from_networkx(G)\n",
    "\n",
    "cytoscapeobj.set_style(\n",
    "    [\n",
    "        {\n",
    "             'selector': 'node',\n",
    "             'style': {\n",
    "                 'font-family': 'helvetica',\n",
    "                 'font-size': '20px',\n",
    "                 'label': 'data(id)'\n",
    "             }\n",
    "        },\n",
    "        {\n",
    "             'selector': 'edge',\n",
    "             'style': {\n",
    "                 'font-family': 'helvetica',\n",
    "                 'font-size': '20px'\n",
    "             }\n",
    "        },\n",
    "        {\n",
    "             'selector': 'node[degree>0]',\n",
    "             'style': {\n",
    "                 'width': '100px',\n",
    "                 'height': '100px'\n",
    "             }\n",
    "        },\n",
    "        {\n",
    "             'selector': 'node[degree>1]',\n",
    "             'style': {\n",
    "                 'width': '150px',\n",
    "                 'height': '150px'\n",
    "             }\n",
    "        },\n",
    "        {\n",
    "             'selector': 'node[degree>2]',\n",
    "             'style': {\n",
    "                 'width': '200px',\n",
    "                 'height': '200px'\n",
    "             }\n",
    "        }\n",
    "    ]\n",
    ")\n",
    "cytoscapeobj"
   ]
  },
  {
   "cell_type": "code",
   "execution_count": 5,
   "id": "7f67ab32-3f0e-4fe0-ad64-d9de0144c6cd",
   "metadata": {},
   "outputs": [
    {
     "ename": "AttributeError",
     "evalue": "'CytoscapeWidget' object has no attribute 'set_node_style_property'",
     "output_type": "error",
     "traceback": [
      "\u001b[0;31m---------------------------------------------------------------------------\u001b[0m",
      "\u001b[0;31mAttributeError\u001b[0m                            Traceback (most recent call last)",
      "Cell \u001b[0;32mIn[5], line 25\u001b[0m\n\u001b[1;32m     22\u001b[0m cyto\u001b[38;5;241m.\u001b[39mgraph\u001b[38;5;241m.\u001b[39madd_graph_from_networkx(G)\n\u001b[1;32m     24\u001b[0m \u001b[38;5;66;03m# Update the node size using the set_node_size function\u001b[39;00m\n\u001b[0;32m---> 25\u001b[0m \u001b[43mcyto\u001b[49m\u001b[38;5;241;43m.\u001b[39;49m\u001b[43mset_node_style_property\u001b[49m(\u001b[38;5;124m'\u001b[39m\u001b[38;5;124mwidth\u001b[39m\u001b[38;5;124m'\u001b[39m, factory\u001b[38;5;241m=\u001b[39mset_node_size)\n\u001b[1;32m     26\u001b[0m cyto\u001b[38;5;241m.\u001b[39mset_node_style_property(\u001b[38;5;124m'\u001b[39m\u001b[38;5;124mheight\u001b[39m\u001b[38;5;124m'\u001b[39m, factory\u001b[38;5;241m=\u001b[39mset_node_size)\n\u001b[1;32m     28\u001b[0m \u001b[38;5;66;03m# Create a label for the title\u001b[39;00m\n",
      "\u001b[0;31mAttributeError\u001b[0m: 'CytoscapeWidget' object has no attribute 'set_node_style_property'"
     ]
    }
   ],
   "source": []
  },
  {
   "cell_type": "code",
   "execution_count": null,
   "id": "2d8533e6-6670-41de-9353-33097426ea58",
   "metadata": {},
   "outputs": [],
   "source": []
  }
 ],
 "metadata": {
  "kernelspec": {
   "display_name": "Python 3 (ipykernel)",
   "language": "python",
   "name": "python3"
  },
  "language_info": {
   "codemirror_mode": {
    "name": "ipython",
    "version": 3
   },
   "file_extension": ".py",
   "mimetype": "text/x-python",
   "name": "python",
   "nbconvert_exporter": "python",
   "pygments_lexer": "ipython3",
   "version": "3.11.3"
  }
 },
 "nbformat": 4,
 "nbformat_minor": 5
}
