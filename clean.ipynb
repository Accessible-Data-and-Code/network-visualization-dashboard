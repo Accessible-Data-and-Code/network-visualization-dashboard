{
 "cells": [
  {
   "cell_type": "code",
   "execution_count": 3,
   "id": "4c56246d-f3e0-4630-8366-fb68f2925d3f",
   "metadata": {},
   "outputs": [
    {
     "data": {
      "application/vnd.jupyter.widget-view+json": {
       "model_id": "ff5e72734c9742fd87d03a7cb430b32a",
       "version_major": 2,
       "version_minor": 0
      },
      "text/plain": [
       "VBox(children=(Label(value='Author Network Graph'), CytoscapeWidget(cytoscape_layout={'name': 'cola'}, cytosca…"
      ]
     },
     "execution_count": 3,
     "metadata": {},
     "output_type": "execute_result"
    }
   ],
   "source": [
    "## Import Necessary Libraries\n",
    "import pprint\n",
    "from fastcore.basics import patch\n",
    "import networkx as nx\n",
    "import matplotlib.pyplot as plt\n",
    "import ipywidgets as widgets\n",
    "import ipycytoscape\n",
    "from ipycytoscape import CytoscapeWidget\n",
    "\n",
    "## Creating Author Class\n",
    "class Author:\n",
    "    def __init__(self, first, middle, last, email=None, publications=[]):\n",
    "        self.first = first\n",
    "        self.middle = middle\n",
    "        self.last = last\n",
    "        self.email = email\n",
    "        self.publications = publications\n",
    "\n",
    "## Make format pretty\n",
    "@patch\n",
    "def __repr__(self:Author):\n",
    "    return pprint.pformat(vars(self))\n",
    "\n",
    "## Mock Dataset\n",
    "a1 = Author('A', 'B', 'Carlson', publications = [1,2,3])\n",
    "a2 = Author('B', 'C', 'Dawson', publications = [3, 4, 5 ,6])\n",
    "a3 = Author('C', 'D', 'Elfson', publications = [1, 5, 7, 8])\n",
    "a4 = Author('D', 'E', 'Fitzgerald', publications = [1, 5, 9, 10])\n",
    "a5 = Author('E', 'F', 'Gerard', publications = [4, 11, 12])\n",
    "a5\n",
    "\n",
    "authors = [a1, a2, a3, a4, a5]\n",
    "\n",
    "#### Step 1: Making sure correct matches are found between authors ####\n",
    "\n",
    "# Create the graph\n",
    "G = nx.Graph()\n",
    "\n",
    "for index_a in range(len(authors)):\n",
    "    for index_b in range(index_a + 1, len(authors)):\n",
    "        author_a = authors[index_a]\n",
    "        author_b = authors[index_b]\n",
    "\n",
    "        for publication_a in author_a.publications:\n",
    "            for publication_b in author_b.publications:\n",
    "                if publication_a == publication_b:\n",
    "                    G.add_edge(author_a, author_b)\n",
    "\n",
    "# Add nodes to the graph\n",
    "for author in authors:\n",
    "     G.add_node(author, tooltip=author.__repr__())\n",
    "\n",
    "#### Step 2: Adding titles ####\n",
    "\n",
    "cyto = CytoscapeWidget() \n",
    "cyto.graph.add_graph_from_networkx(G)\n",
    "\n",
    "# Create a label for the title\n",
    "title_label = widgets.Label(value='Author Network Graph', style={'font-weight': 'bold'})\n",
    "\n",
    "# Display the widgets using a VBox layout\n",
    "widgets.VBox([title_label, cyto])\n"
   ]
  },
  {
   "cell_type": "code",
   "execution_count": null,
   "id": "2847d5f2-bec8-4be3-8da5-cc4d281cc59d",
   "metadata": {},
   "outputs": [],
   "source": []
  }
 ],
 "metadata": {
  "kernelspec": {
   "display_name": "Python 3 (ipykernel)",
   "language": "python",
   "name": "python3"
  },
  "language_info": {
   "codemirror_mode": {
    "name": "ipython",
    "version": 3
   },
   "file_extension": ".py",
   "mimetype": "text/x-python",
   "name": "python",
   "nbconvert_exporter": "python",
   "pygments_lexer": "ipython3",
   "version": "3.11.3"
  }
 },
 "nbformat": 4,
 "nbformat_minor": 5
}
