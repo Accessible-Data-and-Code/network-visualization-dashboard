{
 "cells": [
  {
   "cell_type": "code",
   "execution_count": 1,
   "id": "cf13dded-d802-4e5a-86c3-0149b5851ff7",
   "metadata": {},
   "outputs": [],
   "source": [
    "import pprint\n",
    "from fastcore.basics import patch\n",
    "import networkx as nx\n",
    "import ipywidgets as widgets\n",
    "import ipycytoscape\n",
    "from ipycytoscape import CytoscapeWidget\n",
    "from IPython.display import display, HTML\n",
    "import pandas as pd\n",
    "from ipydatagrid import DataGrid"
   ]
  },
  {
   "cell_type": "code",
   "execution_count": 2,
   "id": "4c7ab769-e35b-463f-a2d5-59046a9896a5",
   "metadata": {},
   "outputs": [],
   "source": [
    "## Creating Author Class\n",
    "class Author:\n",
    "    def __init__(self, first, middle, last, email=None, publications=[]):\n",
    "        self.first = first\n",
    "        self.middle = middle\n",
    "        self.last = last\n",
    "        self.email = email\n",
    "        self.publications = publications\n",
    "\n",
    "## Make format pretty\n",
    "@patch\n",
    "def __repr__(self:Author):\n",
    "    return pprint.pformat(vars(self))\n"
   ]
  },
  {
   "cell_type": "code",
   "execution_count": 3,
   "id": "6c199d12-6dbc-499d-9f29-bd054ea43ed4",
   "metadata": {},
   "outputs": [],
   "source": [
    "## Mock Dataset\n",
    "a1 = Author('A', 'B', 'Carlson', publications=[1, 2, 3])\n",
    "a2 = Author('B', 'C', 'Dawson', publications=[3, 4, 5, 6])\n",
    "a3 = Author('C', 'D', 'Elfson', publications=[1, 5, 7, 8])\n",
    "a4 = Author('D', 'E', 'Fitzgerald', publications=[1, 5, 9, 10])\n",
    "a5 = Author('E', 'F', 'Gerard', publications=[4, 11, 12])\n",
    "\n",
    "authors = [a1, a2, a3, a4, a5]"
   ]
  },
  {
   "cell_type": "code",
   "execution_count": 4,
   "id": "ae72a862-958f-4b41-a436-e8a64a773fff",
   "metadata": {},
   "outputs": [
    {
     "data": {
      "application/vnd.jupyter.widget-view+json": {
       "model_id": "adcdf3c426fc45b59fbe29855443a65a",
       "version_major": 2,
       "version_minor": 0
      },
      "text/plain": [
       "DataGrid(auto_fit_params={'area': 'all', 'padding': 30, 'numCols': None}, corner_renderer=None, default_render…"
      ]
     },
     "metadata": {},
     "output_type": "display_data"
    }
   ],
   "source": [
    "## Create a list of dictionaries containing author information\n",
    "author_data = [\n",
    "    {\"first\": author.first, \"middle\": author.middle, \"last\": author.last, \"email\": author.email, \"publications\": author.publications}\n",
    "    for author in authors\n",
    "]\n",
    "\n",
    "## Create a DataFrame from the author data\n",
    "authors_df = pd.DataFrame(author_data)\n",
    "\n",
    "## Create the datagrid and display it\n",
    "datagrid = DataGrid(authors_df, editable=False, layout={\"height\": \"200px\"})\n",
    "display(datagrid)"
   ]
  },
  {
   "cell_type": "code",
   "execution_count": null,
   "id": "a355de9d-2c34-4705-a735-12750599dc6f",
   "metadata": {},
   "outputs": [],
   "source": []
  },
  {
   "cell_type": "code",
   "execution_count": null,
   "id": "f6933c69-b3b3-4b61-b6d0-247194a01bb8",
   "metadata": {},
   "outputs": [],
   "source": []
  },
  {
   "cell_type": "code",
   "execution_count": null,
   "id": "466aedd0-b2ff-49ce-a696-b04c0f29dae5",
   "metadata": {},
   "outputs": [],
   "source": []
  },
  {
   "cell_type": "code",
   "execution_count": null,
   "id": "a5f3c634-916f-4b54-a57a-a0f306365f59",
   "metadata": {},
   "outputs": [],
   "source": []
  },
  {
   "cell_type": "code",
   "execution_count": null,
   "id": "623b0506-a9fd-4ef5-ab73-3922a6641450",
   "metadata": {},
   "outputs": [],
   "source": []
  }
 ],
 "metadata": {
  "kernelspec": {
   "display_name": "Python 3 (ipykernel)",
   "language": "python",
   "name": "python3"
  },
  "language_info": {
   "codemirror_mode": {
    "name": "ipython",
    "version": 3
   },
   "file_extension": ".py",
   "mimetype": "text/x-python",
   "name": "python",
   "nbconvert_exporter": "python",
   "pygments_lexer": "ipython3",
   "version": "3.11.3"
  }
 },
 "nbformat": 4,
 "nbformat_minor": 5
}
