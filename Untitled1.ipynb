{
 "cells": [
  {
   "cell_type": "code",
   "execution_count": 6,
   "id": "305af152-1e71-4206-b8ef-c7c51b6a1960",
   "metadata": {},
   "outputs": [
    {
     "ename": "TypeError",
     "evalue": "Graph.add_node() got an unexpected keyword argument 'data'",
     "output_type": "error",
     "traceback": [
      "\u001b[0;31m---------------------------------------------------------------------------\u001b[0m",
      "\u001b[0;31mTypeError\u001b[0m                                 Traceback (most recent call last)",
      "Cell \u001b[0;32mIn[6], line 59\u001b[0m\n\u001b[1;32m     57\u001b[0m node_id \u001b[38;5;241m=\u001b[39m node\u001b[38;5;241m.\u001b[39mfirst \u001b[38;5;241m+\u001b[39m node\u001b[38;5;241m.\u001b[39mlast\n\u001b[1;32m     58\u001b[0m node_size \u001b[38;5;241m=\u001b[39m node_sizes[node]\n\u001b[0;32m---> 59\u001b[0m \u001b[43mcyto\u001b[49m\u001b[38;5;241;43m.\u001b[39;49m\u001b[43mgraph\u001b[49m\u001b[38;5;241;43m.\u001b[39;49m\u001b[43madd_node\u001b[49m\u001b[43m(\u001b[49m\u001b[43mdata\u001b[49m\u001b[38;5;241;43m=\u001b[39;49m\u001b[43m{\u001b[49m\u001b[38;5;124;43m'\u001b[39;49m\u001b[38;5;124;43mid\u001b[39;49m\u001b[38;5;124;43m'\u001b[39;49m\u001b[43m:\u001b[49m\u001b[43m \u001b[49m\u001b[43mnode_id\u001b[49m\u001b[43m,\u001b[49m\u001b[43m \u001b[49m\u001b[38;5;124;43m'\u001b[39;49m\u001b[38;5;124;43mlabel\u001b[39;49m\u001b[38;5;124;43m'\u001b[39;49m\u001b[43m:\u001b[49m\u001b[43m \u001b[49m\u001b[43mnode_id\u001b[49m\u001b[43m}\u001b[49m\u001b[43m)\u001b[49m\n\u001b[1;32m     60\u001b[0m cyto\u001b[38;5;241m.\u001b[39mset_node_style(node_id, \u001b[38;5;124m'\u001b[39m\u001b[38;5;124mwidth\u001b[39m\u001b[38;5;124m'\u001b[39m, node_size)\n\u001b[1;32m     61\u001b[0m cyto\u001b[38;5;241m.\u001b[39mset_node_style(node_id, \u001b[38;5;124m'\u001b[39m\u001b[38;5;124mheight\u001b[39m\u001b[38;5;124m'\u001b[39m, node_size)\n",
      "\u001b[0;31mTypeError\u001b[0m: Graph.add_node() got an unexpected keyword argument 'data'"
     ]
    }
   ],
   "source": [
    "import pprint\n",
    "from fastcore.basics import patch\n",
    "import networkx as nx\n",
    "import ipywidgets as widgets\n",
    "import ipycytoscape\n",
    "from ipycytoscape import CytoscapeWidget\n",
    "\n",
    "## Creating Author Class\n",
    "class Author:\n",
    "    def __init__(self, first, middle, last, email=None, publications=[]):\n",
    "        self.first = first\n",
    "        self.middle = middle\n",
    "        self.last = last\n",
    "        self.email = email\n",
    "        self.publications = publications\n",
    "\n",
    "## Make format pretty\n",
    "@patch\n",
    "def __repr__(self:Author):\n",
    "    return pprint.pformat(vars(self))\n",
    "\n",
    "## Mock Dataset\n",
    "a1 = Author('A', 'B', 'Carlson', publications=[1, 2, 3])\n",
    "a2 = Author('B', 'C', 'Dawson', publications=[3, 4, 5, 6])\n",
    "a3 = Author('C', 'D', 'Elfson', publications=[1, 5, 7, 8])\n",
    "a4 = Author('D', 'E', 'Fitzgerald', publications=[1, 5, 9, 10])\n",
    "a5 = Author('E', 'F', 'Gerard', publications=[4, 11, 12])\n",
    "\n",
    "authors = [a1, a2, a3, a4, a5]\n",
    "\n",
    "# Create the graph\n",
    "G = nx.Graph()\n",
    "\n",
    "# Add nodes to the graph\n",
    "for author in authors:\n",
    "    G.add_node(author)\n",
    "\n",
    "# Set node size based on the number of publications (shared publications will increase the size)\n",
    "node_sizes = {author: max(10, 10 + len(author.publications) * 5) for author in G.nodes}\n",
    "\n",
    "#### Step 2: Add edges to the graph based on publication matches ####\n",
    "\n",
    "for index_a in range(len(authors)):\n",
    "    for index_b in range(index_a + 1, len(authors)):\n",
    "        author_a = authors[index_a]\n",
    "        author_b = authors[index_b]\n",
    "\n",
    "        for publication_a in author_a.publications:\n",
    "            for publication_b in author_b.publications:\n",
    "                if publication_a == publication_b:\n",
    "                    G.add_edge(author_a, author_b)\n",
    "\n",
    "cyto = CytoscapeWidget()\n",
    "\n",
    "# Add the nodes to the Cytoscape graph and set node size using 'set_node_style'\n",
    "for node in G.nodes:\n",
    "    node_id = node.first + node.last\n",
    "    node_size = node_sizes[node]\n",
    "    cyto.graph.add_node(data={'id': node_id, 'label': node_id})\n",
    "    cyto.set_node_style(node_id, 'width', node_size)\n",
    "    cyto.set_node_style(node_id, 'height', node_size)\n",
    "\n",
    "# Add the edges to the Cytoscape graph\n",
    "cyto.graph.add_edges_from(G.edges())\n",
    "\n",
    "##title\n",
    "title_label = widgets.Label(value='Author Network Graph', style={'font-weight': 'bold'})\n",
    "\n",
    "# Dropdown widget to switch between types of nodes\n",
    "dropdown = widgets.Dropdown(options=['Authors', 'Publications'], value='Authors', description='Node Mode:')\n"
   ]
  },
  {
   "cell_type": "code",
   "execution_count": null,
   "id": "0863a567-3bd4-4c4f-b308-53fe34f5baca",
   "metadata": {},
   "outputs": [],
   "source": []
  }
 ],
 "metadata": {
  "kernelspec": {
   "display_name": "Python 3 (ipykernel)",
   "language": "python",
   "name": "python3"
  },
  "language_info": {
   "codemirror_mode": {
    "name": "ipython",
    "version": 3
   },
   "file_extension": ".py",
   "mimetype": "text/x-python",
   "name": "python",
   "nbconvert_exporter": "python",
   "pygments_lexer": "ipython3",
   "version": "3.11.3"
  }
 },
 "nbformat": 4,
 "nbformat_minor": 5
}
