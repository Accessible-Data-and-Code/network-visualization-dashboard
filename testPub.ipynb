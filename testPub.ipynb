{
 "cells": [
  {
   "cell_type": "markdown",
   "id": "d1cb5294-cb2c-4a5a-9299-408a56caf8f8",
   "metadata": {},
   "source": [
    "## Setup "
   ]
  },
  {
   "cell_type": "code",
   "execution_count": 1,
   "id": "00e465c6-6602-44f3-b28b-a036ee9b331d",
   "metadata": {},
   "outputs": [],
   "source": [
    "## Import Necessary Libraries\n",
    "import pprint\n",
    "from fastcore.basics import patch\n",
    "import networkx as nx\n",
    "import matplotlib.pyplot as plt\n",
    "import ipywidgets as widgets\n",
    "import ipycytoscape\n",
    "from ipycytoscape import CytoscapeWidget"
   ]
  },
  {
   "cell_type": "code",
   "execution_count": 2,
   "id": "8b728c85-fb5f-49f8-a8fb-e666973dcd8d",
   "metadata": {},
   "outputs": [],
   "source": [
    "## Creating Author Class\n",
    "class Author:\n",
    "    def __init__(self, first, middle, last, email=None, publications=[]):\n",
    "        self.first = first\n",
    "        self.middle = middle\n",
    "        self.last = last\n",
    "        self.email = email\n",
    "        self.publications = publications"
   ]
  },
  {
   "cell_type": "code",
   "execution_count": 3,
   "id": "6c1a2978-98ab-4558-bc9d-10d42b5f1ce0",
   "metadata": {},
   "outputs": [],
   "source": [
    "## Make format pretty\n",
    "@patch\n",
    "def __repr__(self:Author):\n",
    "    return pprint.pformat(vars(self))"
   ]
  },
  {
   "cell_type": "code",
   "execution_count": 4,
   "id": "67298bd7-a8e1-402a-b3ee-89c247f25290",
   "metadata": {},
   "outputs": [],
   "source": [
    "## Mock Dataset\n",
    "a1 = Author('A', 'B', 'Carlson', publications = [1,2,3])\n",
    "a2 = Author('B', 'C', 'Dawson', publications = [3, 4, 5 ,6])\n",
    "a3 = Author('C', 'D', 'Elfson', publications = [1, 5, 7, 8])\n",
    "a4 = Author('D', 'E', 'Fitzgerald', publications = [1, 5, 9, 10])\n",
    "a5 = Author('E', 'F', 'Gerard', publications = [4, 11, 12])\n",
    "a5\n",
    "\n",
    "authors = [a1, a2, a3, a4, a5]\n",
    "\n",
    "# Create the graph\n",
    "G = nx.Graph()\n"
   ]
  },
  {
   "cell_type": "markdown",
   "id": "82950a07-4521-4947-8fe4-14c82679cc14",
   "metadata": {},
   "source": [
    "### Creating Nodes and Edges"
   ]
  },
  {
   "cell_type": "code",
   "execution_count": 5,
   "id": "51adc229-ca77-49ec-b6ab-00b1a8bb5b1d",
   "metadata": {},
   "outputs": [],
   "source": [
    "# Add nodes to the graph\n",
    "for author in authors:\n",
    "    G.add_node(author)"
   ]
  },
  {
   "cell_type": "code",
   "execution_count": 6,
   "id": "ddff6638-8046-4b7e-a9e3-80c40ee11671",
   "metadata": {},
   "outputs": [],
   "source": [
    "#### Step 2: Add edges to the graph based on publication matches ####\n",
    "\n",
    "for index_a in range(len(authors)):\n",
    "    for index_b in range(index_a + 1, len(authors)):\n",
    "        author_a = authors[index_a]\n",
    "        author_b = authors[index_b]\n",
    "\n",
    "        for publication_a in author_a.publications:\n",
    "            for publication_b in author_b.publications:\n",
    "                if publication_a == publication_b:\n",
    "                    G.add_edge(author_a, author_b)"
   ]
  },
  {
   "cell_type": "code",
   "execution_count": 7,
   "id": "851454c8-4fac-4ba4-a0e0-875d435fb6f7",
   "metadata": {},
   "outputs": [],
   "source": [
    "# Define the graph with authors as nodes\n",
    "G_authors = nx.Graph()\n",
    "for index_a in range(len(authors)):\n",
    "    for index_b in range(index_a + 1, len(authors)):\n",
    "        author_a = authors[index_a]\n",
    "        author_b = authors[index_b]\n",
    "\n",
    "        for publication_a in author_a.publications:\n",
    "            for publication_b in author_b.publications:\n",
    "                if publication_a == publication_b:\n",
    "                    G.add_edge(author_a, author_b)\n",
    "\n",
    "# Define the graph with publications as nodes\n",
    "G_publications = nx.Graph()\n",
    "for index_a, author_a in enumerate(authors):\n",
    "    for index_b, author_b in enumerate(authors):\n",
    "        if index_a != index_b:\n",
    "            for publication_a in author_a.publications:\n",
    "                if publication_a in author_b.publications:\n",
    "                    G_publications.add_edge(publication_a, publication_a)\n"
   ]
  },
  {
   "cell_type": "markdown",
   "id": "7db7786a-7741-4127-b743-4849cea96e6f",
   "metadata": {},
   "source": [
    "## Graph"
   ]
  },
  {
   "cell_type": "code",
   "execution_count": 8,
   "id": "400ff84d-2cdb-4720-8a4a-7d89777fc8ab",
   "metadata": {},
   "outputs": [
    {
     "data": {
      "application/vnd.jupyter.widget-view+json": {
       "model_id": "e07e5dfd97514b189e02c444acfea4d7",
       "version_major": 2,
       "version_minor": 0
      },
      "text/plain": [
       "VBox(children=(Label(value='Author Network Graph'), Dropdown(description='Node Mode:', options=('Authors', 'Pu…"
      ]
     },
     "execution_count": 8,
     "metadata": {},
     "output_type": "execute_result"
    }
   ],
   "source": [
    "#### Step 3: Interchange Options ####\n",
    "\n",
    "cyto = CytoscapeWidget()\n",
    "cyto.graph.add_graph_from_networkx(G)\n",
    "\n",
    "##title\n",
    "title_label = widgets.Label(value='Author Network Graph', style={'font-weight': 'bold'})\n",
    "\n",
    "# Dropdown widget to switch between types of nodes\n",
    "dropdown = widgets.Dropdown(options=['Authors', 'Publications'], value='Authors', description='Node Mode:')\n",
    "\n",
    "def update_graph(change):\n",
    "    selected_mode = dropdown.value\n",
    "    if selected_mode == 'Authors':\n",
    "        cyto.graph.clear()\n",
    "        cyto.graph.add_graph_from_networkx(G_authors)\n",
    "    if selected_mode == 'Publications':\n",
    "        cyto.graph.clear()\n",
    "        cyto.graph.add_graph_from_networkx(G_publications)\n",
    "\n",
    "# Register the event handler for the dropdown\n",
    "dropdown.observe(update_graph, names='value')\n",
    "\n",
    "# Display the widgets using a VBox layout\n",
    "widgets.VBox([title_label, dropdown, cyto])\n"
   ]
  },
  {
   "cell_type": "code",
   "execution_count": 9,
   "id": "d14a578d-cbc1-4537-b1b4-b6ce54ce53d8",
   "metadata": {},
   "outputs": [
    {
     "data": {
      "application/vnd.jupyter.widget-view+json": {
       "model_id": "dbba1791110440f5a8e08805c58470cd",
       "version_major": 2,
       "version_minor": 0
      },
      "text/plain": [
       "GridBox(children=(HTML(value=\"<pre>[{'email': None,\\n 'first': 'A',\\n 'last': 'Carlson',\\n 'middle': 'B',\\n 'p…"
      ]
     },
     "execution_count": 9,
     "metadata": {},
     "output_type": "execute_result"
    }
   ],
   "source": [
    "# Create the cytoscape widget\n",
    "cyto = CytoscapeWidget()\n",
    "\n",
    "# Set the default graph as G_authors\n",
    "cyto.graph.add_graph_from_networkx(G_authors)\n",
    "\n",
    "# Create the dataset widget\n",
    "dataset_widget = widgets.HTML(value=\"<pre>{}</pre>\".format(pprint.pformat(authors)))\n",
    "\n",
    "# Create the grid layout\n",
    "grid = widgets.GridBox([dataset_widget, cyto], layout=widgets.Layout(grid_template_columns=\"50% 50%\"))\n",
    "\n",
    "# Set the column widths to ensure proper layout\n",
    "grid.children[0].layout.width = \"100%\"\n",
    "\n",
    "# Display the grid layout\n",
    "grid"
   ]
  },
  {
   "cell_type": "code",
   "execution_count": null,
   "id": "7db94bb2-c49e-42ff-8131-d09910fec895",
   "metadata": {},
   "outputs": [],
   "source": []
  }
 ],
 "metadata": {
  "kernelspec": {
   "display_name": "Python 3 (ipykernel)",
   "language": "python",
   "name": "python3"
  },
  "language_info": {
   "codemirror_mode": {
    "name": "ipython",
    "version": 3
   },
   "file_extension": ".py",
   "mimetype": "text/x-python",
   "name": "python",
   "nbconvert_exporter": "python",
   "pygments_lexer": "ipython3",
   "version": "3.11.3"
  }
 },
 "nbformat": 4,
 "nbformat_minor": 5
}
