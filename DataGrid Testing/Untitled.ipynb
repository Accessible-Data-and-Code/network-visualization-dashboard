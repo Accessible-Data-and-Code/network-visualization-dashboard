{
 "cells": [
  {
   "cell_type": "code",
   "execution_count": 2,
   "id": "6b24638b-41a4-475f-aac6-619d806121d7",
   "metadata": {},
   "outputs": [
    {
     "data": {
      "application/vnd.jupyter.widget-view+json": {
       "model_id": "5c55f3e359174f7f9bbc9da13037c452",
       "version_major": 2,
       "version_minor": 0
      },
      "text/plain": [
       "DataGrid(auto_fit_params={'area': 'all', 'padding': 30, 'numCols': None}, corner_renderer=None, default_render…"
      ]
     },
     "execution_count": 2,
     "metadata": {},
     "output_type": "execute_result"
    }
   ],
   "source": [
    "from ipydatagrid import DataGrid\n",
    "from json import load\n",
    "import pandas as pd\n",
    "\n",
    "with open(\"./cars.json\") as fobj:\n",
    "    data = load(fobj)\n",
    "\n",
    "df = pd.DataFrame(data[\"data\"]).drop(\"index\", axis=1)\n",
    "\n",
    "datagrid = DataGrid(df, selection_mode=\"cell\")\n",
    "datagrid"
   ]
  },
  {
   "cell_type": "code",
   "execution_count": null,
   "id": "d8376bde-147d-4226-bbfb-6171e7537dda",
   "metadata": {},
   "outputs": [],
   "source": []
  }
 ],
 "metadata": {
  "kernelspec": {
   "display_name": "Python 3 (ipykernel)",
   "language": "python",
   "name": "python3"
  },
  "language_info": {
   "codemirror_mode": {
    "name": "ipython",
    "version": 3
   },
   "file_extension": ".py",
   "mimetype": "text/x-python",
   "name": "python",
   "nbconvert_exporter": "python",
   "pygments_lexer": "ipython3",
   "version": "3.8.17"
  }
 },
 "nbformat": 4,
 "nbformat_minor": 5
}
